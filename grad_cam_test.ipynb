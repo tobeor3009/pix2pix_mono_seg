{
 "cells": [
  {
   "cell_type": "code",
   "execution_count": 1,
   "metadata": {},
   "outputs": [
    {
     "name": "stdout",
     "output_type": "stream",
     "text": [
      "[PhysicalDevice(name='/physical_device:GPU:0', device_type='GPU')]\n"
     ]
    }
   ],
   "source": [
    "import os\n",
    "\n",
    "import tensorflow as tf\n",
    "import tensorflow.keras.backend as K\n",
    "import numpy as np\n",
    "\n",
    "gpu_on = True\n",
    "\n",
    "if gpu_on :\n",
    "    os.environ['CUDA_VISIBLE_DEVICES'] = '0'\n",
    "    gpu_devices = tf.config.experimental.list_physical_devices(\"GPU\")\n",
    "    for device in gpu_devices:\n",
    "        tf.config.experimental.set_memory_growth(device, True)\n",
    "else:\n",
    "    os.environ['CUDA_VISIBLE_DEVICES'] = '-1'\n",
    "    gpu_devices = tf.config.experimental.list_physical_devices(\"CPU\")\n",
    "\n",
    "print(gpu_devices)"
   ]
  },
  {
   "cell_type": "code",
   "execution_count": 2,
   "metadata": {
    "scrolled": true
   },
   "outputs": [],
   "source": [
    "from gan_module.data_loader.classification import ClassifyDataloader\n",
    "from glob import glob\n",
    "\n",
    "data_set_name = \"concreate_crack\"\n",
    "batch_size = 32\n",
    "\n",
    "train_image_path = glob(f\"./datasets/{data_set_name}/*/*.jpg\")\n",
    "label_list = os.listdir(f\"./datasets/{data_set_name}/\")\n",
    "label_to_index_dict = {label:index for index, label in enumerate(label_list)}\n",
    "index_to_label_dict = {index:label for index, label in enumerate(label_list)}\n",
    "train_data_loader = ClassifyDataloader(image_path_list=train_image_path,\n",
    "                                       label_to_index_dict = label_to_index_dict,\n",
    "                                       batch_size = 32,\n",
    "                                       shuffle=True\n",
    ")"
   ]
  },
  {
   "cell_type": "code",
   "execution_count": 3,
   "metadata": {},
   "outputs": [],
   "source": [
    "from tensorflow.keras.applications import InceptionV3, ResNet50V2\n",
    "from tensorflow.keras.models import Model\n",
    "from tensorflow.keras.layers import Dense, GlobalAveragePooling2D \n",
    "from tensorflow.keras.activations import sigmoid\n",
    "\n",
    "loss_function = tf.keras.losses.BinaryCrossentropy(label_smoothing=0.05)\n",
    "base_model = ResNet50V2(\n",
    "    include_top=False,\n",
    "    weights=None,\n",
    "    input_tensor=None,\n",
    "    input_shape=train_data_loader.source_data_shape,\n",
    "    classes=None,\n",
    "    pooling=None,\n",
    "    classifier_activation=None\n",
    ")\n",
    "\n",
    "gap_passed = GlobalAveragePooling2D()(base_model.output)\n",
    "dense_passed = Dense(units=train_data_loader.num_classes, activation=\"sigmoid\")(gap_passed)\n",
    "\n",
    "model = Model(base_model.inputs, dense_passed)"
   ]
  },
  {
   "cell_type": "code",
   "execution_count": 4,
   "metadata": {},
   "outputs": [],
   "source": [
    "from tensorflow.keras.callbacks import ModelCheckpoint\n",
    "from tensorflow.keras.callbacks import ReduceLROnPlateau\n",
    "from tensorflow.keras.callbacks import CSVLogger\n",
    "from tensorflow.keras.optimizers import Nadam\n",
    "\n",
    "optimizer = Nadam(1e-3, clipnorm=1)\n",
    "\n",
    "# save_c = ModelCheckpoint(\n",
    "#     \"./U_net/weights_{epoch:02d}_{loss:.4f}.hdf5\",\n",
    "#     monitor='val_loss',\n",
    "#     verbose=0,\n",
    "#     save_best_only=False,\n",
    "#     save_weights_only=True,\n",
    "#     mode='min')\n",
    "\n",
    "save_c = ModelCheckpoint(\n",
    "    \"./U_net/weights_{epoch:02d}_{loss:.4f}.hdf5\",\n",
    "    monitor='loss',\n",
    "    verbose=0,\n",
    "    save_best_only=False,\n",
    "    save_weights_only=True,\n",
    "    mode='min')\n",
    "\n",
    "\n",
    "reduceLROnPlat = ReduceLROnPlateau(\n",
    "    monitor=\"val_loss\",\n",
    "    factor=0.1,\n",
    "    patience=10,\n",
    "    verbose=1,\n",
    "    mode=\"auto\",\n",
    "    min_delta=0.0001,\n",
    "    cooldown=5,\n",
    "    min_lr=1e-9)\n",
    "csv_logger = CSVLogger('./U_net/log.csv', append=False, separator=',')\n",
    "\n",
    "model.compile(optimizer=optimizer, loss=loss_function, metrics=['accuracy'])"
   ]
  },
  {
   "cell_type": "code",
   "execution_count": null,
   "metadata": {},
   "outputs": [
    {
     "name": "stdout",
     "output_type": "stream",
     "text": [
      "Epoch 1/200\n",
      "1250/1250 [==============================] - 338s 258ms/step - loss: 0.1826 - accuracy: 0.9656\n",
      "WARNING:tensorflow:Learning rate reduction is conditioned on metric `val_loss` which is not available. Available metrics are: loss,accuracy,lr\n",
      "Epoch 2/200\n",
      "1250/1250 [==============================] - 323s 259ms/step - loss: 0.1316 - accuracy: 0.9983\n",
      "WARNING:tensorflow:Learning rate reduction is conditioned on metric `val_loss` which is not available. Available metrics are: loss,accuracy,lr\n",
      "Epoch 3/200\n",
      "1250/1250 [==============================] - 322s 257ms/step - loss: 0.1274 - accuracy: 0.9981\n",
      "WARNING:tensorflow:Learning rate reduction is conditioned on metric `val_loss` which is not available. Available metrics are: loss,accuracy,lr\n",
      "Epoch 4/200\n",
      "1250/1250 [==============================] - 318s 254ms/step - loss: 0.1216 - accuracy: 0.9998\n",
      "WARNING:tensorflow:Learning rate reduction is conditioned on metric `val_loss` which is not available. Available metrics are: loss,accuracy,lr\n",
      "Epoch 5/200\n",
      "1250/1250 [==============================] - 319s 255ms/step - loss: 0.1214 - accuracy: 0.9998\n",
      "WARNING:tensorflow:Learning rate reduction is conditioned on metric `val_loss` which is not available. Available metrics are: loss,accuracy,lr\n",
      "Epoch 6/200\n",
      "1250/1250 [==============================] - 319s 255ms/step - loss: 0.1201 - accuracy: 0.9998\n",
      "WARNING:tensorflow:Learning rate reduction is conditioned on metric `val_loss` which is not available. Available metrics are: loss,accuracy,lr\n",
      "Epoch 7/200\n",
      "1250/1250 [==============================] - 318s 254ms/step - loss: 0.1224 - accuracy: 0.9985\n",
      "WARNING:tensorflow:Learning rate reduction is conditioned on metric `val_loss` which is not available. Available metrics are: loss,accuracy,lr\n",
      "Epoch 8/200\n",
      "1250/1250 [==============================] - 318s 254ms/step - loss: 0.1194 - accuracy: 1.0000\n",
      "WARNING:tensorflow:Learning rate reduction is conditioned on metric `val_loss` which is not available. Available metrics are: loss,accuracy,lr\n",
      "Epoch 9/200\n",
      "1250/1250 [==============================] - 318s 254ms/step - loss: 0.1198 - accuracy: 0.9998\n",
      "WARNING:tensorflow:Learning rate reduction is conditioned on metric `val_loss` which is not available. Available metrics are: loss,accuracy,lr\n",
      "Epoch 10/200\n",
      "1250/1250 [==============================] - 318s 254ms/step - loss: 0.1180 - accuracy: 1.0000\n",
      "WARNING:tensorflow:Learning rate reduction is conditioned on metric `val_loss` which is not available. Available metrics are: loss,accuracy,lr\n",
      "Epoch 11/200\n",
      "1250/1250 [==============================] - 318s 254ms/step - loss: 0.1206 - accuracy: 0.9998\n",
      "WARNING:tensorflow:Learning rate reduction is conditioned on metric `val_loss` which is not available. Available metrics are: loss,accuracy,lr\n",
      "Epoch 12/200\n",
      " 906/1250 [====================>.........] - ETA: 1:28 - loss: 0.1178 - accuracy: 1.0000"
     ]
    }
   ],
   "source": [
    "start_epoch = 0\n",
    "epochs = 200\n",
    "\n",
    "model.fit(\n",
    "    train_data_loader,\n",
    "#     validation_data=self.valid_data_loader,\n",
    "    epochs=epochs,\n",
    "    callbacks=[reduceLROnPlat, save_c, csv_logger],\n",
    "    initial_epoch=start_epoch\n",
    ")"
   ]
  },
  {
   "cell_type": "code",
   "execution_count": null,
   "metadata": {},
   "outputs": [],
   "source": []
  }
 ],
 "metadata": {
  "kernelspec": {
   "display_name": "Python 3",
   "language": "python",
   "name": "python3"
  },
  "language_info": {
   "codemirror_mode": {
    "name": "ipython",
    "version": 3
   },
   "file_extension": ".py",
   "mimetype": "text/x-python",
   "name": "python",
   "nbconvert_exporter": "python",
   "pygments_lexer": "ipython3",
   "version": "3.8.8"
  }
 },
 "nbformat": 4,
 "nbformat_minor": 4
}
