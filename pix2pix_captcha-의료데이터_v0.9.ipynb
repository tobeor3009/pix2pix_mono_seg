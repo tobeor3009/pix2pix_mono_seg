{
 "cells": [
  {
   "cell_type": "code",
   "execution_count": 1,
   "metadata": {},
   "outputs": [
    {
     "name": "stdout",
     "output_type": "stream",
     "text": [
      "Segmentation Models: using `tf.keras` framework.\n"
     ]
    }
   ],
   "source": [
    "# TBD 1 : logger 추가\n",
    "# TBD 2: flask github 참고, method, class, 파일의 맨 윗단 마다 pydoc 형식으로 달기\n",
    "# TBD 3: 축약어를 자제할것 (특히 변수)\n",
    "\n",
    "# -------------------------\n",
    "#   To-do\n",
    "# -------------------------\n",
    "\n",
    "# 0. add data-setter, receiver system use python queue.Queue() class\n",
    "# this will resolve i/o bottleneck\n",
    "# 1. add logger\n",
    "# 2. make image drawer overlay mask on image\n",
    "# 3. make iterable\n",
    "# 4. make verbose turn on and off\n",
    "# 5. write pydoc\n",
    "\n",
    "# python basic Module\n",
    "import os\n",
    "import sys\n",
    "import types\n",
    "import progressbar\n",
    "from datetime import datetime\n",
    "from shutil import copy\n",
    "from pickle import dump, load\n",
    "\n",
    "# math, image, plot Module\n",
    "import numpy as np\n",
    "import cv2\n",
    "import matplotlib.pyplot as plt  # TBD\n",
    "\n",
    "# tensorflow Module\n",
    "import tensorflow as tf\n",
    "from tensorflow.keras import backend as keras_backend\n",
    "from tensorflow.keras.layers import GaussianNoise\n",
    "from tensorflow.keras.layers import Input, Concatenate\n",
    "from tensorflow.keras.layers import Conv2D\n",
    "from tensorflow.keras.models import Sequential, Model\n",
    "from tensorflow.keras.optimizers import Nadam\n",
    "from tensorflow.keras.initializers import RandomNormal\n",
    "from tensorflow.keras import losses\n",
    "\n",
    "# keras segmentaion third-party Moudle\n",
    "import segmentation_models as sm\n",
    "\n",
    "# custom Module\n",
    "from gan_module.data_loader.medical_segmentation_data_loader import DataLoader\n",
    "from gan_module.data_loader.manage_batch import BatchQueueManager\n",
    "\n",
    "from gan_module.model.build_model import build_generator, build_discriminator\n",
    "from gan_module.util.draw_images import ImageDrawer\n",
    "from gan_module.custom_loss import f1_loss_for_training, f1_score, dice_loss_for_training, jaccard_coef_loss_for_training\n",
    "from gan_module.util.manage_learning_rate import learning_rate_scheduler\n",
    "\n",
    "gpu_on = True\n",
    "\n",
    "if gpu_on:\n",
    "    os.environ['CUDA_VISIBLE_DEVICES'] = '0'\n",
    "    gpu_devices = tf.config.experimental.list_physical_devices(\"GPU\")\n",
    "    for device in gpu_devices:\n",
    "        tf.config.experimental.set_memory_growth(device, True)\n",
    "else:\n",
    "    os.environ['CUDA_VISIBLE_DEVICES'] = '-1'\n",
    "\n",
    "\n",
    "class Pix2PixSegmentation:\n",
    "    def __init__(\n",
    "        self,\n",
    "        generator_power=32,\n",
    "        discriminator_power=32,\n",
    "        generator_learning_rate=1e-4,\n",
    "        discriminator_learning_rate=1e-4,\n",
    "        find_error=False,\n",
    "        temp_weights_path=\".\",\n",
    "        draw_images=True,\n",
    "        on_memory=True,\n",
    "        test=False\n",
    "    ):\n",
    "        # Input shape\n",
    "        self.img_rows = 512\n",
    "        self.img_cols = 512\n",
    "        self.input_channels = 3\n",
    "        self.output_channels = 1\n",
    "        self.input_img_shape = (\n",
    "            self.img_rows, self.img_cols, self.input_channels)\n",
    "        self.output_img_shape = (\n",
    "            self.img_rows, self.img_cols, self.output_channels)\n",
    "        # set parameter\n",
    "        self.start_epoch = None\n",
    "        self.history = {\"generator_loss\": [],\n",
    "                        \"f1_score_train\": [], \"f1_score_valid\": []}\n",
    "        self.f1_loss_ratio = 100\n",
    "        self.find_error = find_error\n",
    "        self.find_error_epoch = 30\n",
    "        self.error_list = []\n",
    "        self.temp_weights_path = temp_weights_path\n",
    "\n",
    "        # Configure data loader\n",
    "        self.dataset_name = \"tumor\"\n",
    "        self.data_loader = DataLoader(\n",
    "            dataset_name=self.dataset_name,\n",
    "            img_res=(self.img_rows, self.img_cols),\n",
    "            on_memory=on_memory, test=test\n",
    "        )\n",
    "\n",
    "        self.loaded_data_index = {\n",
    "            \"train\": np.arange(self.data_loader.data_length[\"train\"]),\n",
    "            \"valid\": np.arange(self.data_loader.data_length[\"valid\"])\n",
    "        }\n",
    "\n",
    "        # Configure Image Drawer\n",
    "        self.draw_images = draw_images\n",
    "        self.image_drawer = ImageDrawer(\n",
    "            dataset_name=self.dataset_name, data_loader=self.data_loader\n",
    "        )\n",
    "        self.discriminator_acc_previous = 0.5\n",
    "        self.discriminator_acces = np.array(\n",
    "            [0.5 for _ in range(self.data_loader.data_length[\"train\"])])\n",
    "        self.discriminator_acces_previous = self.discriminator_acces.copy()\n",
    "        self.generator_losses = np.array(\n",
    "            [1 for _ in range(self.data_loader.data_length[\"train\"])], dtype=np.float32)\n",
    "        self.generator_losses_previous = self.generator_losses.copy()\n",
    "        self.generator_loss_min = 500\n",
    "        self.generator_loss_previous = 100\n",
    "        self.generator_loss_max_previous = 1000\n",
    "        self.generator_loss_max_min = 1000\n",
    "        self.generator_loss_min_min = 1000\n",
    "        self.weight_save_stack = False\n",
    "        self.training_end_stack = 0\n",
    "        # Calculate output shape of D (PatchGAN)\n",
    "        patch = int(self.img_rows / 2 ** 2)\n",
    "        self.disc_patch = (patch, patch, 1)\n",
    "\n",
    "        # Number of filters in the first layer of G and D\n",
    "        self.generator_power = generator_power\n",
    "        self.discriminator_power = discriminator_power\n",
    "        self.generator_learning_rate = generator_learning_rate\n",
    "        self.discriminator_learning_rate = discriminator_learning_rate\n",
    "        generator_optimizer = Nadam(self.generator_learning_rate)\n",
    "        discriminator_optimizer = Nadam(self.discriminator_learning_rate)\n",
    "\n",
    "        # layer Component\n",
    "        self.kernel_initializer = RandomNormal(mean=0.0, stddev=0.02)\n",
    "\n",
    "        # Build the generator\n",
    "        self.generator = build_generator(\n",
    "            input_img_shape=self.input_img_shape,\n",
    "            output_channels=self.output_channels,\n",
    "            generator_power=self.generator_power,\n",
    "            kernel_initializer=self.kernel_initializer,\n",
    "        )\n",
    "        # Build and compile the discriminator\n",
    "        self.discriminator = build_discriminator(\n",
    "            input_img_shape=self.input_img_shape,\n",
    "            output_img_shape=self.output_img_shape,\n",
    "            discriminator_power=self.discriminator_power,\n",
    "            kernel_initializer=self.kernel_initializer,\n",
    "        )\n",
    "        # self.discriminator = self.build_discriminator()\n",
    "        # 'mse' or tf.keras.losses.Huber() tf.keras.losses.LogCosh()\n",
    "        self.discriminator.compile(\n",
    "            loss=tf.keras.losses.LogCosh(),\n",
    "            optimizer=discriminator_optimizer,\n",
    "            metrics=[\"accuracy\"],\n",
    "        )\n",
    "\n",
    "        # -------------------------\n",
    "        # Construct Computational\n",
    "        #   Graph of Generator\n",
    "        # -------------------------\n",
    "\n",
    "        # Input images and their conditioning images\n",
    "        original_img = Input(shape=self.input_img_shape)\n",
    "        masked_img = Input(shape=self.output_img_shape)\n",
    "        # generate image from original_img for target masked_img\n",
    "        model_masked_img = self.generator(original_img)\n",
    "\n",
    "        # For the combined model we will only train the generator\n",
    "        self.discriminator.trainable = False\n",
    "        # Discriminators determines validity of translated images / condition pairs\n",
    "        model_validity = self.discriminator([original_img, model_masked_img])\n",
    "        # give score by\n",
    "        # 1. how generator trick discriminator\n",
    "        # 2. how generator's image same as real photo in pixel\n",
    "        # 3. if you want change loss, see doc https://keras.io/api/losses/\n",
    "        # 4. 'mse', 'mae', tf.keras.losses.LogCosh(),  tf.keras.losses.Huber()\n",
    "        self.combined = Model(\n",
    "            inputs=[original_img, masked_img],\n",
    "            outputs=[model_validity, model_masked_img],\n",
    "        )\n",
    "        self.combined.compile(\n",
    "            loss=[\n",
    "                tf.keras.losses.LogCosh(),\n",
    "                dice_loss_for_training\n",
    "            ],\n",
    "            loss_weights=[1, self.f1_loss_ratio],\n",
    "            optimizer=generator_optimizer\n",
    "        )\n",
    "\n",
    "    def train(self, epochs, batch_size=1, sample_interval=50, epoch_shuffle_term=10):\n",
    "\n",
    "        start_time = datetime.now()\n",
    "\n",
    "        # Adversarial loss ground truths\n",
    "        self.training_end_stack = 0\n",
    "        self.batch_size = batch_size\n",
    "        valid_patch = np.ones((self.batch_size,) +\n",
    "                              self.disc_patch, dtype=np.float32)\n",
    "        fake_patch = np.zeros((self.batch_size,) +\n",
    "                              self.disc_patch, dtype=np.float32)\n",
    "        # TBD : move batch_queue_manager to __init__\n",
    "        self.batch_queue_manager = BatchQueueManager(self)\n",
    "\n",
    "        if self.start_epoch is None:\n",
    "            self.start_epoch = 0\n",
    "        for epoch in range(self.start_epoch, epochs):\n",
    "            bar = progressbar.ProgressBar(\n",
    "                maxval=self.data_loader.data_length[\"train\"]).start()\n",
    "            batch_i = 0\n",
    "\n",
    "            discriminator_losses = []\n",
    "            generator_loss_max_in_epoch = 0\n",
    "            generator_loss_min_in_epoch = 1000\n",
    "\n",
    "            # shffle data maybe\n",
    "            if epoch % epoch_shuffle_term == 0:\n",
    "                np.random.shuffle(self.loaded_data_index[\"train\"])\n",
    "\n",
    "            if self.discriminator_acc_previous < 0.75:\n",
    "                discriminator_learning = True\n",
    "                print(\"discriminator_learning is True\")\n",
    "            else:\n",
    "                discriminator_learning = False\n",
    "                print(\"discriminator_learning is False\")\n",
    "\n",
    "            while batch_i + self.batch_size <= self.data_loader.data_length[\"train\"]:\n",
    "                bar.update(batch_i)\n",
    "\n",
    "                batch_index = self.loaded_data_index[\"train\"][batch_i: batch_i +\n",
    "                                                              self.batch_size]\n",
    "\n",
    "                original_img, masked_img = self.batch_queue_manager.get_batch(\n",
    "                    data_mode=\"train\")\n",
    "                model_masked_img = self.generator.predict_on_batch(\n",
    "                    original_img)\n",
    "\n",
    "                # forTest\n",
    "                self.masked_img = masked_img\n",
    "                self.original_img = original_img\n",
    "                self.model_masked_img = model_masked_img\n",
    "                self.valid_path = valid_patch\n",
    "                self.fake_patch = fake_patch\n",
    "\n",
    "                generator_current_learning_rate = learning_rate_scheduler(\n",
    "                    self.generator_learning_rate,\n",
    "                    epoch,\n",
    "                )\n",
    "                discriminator_current_learning_rate = learning_rate_scheduler(\n",
    "                    self.discriminator_learning_rate,\n",
    "                    epoch,\n",
    "                )\n",
    "                keras_backend.set_value(\n",
    "                    self.discriminator.optimizer.learning_rate,\n",
    "                    discriminator_current_learning_rate,\n",
    "                )\n",
    "                keras_backend.set_value(\n",
    "                    self.combined.optimizer.learning_rate, generator_current_learning_rate\n",
    "                )\n",
    "                # ---------------------\n",
    "                #  Train Discriminator\n",
    "                # ---------------------\n",
    "                # Train Discriminator for valid image if it failed to detect fake image\n",
    "\n",
    "                if discriminator_learning:\n",
    "                    self.discriminator.train_on_batch(\n",
    "                        [original_img, masked_img], valid_patch)\n",
    "\n",
    "                batch_discriminator_acc_previous = np.mean(\n",
    "                    self.discriminator_acces_previous[batch_index])\n",
    "\n",
    "                # -----------------\n",
    "                #  Train Generator\n",
    "                # -----------------\n",
    "\n",
    "                # Train the generators\n",
    "\n",
    "                generator_loss = self.combined.train_on_batch(\n",
    "                    [original_img, masked_img],\n",
    "                    [valid_patch, masked_img],\n",
    "                )\n",
    "                # train discriminator for fake image if it failed to detect fake image\n",
    "                if (batch_discriminator_acc_previous <= 0.5 or epoch == 0) and discriminator_learning:\n",
    "                    discriminator_loss = self.discriminator.train_on_batch(\n",
    "                        [original_img, model_masked_img], fake_patch)\n",
    "                else:\n",
    "                    discriminator_loss = self.discriminator.test_on_batch(\n",
    "                        [original_img, model_masked_img], fake_patch)\n",
    "\n",
    "                self.discriminator_acces[batch_index] = discriminator_loss[1]\n",
    "                self.generator_losses[batch_index] = generator_loss[0]\n",
    "                elapsed_time = datetime.now() - start_time\n",
    "                if batch_i % sample_interval == 0:\n",
    "                    # Plot the progress\n",
    "                    print(\n",
    "                        \"[Epoch %d/%d] [Batch %d/%d] [D loss: %f, acc: %3d%%] [G loss: %f] time: %s\"\n",
    "                        % (\n",
    "                            epoch,\n",
    "                            epochs,\n",
    "                            batch_i,\n",
    "                            self.data_loader.data_length[\"train\"],\n",
    "                            discriminator_loss[0],\n",
    "                            100 * discriminator_loss[1],\n",
    "                            generator_loss[0],\n",
    "                            elapsed_time,\n",
    "                        )\n",
    "                    )\n",
    "\n",
    "                # If at save interval => save generated image samples\n",
    "                if batch_i % sample_interval == 0:\n",
    "                    self.image_drawer.sample_images(\n",
    "                        self.generator, epoch, batch_i)\n",
    "\n",
    "                discriminator_losses.append(discriminator_loss[0])\n",
    "                # loss 가 가장 높은 이미지를 저장 및 max_in_epoch 갱신\n",
    "                if generator_loss[0] > generator_loss_max_in_epoch:\n",
    "                    generator_loss_max_in_epoch = generator_loss[0]\n",
    "                    if self.draw_images or epoch % 25 == 0:\n",
    "                        model_masked_img = self.generator.predict_on_batch(\n",
    "                            original_img)\n",
    "                        self.image_drawer.draw_worst_and_best(\n",
    "                            original_img,\n",
    "                            model_masked_img,\n",
    "                            masked_img,\n",
    "                            epoch,\n",
    "                            worst=True,\n",
    "                        )\n",
    "\n",
    "                # loss 가 가장 낮은 이미지를 저장 및 max_in_epoch 갱신\n",
    "                if generator_loss_min_in_epoch > generator_loss[0]:\n",
    "                    generator_loss_min_in_epoch = generator_loss[0]\n",
    "                    if self.draw_images or epoch % 25 == 0:\n",
    "                        model_masked_img = self.generator.predict_on_batch(\n",
    "                            original_img)\n",
    "                        self.image_drawer.draw_worst_and_best(\n",
    "                            original_img,\n",
    "                            model_masked_img,\n",
    "                            masked_img,\n",
    "                            epoch,\n",
    "                            worst=False,\n",
    "                        )\n",
    "\n",
    "                # 한 배치 끝\n",
    "                batch_i += self.batch_size\n",
    "            # training batch 사이클 끝\n",
    "            print(f\"discriminator_acces : {np.mean(self.discriminator_acces)}\")\n",
    "            print(\n",
    "                f\"Mean generator_loss : {np.mean(self.generator_losses)}\")\n",
    "            print(f\"Max generator_loss : {np.max(self.generator_losses)}\")\n",
    "            print(f\"Min generator_loss : {np.min(self.generator_losses)}\")\n",
    "            print(\n",
    "                f\"generator loss decrease : {self.generator_loss_min - np.mean(self.generator_losses)}\"\n",
    "            )\n",
    "            print(\n",
    "                f\"generator loss decrease ratio : ({np.mean(self.generator_losses) / self.generator_loss_min})\"\n",
    "            )\n",
    "            print(\n",
    "                f\"Max generator loss decrease : {self.generator_loss_max_previous - np.max(self.generator_losses)}\"\n",
    "            )\n",
    "            print(\n",
    "                f\"current lowest generator loss : {self.generator_loss_min}\")\n",
    "            print(\n",
    "                f\"current Learning_rate = {generator_current_learning_rate}\")\n",
    "            # rollback if loss not converge\n",
    "            if np.mean(self.generator_losses) / self.generator_loss_min < 1.1:\n",
    "                if self.generator_loss_min > np.mean(self.generator_losses):\n",
    "                    self.generator_loss_min = np.mean(self.generator_losses)\n",
    "                    self.generator_loss_max_min = generator_loss_max_in_epoch\n",
    "                    self.generator_loss_min_min = generator_loss_min_in_epoch\n",
    "                    self.weight_save_stack = True\n",
    "                    self.save_study_info()\n",
    "                    print(\"save weights\")\n",
    "\n",
    "                valid_f1_loss_list = []\n",
    "                valid_f1_score_list = []\n",
    "                valid_predict_mini_batch_size = 1\n",
    "                for index in range(0, self.data_loader.data_length[\"valid\"], valid_predict_mini_batch_size):\n",
    "\n",
    "                    valid_source_img, valid_masked_img = self.batch_queue_manager.get_batch(\n",
    "                        data_mode=\"valid\")\n",
    "\n",
    "                    valid_model_masked_img = self.generator.predict_on_batch(\n",
    "                        valid_source_img)\n",
    "\n",
    "                    valid_f1_loss = f1_loss_for_training(\n",
    "                        valid_masked_img, np.squeeze(valid_model_masked_img))\n",
    "                    valid_f1_score = f1_score(\n",
    "                        valid_masked_img, np.squeeze(valid_model_masked_img))\n",
    "                    valid_f1_loss_list.append(valid_f1_loss)\n",
    "                    valid_f1_score_list.append(valid_f1_score)\n",
    "\n",
    "                print(\n",
    "                    f\"valid_f1_loss : {np.mean(valid_f1_loss_list) * self.f1_loss_ratio}\")\n",
    "                print(f\"valid_f1_score : {1 - np.mean(valid_f1_loss_list)}\")\n",
    "                print(\n",
    "                    f\"valid_f1_rounded_score : {np.mean(valid_f1_score_list)}\")\n",
    "            else:\n",
    "                print(\"loss decrease.\")\n",
    "                self.load_best_weights()\n",
    "\n",
    "            # previous generator_loss 갱신\n",
    "            self.generator_loss_previous = np.mean(self.generator_losses)\n",
    "            self.generator_loss_max_previous = generator_loss_max_in_epoch\n",
    "\n",
    "            if epoch >= 10 and self.weight_save_stack:\n",
    "                copy(\n",
    "                    \"generator.h5\",\n",
    "                    \"./generator_weights/generator_\"\n",
    "                    + str(round(self.generator_loss_min, 5))\n",
    "                    + \"_\"\n",
    "                    + str(round(self.generator_loss_max_min, 5))\n",
    "                    + \".h5\",\n",
    "                )\n",
    "                self.weight_save_stack = False\n",
    "\n",
    "            self.discriminator_acc_previous = np.mean(self.discriminator_acces)\n",
    "            self.discriminator_acces_previous = self.discriminator_acces.copy()\n",
    "            self.generator_losses_previous = self.generator_losses.copy()\n",
    "            # TBD: add epoch bigger than history length\n",
    "#             if len(self.history[\"generator_loss\"]) == epoch:\n",
    "#                 self.history[\"generator_loss\"].append(\n",
    "#                     np.mean(self.generator_losses))\n",
    "#                 self.history[\"f1_score_train\"].append(\n",
    "#                     np.mean(self.train_f1_score_list))\n",
    "#                 self.history[\"f1_score_valid\"].append(\n",
    "#                     np.mean(self.valid_f1_score_list))\n",
    "#             elif len(self.history[\"generator_loss\"]) < epoch:\n",
    "#                 self.history[\"generator_loss\"][epoch] = np.mean(\n",
    "#                     self.generator_losses)\n",
    "#                 self.history[\"f1_score_train\"][epoch] = np.mean(\n",
    "#                     train_f1_score_list)\n",
    "#                 self.history[\"f1_score_valid\"][epoch] = np.mean(\n",
    "#                     valid_f1_score_list)\n",
    "\n",
    "    def get_info_folderPath(self):\n",
    "        return (\n",
    "            str(round(self.generator_loss_min, 5))\n",
    "            + \"_\"\n",
    "            + str(round(self.generator_loss_max_min, 5))\n",
    "        )\n",
    "\n",
    "    def save_study_info(self, path=None):\n",
    "\n",
    "        if path is None:\n",
    "            path = self.temp_weights_path\n",
    "\n",
    "        generator_weigth_path = os.path.join(path, \"generator.h5\")\n",
    "        discriminator_weigth_path = os.path.join(path, \"discriminator.h5\")\n",
    "        combined_weigth_path = os.path.join(path, \"combined.h5\")\n",
    "\n",
    "        self.generator.save_weights(generator_weigth_path)\n",
    "        self.discriminator.save_weights(discriminator_weigth_path)\n",
    "        self.combined.save_weights(combined_weigth_path)\n",
    "\n",
    "        study_info = {}\n",
    "        study_info[\"start_epoch\"] = self.start_epoch\n",
    "        study_info[\"generator_loss_min\"] = self.generator_loss_min\n",
    "        study_info[\"generator_loss_max_min\"] = self.generator_loss_max_min\n",
    "        study_info[\"generator_loss_min_min\"] = self.generator_loss_min_min\n",
    "        study_info[\"generator_losses_previous\"] = self.generator_losses_previous\n",
    "        study_info[\"discriminator_acces\"] = self.discriminator_acces\n",
    "        study_info[\"history\"] = self.history\n",
    "        study_info[\"train_loaded_data_index\"] = self.loaded_data_index[\"train\"]\n",
    "        file = open(path + \"/study_info.pkl\", \"wb\")\n",
    "        dump(study_info, file)\n",
    "        file.close()\n",
    "\n",
    "    def load_study_info(self):\n",
    "\n",
    "        self.generator.load_weights(\"generator.h5\")\n",
    "        self.discriminator.load_weights(\"discriminator.h5\")\n",
    "        self.combined.load_weights(\"combined.h5\")\n",
    "\n",
    "        if os.path.isfile(\"study_info.pkl\"):\n",
    "            file = open(\"study_info.pkl\", \"rb\")\n",
    "            study_info = load(file)\n",
    "            file.close()\n",
    "            self.start_epoch = study_info[\"start_epoch\"]\n",
    "            self.generator_loss_min = study_info[\"generator_loss_min\"]\n",
    "            self.generator_loss_max_min = study_info[\"generator_loss_max_min\"]\n",
    "            self.generator_loss_min_min = study_info[\"generator_loss_min_min\"]\n",
    "            self.generator_losses_previous = study_info[\"generator_losses_previous\"]\n",
    "            self.discriminator_acces = study_info[\"discriminator_acces\"]\n",
    "            self.history = study_info[\"history\"]\n",
    "            self.loaded_data_index[\"train\"] = study_info[\"train_loaded_data_index\"]\n",
    "        else:\n",
    "            print(\"No info pkl file!\")\n",
    "\n",
    "    def load_best_weights(self):\n",
    "        self.generator.load_weights(self.temp_weights_path + \"/generator.h5\")\n",
    "        self.discriminator.load_weights(\n",
    "            self.temp_weights_path + \"/discriminator.h5\")\n",
    "        self.combined.load_weights(self.temp_weights_path + \"/combined.h5\")\n"
   ]
  },
  {
   "cell_type": "code",
   "execution_count": 2,
   "metadata": {},
   "outputs": [],
   "source": [
    "generator_lr = 1e-3\n",
    "discriminator_lr = 1e-4\n",
    "batch_size = 4\n",
    "g_lr = generator_lr * batch_size\n",
    "d_lr = discriminator_lr * batch_size\n",
    "gan = Pix2PixSegmentation(generator_power=4, discriminator_power=4, generator_learning_rate=g_lr, discriminator_learning_rate=d_lr,\n",
    "                          on_memory=False, test=False, draw_images=False)"
   ]
  },
  {
   "cell_type": "code",
   "execution_count": null,
   "metadata": {
    "scrolled": true
   },
   "outputs": [
    {
     "name": "stderr",
     "output_type": "stream",
     "text": [
      "  0% |                                                                        |\r"
     ]
    },
    {
     "name": "stdout",
     "output_type": "stream",
     "text": [
      "discriminator_learning is True\n",
      "[Epoch 0/300] [Batch 0/6200] [D loss: 0.120174, acc:   0%] [G loss: 96.711632] time: 0:00:18.080534\n"
     ]
    },
    {
     "name": "stderr",
     "output_type": "stream",
     "text": [
      " 49% |###################################                                     |\r"
     ]
    },
    {
     "name": "stdout",
     "output_type": "stream",
     "text": [
      "[Epoch 0/300] [Batch 3100/6200] [D loss: 0.120118, acc:   0%] [G loss: 88.454514] time: 0:04:38.971363\n"
     ]
    },
    {
     "name": "stderr",
     "output_type": "stream",
     "text": [
      " 99% |####################################################################### |\r"
     ]
    },
    {
     "name": "stdout",
     "output_type": "stream",
     "text": [
      "discriminator_acces : 0.0\n",
      "Mean generator_loss : 80.1384048461914\n",
      "Max generator_loss : 99.20291137695312\n",
      "Min generator_loss : 44.444419860839844\n",
      "generator loss decrease : 419.8615951538086\n",
      "generator loss decrease ratio : (0.1602768096923828)\n",
      "Max generator loss decrease : 900.7970886230469\n",
      "current lowest generator loss : 500\n",
      "current Learning_rate = 0.0004\n",
      "save weights\n"
     ]
    },
    {
     "name": "stderr",
     "output_type": "stream",
     "text": [
      "  0% |                                                                        |\r"
     ]
    },
    {
     "name": "stdout",
     "output_type": "stream",
     "text": [
      "valid_f1_loss : 83.96908640861511\n",
      "valid_f1_score : 0.16030913591384888\n",
      "valid_f1_rounded_score : 0.37058109045028687\n",
      "discriminator_learning is True\n",
      "[Epoch 1/300] [Batch 0/6200] [D loss: 0.120119, acc:   0%] [G loss: 84.467575] time: 0:09:30.479353\n"
     ]
    },
    {
     "name": "stderr",
     "output_type": "stream",
     "text": [
      " 49% |###################################                                     |\r"
     ]
    },
    {
     "name": "stdout",
     "output_type": "stream",
     "text": [
      "[Epoch 1/300] [Batch 3100/6200] [D loss: 0.120118, acc:   0%] [G loss: 86.253342] time: 0:13:46.549626\n"
     ]
    },
    {
     "name": "stderr",
     "output_type": "stream",
     "text": [
      " 99% |####################################################################### |\r"
     ]
    },
    {
     "name": "stdout",
     "output_type": "stream",
     "text": [
      "discriminator_acces : 0.0\n",
      "Mean generator_loss : 76.28645324707031\n",
      "Max generator_loss : 98.98692321777344\n",
      "Min generator_loss : 36.48068618774414\n",
      "generator loss decrease : 3.8519515991210938\n",
      "generator loss decrease ratio : (0.951933741569519)\n",
      "Max generator loss decrease : 0.2159881591796875\n",
      "current lowest generator loss : 80.1384048461914\n",
      "current Learning_rate = 0.0008\n",
      "save weights\n"
     ]
    },
    {
     "name": "stderr",
     "output_type": "stream",
     "text": [
      "  0% |                                                                        |\r"
     ]
    },
    {
     "name": "stdout",
     "output_type": "stream",
     "text": [
      "valid_f1_loss : 78.73929738998413\n",
      "valid_f1_score : 0.2126070261001587\n",
      "valid_f1_rounded_score : 0.3176024556159973\n",
      "discriminator_learning is True\n",
      "[Epoch 2/300] [Batch 0/6200] [D loss: 0.120119, acc:   0%] [G loss: 82.818298] time: 0:18:36.952507\n"
     ]
    },
    {
     "name": "stderr",
     "output_type": "stream",
     "text": [
      " 49% |###################################                                     |\r"
     ]
    },
    {
     "name": "stdout",
     "output_type": "stream",
     "text": [
      "[Epoch 2/300] [Batch 3100/6200] [D loss: 0.120119, acc:   0%] [G loss: 85.166336] time: 0:22:49.944417\n"
     ]
    },
    {
     "name": "stderr",
     "output_type": "stream",
     "text": [
      " 99% |####################################################################### |\r"
     ]
    },
    {
     "name": "stdout",
     "output_type": "stream",
     "text": [
      "discriminator_acces : 0.0\n",
      "Mean generator_loss : 74.343017578125\n",
      "Max generator_loss : 98.89669799804688\n",
      "Min generator_loss : 31.86130714416504\n",
      "generator loss decrease : 1.9434356689453125\n",
      "generator loss decrease ratio : (0.9745244979858398)\n",
      "Max generator loss decrease : 0.0902252197265625\n",
      "current lowest generator loss : 76.28645324707031\n",
      "current Learning_rate = 0.0012\n",
      "save weights\n"
     ]
    },
    {
     "name": "stderr",
     "output_type": "stream",
     "text": [
      "  0% |                                                                        |\r"
     ]
    },
    {
     "name": "stdout",
     "output_type": "stream",
     "text": [
      "valid_f1_loss : 77.43946313858032\n",
      "valid_f1_score : 0.22560536861419678\n",
      "valid_f1_rounded_score : 0.3612059950828552\n",
      "discriminator_learning is True\n",
      "[Epoch 3/300] [Batch 0/6200] [D loss: 0.120119, acc:   0%] [G loss: 80.832085] time: 0:27:40.454920\n"
     ]
    },
    {
     "name": "stderr",
     "output_type": "stream",
     "text": [
      " 49% |###################################                                     |\r"
     ]
    },
    {
     "name": "stdout",
     "output_type": "stream",
     "text": [
      "[Epoch 3/300] [Batch 3100/6200] [D loss: 0.120119, acc:   0%] [G loss: 82.799095] time: 0:31:53.791416\n"
     ]
    },
    {
     "name": "stderr",
     "output_type": "stream",
     "text": [
      " 99% |####################################################################### |\r"
     ]
    },
    {
     "name": "stdout",
     "output_type": "stream",
     "text": [
      "discriminator_acces : 0.0\n",
      "Mean generator_loss : 71.4349365234375\n",
      "Max generator_loss : 98.71310424804688\n",
      "Min generator_loss : 30.91813850402832\n",
      "generator loss decrease : 2.9080810546875\n",
      "generator loss decrease ratio : (0.9608829021453857)\n",
      "Max generator loss decrease : 0.18359375\n",
      "current lowest generator loss : 74.343017578125\n",
      "current Learning_rate = 0.0016\n",
      "save weights\n"
     ]
    },
    {
     "name": "stderr",
     "output_type": "stream",
     "text": [
      "  0% |                                                                        |\r"
     ]
    },
    {
     "name": "stdout",
     "output_type": "stream",
     "text": [
      "valid_f1_loss : 69.82429027557373\n",
      "valid_f1_score : 0.3017570972442627\n",
      "valid_f1_rounded_score : 0.5402767658233643\n",
      "discriminator_learning is True\n",
      "[Epoch 4/300] [Batch 0/6200] [D loss: 0.120119, acc:   0%] [G loss: 76.210297] time: 0:36:43.827419\n"
     ]
    },
    {
     "name": "stderr",
     "output_type": "stream",
     "text": [
      " 49% |###################################                                     |\r"
     ]
    },
    {
     "name": "stdout",
     "output_type": "stream",
     "text": [
      "[Epoch 4/300] [Batch 3100/6200] [D loss: 0.120109, acc: 100%] [G loss: 78.981697] time: 0:40:56.657416\n"
     ]
    },
    {
     "name": "stderr",
     "output_type": "stream",
     "text": [
      " 99% |####################################################################### |\r"
     ]
    },
    {
     "name": "stdout",
     "output_type": "stream",
     "text": [
      "discriminator_acces : 0.7309677419354839\n",
      "Mean generator_loss : 66.13972473144531\n",
      "Max generator_loss : 98.16183471679688\n",
      "Min generator_loss : 28.038387298583984\n",
      "generator loss decrease : 5.2952117919921875\n",
      "generator loss decrease ratio : (0.9258736371994019)\n",
      "Max generator loss decrease : 0.55126953125\n",
      "current lowest generator loss : 71.4349365234375\n",
      "current Learning_rate = 0.002\n",
      "save weights\n"
     ]
    },
    {
     "name": "stderr",
     "output_type": "stream",
     "text": [
      "  0% |                                                                        |\r"
     ]
    },
    {
     "name": "stdout",
     "output_type": "stream",
     "text": [
      "valid_f1_loss : 62.49464154243469\n",
      "valid_f1_score : 0.3750535845756531\n",
      "valid_f1_rounded_score : 0.59406578540802\n",
      "discriminator_learning is True\n",
      "[Epoch 5/300] [Batch 0/6200] [D loss: 0.120109, acc: 100%] [G loss: 68.477943] time: 0:45:45.485916\n"
     ]
    },
    {
     "name": "stderr",
     "output_type": "stream",
     "text": [
      " 49% |###################################                                     |\r"
     ]
    },
    {
     "name": "stdout",
     "output_type": "stream",
     "text": [
      "[Epoch 5/300] [Batch 3100/6200] [D loss: 0.140389, acc:   0%] [G loss: 72.724030] time: 0:49:49.668416\n"
     ]
    },
    {
     "name": "stderr",
     "output_type": "stream",
     "text": [
      " 99% |####################################################################### |\r"
     ]
    },
    {
     "name": "stdout",
     "output_type": "stream",
     "text": [
      "discriminator_acces : 0.2709677419354839\n",
      "Mean generator_loss : 58.922340393066406\n",
      "Max generator_loss : 96.98213195800781\n",
      "Min generator_loss : 20.360734939575195\n",
      "generator loss decrease : 7.217384338378906\n",
      "generator loss decrease ratio : (0.8908767104148865)\n",
      "Max generator loss decrease : 1.1797027587890625\n",
      "current lowest generator loss : 66.13972473144531\n",
      "current Learning_rate = 0.0024\n",
      "save weights\n"
     ]
    },
    {
     "name": "stderr",
     "output_type": "stream",
     "text": [
      "  0% |                                                                        |\r"
     ]
    },
    {
     "name": "stdout",
     "output_type": "stream",
     "text": [
      "valid_f1_loss : 86.6577684879303\n",
      "valid_f1_score : 0.13342231512069702\n",
      "valid_f1_rounded_score : 0.1369152069091797\n",
      "discriminator_learning is True\n",
      "[Epoch 6/300] [Batch 0/6200] [D loss: 0.169821, acc:   0%] [G loss: 58.908634] time: 0:54:18.778418\n"
     ]
    },
    {
     "name": "stderr",
     "output_type": "stream",
     "text": [
      " 49% |###################################                                     |\r"
     ]
    },
    {
     "name": "stdout",
     "output_type": "stream",
     "text": [
      "[Epoch 6/300] [Batch 3100/6200] [D loss: 0.179372, acc:   0%] [G loss: 64.538651] time: 0:58:20.230397\n"
     ]
    },
    {
     "name": "stderr",
     "output_type": "stream",
     "text": [
      " 99% |####################################################################### |\r"
     ]
    },
    {
     "name": "stdout",
     "output_type": "stream",
     "text": [
      "discriminator_acces : 0.0\n",
      "Mean generator_loss : 51.41688919067383\n",
      "Max generator_loss : 93.82646179199219\n",
      "Min generator_loss : 19.01471519470215\n",
      "generator loss decrease : 7.505451202392578\n",
      "generator loss decrease ratio : (0.8726212978363037)\n",
      "Max generator loss decrease : 3.155670166015625\n",
      "current lowest generator loss : 58.922340393066406\n",
      "current Learning_rate = 0.0028\n",
      "save weights\n"
     ]
    },
    {
     "name": "stderr",
     "output_type": "stream",
     "text": [
      "  0% |                                                                        |\r"
     ]
    },
    {
     "name": "stdout",
     "output_type": "stream",
     "text": [
      "valid_f1_loss : 50.90366005897522\n",
      "valid_f1_score : 0.4909633994102478\n",
      "valid_f1_rounded_score : 0.6063088178634644\n",
      "discriminator_learning is True\n",
      "[Epoch 7/300] [Batch 0/6200] [D loss: 0.168645, acc:   0%] [G loss: 49.288525] time: 1:03:07.969038\n"
     ]
    },
    {
     "name": "stderr",
     "output_type": "stream",
     "text": [
      " 49% |###################################                                     |\r"
     ]
    },
    {
     "name": "stdout",
     "output_type": "stream",
     "text": [
      "[Epoch 7/300] [Batch 3100/6200] [D loss: 0.159033, acc:   0%] [G loss: 57.006805] time: 1:07:19.433312\n"
     ]
    },
    {
     "name": "stderr",
     "output_type": "stream",
     "text": [
      " 99% |####################################################################### |\r"
     ]
    },
    {
     "name": "stdout",
     "output_type": "stream",
     "text": [
      "discriminator_acces : 0.0\n",
      "Mean generator_loss : 45.642494201660156\n",
      "Max generator_loss : 90.511962890625\n",
      "Min generator_loss : 18.506017684936523\n",
      "generator loss decrease : 5.774394989013672\n",
      "generator loss decrease ratio : (0.8876945972442627)\n",
      "Max generator loss decrease : 3.3144989013671875\n",
      "current lowest generator loss : 51.41688919067383\n",
      "current Learning_rate = 0.0032\n",
      "save weights\n"
     ]
    },
    {
     "name": "stderr",
     "output_type": "stream",
     "text": [
      "  0% |                                                                        |\r"
     ]
    },
    {
     "name": "stdout",
     "output_type": "stream",
     "text": [
      "valid_f1_loss : 66.54992699623108\n",
      "valid_f1_score : 0.3345007300376892\n",
      "valid_f1_rounded_score : 0.3418025076389313\n",
      "discriminator_learning is True\n",
      "[Epoch 8/300] [Batch 0/6200] [D loss: 0.151376, acc:   0%] [G loss: 45.524376] time: 1:12:06.618783\n"
     ]
    },
    {
     "name": "stderr",
     "output_type": "stream",
     "text": [
      " 49% |###################################                                     |\r"
     ]
    },
    {
     "name": "stdout",
     "output_type": "stream",
     "text": [
      "[Epoch 8/300] [Batch 3100/6200] [D loss: 0.144569, acc:   0%] [G loss: 49.071671] time: 1:16:18.151866\n"
     ]
    },
    {
     "name": "stderr",
     "output_type": "stream",
     "text": [
      " 99% |####################################################################### |\r"
     ]
    },
    {
     "name": "stdout",
     "output_type": "stream",
     "text": [
      "discriminator_acces : 0.0\n",
      "Mean generator_loss : 42.152950286865234\n",
      "Max generator_loss : 87.83292388916016\n",
      "Min generator_loss : 16.950265884399414\n",
      "generator loss decrease : 3.489543914794922\n",
      "generator loss decrease ratio : (0.9235461354255676)\n",
      "Max generator loss decrease : 2.6790390014648438\n",
      "current lowest generator loss : 45.642494201660156\n",
      "current Learning_rate = 0.0036000000000000003\n",
      "save weights\n"
     ]
    },
    {
     "name": "stderr",
     "output_type": "stream",
     "text": [
      "  0% |                                                                        |\r"
     ]
    },
    {
     "name": "stdout",
     "output_type": "stream",
     "text": [
      "valid_f1_loss : 39.73580002784729\n",
      "valid_f1_score : 0.6026419997215271\n",
      "valid_f1_rounded_score : 0.6232236623764038\n",
      "discriminator_learning is True\n",
      "[Epoch 9/300] [Batch 0/6200] [D loss: 0.139265, acc:   0%] [G loss: 38.138195] time: 1:21:05.441460\n"
     ]
    },
    {
     "name": "stderr",
     "output_type": "stream",
     "text": [
      " 49% |###################################                                     |\r"
     ]
    },
    {
     "name": "stdout",
     "output_type": "stream",
     "text": [
      "[Epoch 9/300] [Batch 3100/6200] [D loss: 0.134726, acc:   0%] [G loss: 43.290154] time: 1:25:16.876721\n"
     ]
    },
    {
     "name": "stderr",
     "output_type": "stream",
     "text": [
      " 99% |####################################################################### |\r"
     ]
    },
    {
     "name": "stdout",
     "output_type": "stream",
     "text": [
      "discriminator_acces : 0.0\n",
      "Mean generator_loss : 40.16154861450195\n",
      "Max generator_loss : 80.79103088378906\n",
      "Min generator_loss : 16.464683532714844\n",
      "generator loss decrease : 1.9914016723632812\n",
      "generator loss decrease ratio : (0.952757716178894)\n",
      "Max generator loss decrease : 7.041893005371094\n",
      "current lowest generator loss : 42.152950286865234\n",
      "current Learning_rate = 0.004\n",
      "save weights\n"
     ]
    },
    {
     "name": "stderr",
     "output_type": "stream",
     "text": [
      "  0% |                                                                        |\r"
     ]
    },
    {
     "name": "stdout",
     "output_type": "stream",
     "text": [
      "valid_f1_loss : 37.45850622653961\n",
      "valid_f1_score : 0.6254149377346039\n",
      "valid_f1_rounded_score : 0.629089891910553\n",
      "discriminator_learning is True\n",
      "[Epoch 10/300] [Batch 0/6200] [D loss: 0.131277, acc:   0%] [G loss: 38.277943] time: 1:30:04.041084\n"
     ]
    },
    {
     "name": "stderr",
     "output_type": "stream",
     "text": [
      " 49% |###################################                                     |\r"
     ]
    },
    {
     "name": "stdout",
     "output_type": "stream",
     "text": [
      "[Epoch 10/300] [Batch 3100/6200] [D loss: 0.128651, acc:   0%] [G loss: 39.530258] time: 1:34:15.288150\n"
     ]
    },
    {
     "name": "stderr",
     "output_type": "stream",
     "text": [
      " 99% |####################################################################### |\r"
     ]
    },
    {
     "name": "stdout",
     "output_type": "stream",
     "text": [
      "discriminator_acces : 0.0\n",
      "Mean generator_loss : 39.039146423339844\n",
      "Max generator_loss : 81.75407409667969\n",
      "Min generator_loss : 16.391603469848633\n",
      "generator loss decrease : 1.1224021911621094\n",
      "generator loss decrease ratio : (0.972052812576294)\n",
      "Max generator loss decrease : -0.963043212890625\n",
      "current lowest generator loss : 40.16154861450195\n",
      "current Learning_rate = 0.004\n",
      "save weights\n"
     ]
    },
    {
     "name": "stderr",
     "output_type": "stream",
     "text": [
      "  0% |                                                                        |\r"
     ]
    },
    {
     "name": "stdout",
     "output_type": "stream",
     "text": [
      "valid_f1_loss : 45.08320987224579\n",
      "valid_f1_score : 0.5491679012775421\n",
      "valid_f1_rounded_score : 0.5519265532493591\n",
      "discriminator_learning is True\n",
      "[Epoch 11/300] [Batch 0/6200] [D loss: 0.126648, acc:   0%] [G loss: 36.390022] time: 1:39:02.461857\n"
     ]
    },
    {
     "name": "stderr",
     "output_type": "stream",
     "text": [
      " 49% |###################################                                     |\r"
     ]
    },
    {
     "name": "stdout",
     "output_type": "stream",
     "text": [
      "[Epoch 11/300] [Batch 3100/6200] [D loss: 0.125120, acc:   0%] [G loss: 39.086021] time: 1:43:13.782138\n"
     ]
    },
    {
     "name": "stderr",
     "output_type": "stream",
     "text": [
      " 99% |####################################################################### |\r"
     ]
    },
    {
     "name": "stdout",
     "output_type": "stream",
     "text": [
      "discriminator_acces : 0.0\n",
      "Mean generator_loss : 38.83736801147461\n",
      "Max generator_loss : 82.20767211914062\n",
      "Min generator_loss : 14.34221076965332\n",
      "generator loss decrease : 0.20177841186523438\n",
      "generator loss decrease ratio : (0.994831383228302)\n",
      "Max generator loss decrease : -0.4535980224609375\n",
      "current lowest generator loss : 39.039146423339844\n",
      "current Learning_rate = 0.004\n",
      "save weights\n"
     ]
    },
    {
     "name": "stderr",
     "output_type": "stream",
     "text": [
      "  0% |                                                                        |\r"
     ]
    },
    {
     "name": "stdout",
     "output_type": "stream",
     "text": [
      "valid_f1_loss : 38.74121606349945\n",
      "valid_f1_score : 0.6125878393650055\n",
      "valid_f1_rounded_score : 0.6148706078529358\n",
      "discriminator_learning is True\n",
      "[Epoch 12/300] [Batch 0/6200] [D loss: 0.123951, acc:   0%] [G loss: 25.418112] time: 1:48:00.853116\n"
     ]
    },
    {
     "name": "stderr",
     "output_type": "stream",
     "text": [
      " 49% |###################################                                     |\r"
     ]
    },
    {
     "name": "stdout",
     "output_type": "stream",
     "text": [
      "[Epoch 12/300] [Batch 3100/6200] [D loss: 0.123056, acc:   0%] [G loss: 38.342609] time: 1:52:12.111848\n"
     ]
    },
    {
     "name": "stderr",
     "output_type": "stream",
     "text": [
      " 99% |####################################################################### |\r"
     ]
    },
    {
     "name": "stdout",
     "output_type": "stream",
     "text": [
      "discriminator_acces : 0.0\n",
      "Mean generator_loss : 38.21053695678711\n",
      "Max generator_loss : 80.69373321533203\n",
      "Min generator_loss : 14.716955184936523\n",
      "generator loss decrease : 0.6268310546875\n",
      "generator loss decrease ratio : (0.9838600754737854)\n",
      "Max generator loss decrease : 1.5139389038085938\n",
      "current lowest generator loss : 38.83736801147461\n",
      "current Learning_rate = 0.004\n",
      "save weights\n"
     ]
    },
    {
     "name": "stderr",
     "output_type": "stream",
     "text": [
      "  0% |                                                                        |\r"
     ]
    },
    {
     "name": "stdout",
     "output_type": "stream",
     "text": [
      "valid_f1_loss : 37.581464648246765\n",
      "valid_f1_score : 0.6241853535175323\n",
      "valid_f1_rounded_score : 0.6244019865989685\n",
      "discriminator_learning is True\n",
      "[Epoch 13/300] [Batch 0/6200] [D loss: 0.122372, acc:   0%] [G loss: 35.042458] time: 1:56:59.171494\n"
     ]
    },
    {
     "name": "stderr",
     "output_type": "stream",
     "text": [
      " 49% |###################################                                     |\r"
     ]
    },
    {
     "name": "stdout",
     "output_type": "stream",
     "text": [
      "[Epoch 13/300] [Batch 3100/6200] [D loss: 0.121847, acc:   0%] [G loss: 39.853058] time: 2:01:10.727005\n"
     ]
    },
    {
     "name": "stderr",
     "output_type": "stream",
     "text": [
      " 99% |####################################################################### |\r"
     ]
    },
    {
     "name": "stdout",
     "output_type": "stream",
     "text": [
      "discriminator_acces : 0.0\n",
      "Mean generator_loss : 37.57638168334961\n",
      "Max generator_loss : 77.11509704589844\n",
      "Min generator_loss : 12.437581062316895\n",
      "generator loss decrease : 0.6341552734375\n",
      "generator loss decrease ratio : (0.9834036827087402)\n",
      "Max generator loss decrease : 3.5786361694335938\n",
      "current lowest generator loss : 38.21053695678711\n",
      "current Learning_rate = 0.004\n",
      "save weights\n"
     ]
    },
    {
     "name": "stderr",
     "output_type": "stream",
     "text": [
      "  0% |                                                                        |\r"
     ]
    },
    {
     "name": "stdout",
     "output_type": "stream",
     "text": [
      "valid_f1_loss : 36.62114441394806\n",
      "valid_f1_score : 0.6337885558605194\n",
      "valid_f1_rounded_score : 0.6348046660423279\n",
      "discriminator_learning is True\n",
      "[Epoch 14/300] [Batch 0/6200] [D loss: 0.121445, acc:   0%] [G loss: 34.381195] time: 2:05:58.508692\n"
     ]
    },
    {
     "name": "stderr",
     "output_type": "stream",
     "text": [
      " 49% |###################################                                     |\r"
     ]
    },
    {
     "name": "stdout",
     "output_type": "stream",
     "text": [
      "[Epoch 14/300] [Batch 3100/6200] [D loss: 0.121136, acc:   0%] [G loss: 34.721012] time: 2:10:09.963468\n"
     ]
    },
    {
     "name": "stderr",
     "output_type": "stream",
     "text": [
      " 99% |####################################################################### |\r"
     ]
    },
    {
     "name": "stdout",
     "output_type": "stream",
     "text": [
      "discriminator_acces : 0.0\n",
      "Mean generator_loss : 37.25442886352539\n",
      "Max generator_loss : 78.24162292480469\n",
      "Min generator_loss : 14.810853004455566\n",
      "generator loss decrease : 0.32195281982421875\n",
      "generator loss decrease ratio : (0.9914320707321167)\n",
      "Max generator loss decrease : -1.12652587890625\n",
      "current lowest generator loss : 37.57638168334961\n",
      "current Learning_rate = 0.004\n",
      "save weights\n"
     ]
    },
    {
     "name": "stderr",
     "output_type": "stream",
     "text": [
      "  0% |                                                                        |\r"
     ]
    },
    {
     "name": "stdout",
     "output_type": "stream",
     "text": [
      "valid_f1_loss : 35.831624269485474\n",
      "valid_f1_score : 0.6416837573051453\n",
      "valid_f1_rounded_score : 0.6419636011123657\n",
      "discriminator_learning is True\n",
      "[Epoch 15/300] [Batch 0/6200] [D loss: 0.120899, acc:   0%] [G loss: 39.086281] time: 2:14:57.347873\n"
     ]
    },
    {
     "name": "stderr",
     "output_type": "stream",
     "text": [
      " 49% |###################################                                     |\r"
     ]
    },
    {
     "name": "stdout",
     "output_type": "stream",
     "text": [
      "[Epoch 15/300] [Batch 3100/6200] [D loss: 0.120718, acc:   0%] [G loss: 35.660595] time: 2:19:08.697442\n"
     ]
    },
    {
     "name": "stderr",
     "output_type": "stream",
     "text": [
      " 99% |####################################################################### |\r"
     ]
    },
    {
     "name": "stdout",
     "output_type": "stream",
     "text": [
      "discriminator_acces : 0.0\n",
      "Mean generator_loss : 36.88511657714844\n",
      "Max generator_loss : 81.03402709960938\n",
      "Min generator_loss : 11.959539413452148\n",
      "generator loss decrease : 0.3693122863769531\n",
      "generator loss decrease ratio : (0.9900867342948914)\n",
      "Max generator loss decrease : -2.7924041748046875\n",
      "current lowest generator loss : 37.25442886352539\n",
      "current Learning_rate = 0.004\n",
      "save weights\n"
     ]
    },
    {
     "name": "stderr",
     "output_type": "stream",
     "text": [
      "  0% |                                                                        |\r"
     ]
    },
    {
     "name": "stdout",
     "output_type": "stream",
     "text": [
      "valid_f1_loss : 35.72682738304138\n",
      "valid_f1_score : 0.6427317261695862\n",
      "valid_f1_rounded_score : 0.6429519653320312\n",
      "discriminator_learning is True\n",
      "[Epoch 16/300] [Batch 0/6200] [D loss: 0.120578, acc:   0%] [G loss: 37.019859] time: 2:23:55.675267\n"
     ]
    },
    {
     "name": "stderr",
     "output_type": "stream",
     "text": [
      " 49% |###################################                                     |\r"
     ]
    },
    {
     "name": "stdout",
     "output_type": "stream",
     "text": [
      "[Epoch 16/300] [Batch 3100/6200] [D loss: 0.120471, acc:   0%] [G loss: 34.370701] time: 2:28:07.024505\n"
     ]
    },
    {
     "name": "stderr",
     "output_type": "stream",
     "text": [
      " 99% |####################################################################### |\r"
     ]
    },
    {
     "name": "stdout",
     "output_type": "stream",
     "text": [
      "discriminator_acces : 0.0\n",
      "Mean generator_loss : 36.75194549560547\n",
      "Max generator_loss : 77.71781158447266\n",
      "Min generator_loss : 12.270586967468262\n",
      "generator loss decrease : 0.13317108154296875\n",
      "generator loss decrease ratio : (0.9963895678520203)\n",
      "Max generator loss decrease : 3.3162155151367188\n",
      "current lowest generator loss : 36.88511657714844\n",
      "current Learning_rate = 0.004\n",
      "save weights\n"
     ]
    },
    {
     "name": "stderr",
     "output_type": "stream",
     "text": [
      "  0% |                                                                        |\r"
     ]
    },
    {
     "name": "stdout",
     "output_type": "stream",
     "text": [
      "valid_f1_loss : 36.86995506286621\n",
      "valid_f1_score : 0.6313004493713379\n",
      "valid_f1_rounded_score : 0.6323013305664062\n",
      "discriminator_learning is True\n",
      "[Epoch 17/300] [Batch 0/6200] [D loss: 0.120389, acc:   0%] [G loss: 29.883955] time: 2:32:53.908464\n"
     ]
    },
    {
     "name": "stderr",
     "output_type": "stream",
     "text": [
      " 49% |###################################                                     |\r"
     ]
    },
    {
     "name": "stdout",
     "output_type": "stream",
     "text": [
      "[Epoch 17/300] [Batch 3100/6200] [D loss: 0.120326, acc:   0%] [G loss: 35.337860] time: 2:37:05.268601\n"
     ]
    },
    {
     "name": "stderr",
     "output_type": "stream",
     "text": [
      " 99% |####################################################################### |\r"
     ]
    },
    {
     "name": "stdout",
     "output_type": "stream",
     "text": [
      "discriminator_acces : 0.0\n",
      "Mean generator_loss : 36.50679016113281\n",
      "Max generator_loss : 83.12403106689453\n",
      "Min generator_loss : 12.23883056640625\n",
      "generator loss decrease : 0.24515533447265625\n",
      "generator loss decrease ratio : (0.9933294653892517)\n",
      "Max generator loss decrease : -5.406219482421875\n",
      "current lowest generator loss : 36.75194549560547\n",
      "current Learning_rate = 0.004\n",
      "save weights\n"
     ]
    },
    {
     "name": "stderr",
     "output_type": "stream",
     "text": [
      "  0% |                                                                        |\r"
     ]
    },
    {
     "name": "stdout",
     "output_type": "stream",
     "text": [
      "valid_f1_loss : 39.9352103471756\n",
      "valid_f1_score : 0.600647896528244\n",
      "valid_f1_rounded_score : 0.6015517115592957\n",
      "discriminator_learning is True\n",
      "[Epoch 18/300] [Batch 0/6200] [D loss: 0.120278, acc:   0%] [G loss: 32.157288] time: 2:41:52.430403\n"
     ]
    },
    {
     "name": "stderr",
     "output_type": "stream",
     "text": [
      " 49% |###################################                                     |\r"
     ]
    },
    {
     "name": "stdout",
     "output_type": "stream",
     "text": [
      "[Epoch 18/300] [Batch 3100/6200] [D loss: 0.120241, acc:   0%] [G loss: 35.096603] time: 2:46:03.796971\n"
     ]
    },
    {
     "name": "stderr",
     "output_type": "stream",
     "text": [
      " 99% |####################################################################### |\r"
     ]
    },
    {
     "name": "stdout",
     "output_type": "stream",
     "text": [
      "discriminator_acces : 0.0\n",
      "Mean generator_loss : 36.47275161743164\n",
      "Max generator_loss : 81.51034545898438\n",
      "Min generator_loss : 11.959996223449707\n",
      "generator loss decrease : 0.034038543701171875\n",
      "generator loss decrease ratio : (0.9990676045417786)\n",
      "Max generator loss decrease : 1.6136856079101562\n",
      "current lowest generator loss : 36.50679016113281\n",
      "current Learning_rate = 0.004\n",
      "save weights\n"
     ]
    },
    {
     "name": "stderr",
     "output_type": "stream",
     "text": [
      "  0% |                                                                        |\r"
     ]
    },
    {
     "name": "stdout",
     "output_type": "stream",
     "text": [
      "valid_f1_loss : 45.2817440032959\n",
      "valid_f1_score : 0.547182559967041\n",
      "valid_f1_rounded_score : 0.5467320680618286\n",
      "discriminator_learning is True\n",
      "[Epoch 19/300] [Batch 0/6200] [D loss: 0.120212, acc:   0%] [G loss: 37.100861] time: 2:50:50.688284\n"
     ]
    },
    {
     "name": "stderr",
     "output_type": "stream",
     "text": [
      " 49% |###################################                                     |\r"
     ]
    },
    {
     "name": "stdout",
     "output_type": "stream",
     "text": [
      "[Epoch 19/300] [Batch 3100/6200] [D loss: 0.120190, acc:   0%] [G loss: 33.423439] time: 2:55:01.750295\n"
     ]
    },
    {
     "name": "stderr",
     "output_type": "stream",
     "text": [
      " 99% |####################################################################### |\r"
     ]
    },
    {
     "name": "stdout",
     "output_type": "stream",
     "text": [
      "discriminator_acces : 0.0\n",
      "Mean generator_loss : 35.90711212158203\n",
      "Max generator_loss : 76.90996551513672\n",
      "Min generator_loss : 14.459559440612793\n",
      "generator loss decrease : 0.5656394958496094\n",
      "generator loss decrease ratio : (0.9844914674758911)\n",
      "Max generator loss decrease : 4.600379943847656\n",
      "current lowest generator loss : 36.47275161743164\n",
      "current Learning_rate = 0.004\n",
      "save weights\n"
     ]
    },
    {
     "name": "stderr",
     "output_type": "stream",
     "text": [
      "  0% |                                                                        |\r"
     ]
    },
    {
     "name": "stdout",
     "output_type": "stream",
     "text": [
      "valid_f1_loss : 37.89972960948944\n",
      "valid_f1_score : 0.6210027039051056\n",
      "valid_f1_rounded_score : 0.6298081278800964\n",
      "discriminator_learning is True\n",
      "[Epoch 20/300] [Batch 0/6200] [D loss: 0.120174, acc:   0%] [G loss: 36.799057] time: 2:59:48.500264\n"
     ]
    },
    {
     "name": "stderr",
     "output_type": "stream",
     "text": [
      " 49% |###################################                                     |\r"
     ]
    },
    {
     "name": "stdout",
     "output_type": "stream",
     "text": [
      "[Epoch 20/300] [Batch 3100/6200] [D loss: 0.120161, acc:   0%] [G loss: 37.774643] time: 3:03:59.422934\n"
     ]
    },
    {
     "name": "stderr",
     "output_type": "stream",
     "text": [
      " 99% |####################################################################### |\r"
     ]
    },
    {
     "name": "stdout",
     "output_type": "stream",
     "text": [
      "discriminator_acces : 0.0\n",
      "Mean generator_loss : 36.04240036010742\n",
      "Max generator_loss : 76.3442153930664\n",
      "Min generator_loss : 12.04060173034668\n",
      "generator loss decrease : -0.13528823852539062\n",
      "generator loss decrease ratio : (1.003767728805542)\n",
      "Max generator loss decrease : 0.5657501220703125\n",
      "current lowest generator loss : 35.90711212158203\n",
      "current Learning_rate = 0.004\n"
     ]
    },
    {
     "name": "stderr",
     "output_type": "stream",
     "text": [
      "  0% |                                                                        |\r"
     ]
    },
    {
     "name": "stdout",
     "output_type": "stream",
     "text": [
      "valid_f1_loss : 36.23228669166565\n",
      "valid_f1_score : 0.6376771330833435\n",
      "valid_f1_rounded_score : 0.6390517950057983\n",
      "discriminator_learning is True\n",
      "[Epoch 21/300] [Batch 0/6200] [D loss: 0.120151, acc:   0%] [G loss: 32.679642] time: 3:08:45.886464\n"
     ]
    },
    {
     "name": "stderr",
     "output_type": "stream",
     "text": [
      " 49% |###################################                                     |\r"
     ]
    },
    {
     "name": "stdout",
     "output_type": "stream",
     "text": [
      "[Epoch 21/300] [Batch 3100/6200] [D loss: 0.120143, acc:   0%] [G loss: 34.094448] time: 3:12:56.744552\n"
     ]
    },
    {
     "name": "stderr",
     "output_type": "stream",
     "text": [
      " 99% |####################################################################### |\r"
     ]
    },
    {
     "name": "stdout",
     "output_type": "stream",
     "text": [
      "discriminator_acces : 0.0\n",
      "Mean generator_loss : 35.81849670410156\n",
      "Max generator_loss : 74.77873229980469\n",
      "Min generator_loss : 11.350050926208496\n",
      "generator loss decrease : 0.08861541748046875\n",
      "generator loss decrease ratio : (0.997532069683075)\n",
      "Max generator loss decrease : 1.5654830932617188\n",
      "current lowest generator loss : 35.90711212158203\n",
      "current Learning_rate = 0.004\n",
      "save weights\n"
     ]
    },
    {
     "name": "stderr",
     "output_type": "stream",
     "text": [
      "  0% |                                                                        |\r"
     ]
    },
    {
     "name": "stdout",
     "output_type": "stream",
     "text": [
      "valid_f1_loss : 37.5799298286438\n",
      "valid_f1_score : 0.624200701713562\n",
      "valid_f1_rounded_score : 0.6247584223747253\n",
      "discriminator_learning is True\n",
      "[Epoch 22/300] [Batch 0/6200] [D loss: 0.120137, acc:   0%] [G loss: 33.366936] time: 3:17:43.559664\n"
     ]
    },
    {
     "name": "stderr",
     "output_type": "stream",
     "text": [
      " 49% |###################################                                     |\r"
     ]
    },
    {
     "name": "stdout",
     "output_type": "stream",
     "text": [
      "[Epoch 22/300] [Batch 3100/6200] [D loss: 0.120133, acc:   0%] [G loss: 36.818752] time: 3:21:54.521896\n"
     ]
    },
    {
     "name": "stderr",
     "output_type": "stream",
     "text": [
      " 99% |####################################################################### |\r"
     ]
    },
    {
     "name": "stdout",
     "output_type": "stream",
     "text": [
      "discriminator_acces : 0.0\n",
      "Mean generator_loss : 36.11100387573242\n",
      "Max generator_loss : 78.47046661376953\n",
      "Min generator_loss : 12.89948844909668\n",
      "generator loss decrease : -0.2925071716308594\n",
      "generator loss decrease ratio : (1.0081663131713867)\n",
      "Max generator loss decrease : -3.6917343139648438\n",
      "current lowest generator loss : 35.81849670410156\n",
      "current Learning_rate = 0.004\n"
     ]
    },
    {
     "name": "stderr",
     "output_type": "stream",
     "text": [
      "  0% |                                                                        |\r"
     ]
    },
    {
     "name": "stdout",
     "output_type": "stream",
     "text": [
      "valid_f1_loss : 40.066611766815186\n",
      "valid_f1_score : 0.5993338823318481\n",
      "valid_f1_rounded_score : 0.6000397205352783\n",
      "discriminator_learning is True\n",
      "[Epoch 23/300] [Batch 0/6200] [D loss: 0.120129, acc:   0%] [G loss: 33.626396] time: 3:26:41.736047\n"
     ]
    },
    {
     "name": "stderr",
     "output_type": "stream",
     "text": [
      " 49% |###################################                                     |\r"
     ]
    },
    {
     "name": "stdout",
     "output_type": "stream",
     "text": [
      "[Epoch 23/300] [Batch 3100/6200] [D loss: 0.120127, acc:   0%] [G loss: 35.032879] time: 3:30:52.671049\n"
     ]
    },
    {
     "name": "stderr",
     "output_type": "stream",
     "text": [
      " 99% |####################################################################### |\r"
     ]
    },
    {
     "name": "stdout",
     "output_type": "stream",
     "text": [
      "discriminator_acces : 0.0\n",
      "Mean generator_loss : 35.72544479370117\n",
      "Max generator_loss : 78.99267578125\n",
      "Min generator_loss : 11.963738441467285\n",
      "generator loss decrease : 0.09305191040039062\n",
      "generator loss decrease ratio : (0.9974021315574646)\n",
      "Max generator loss decrease : -0.5222091674804688\n",
      "current lowest generator loss : 35.81849670410156\n",
      "current Learning_rate = 0.004\n",
      "save weights\n"
     ]
    },
    {
     "name": "stderr",
     "output_type": "stream",
     "text": [
      "  0% |                                                                        |\r"
     ]
    },
    {
     "name": "stdout",
     "output_type": "stream",
     "text": [
      "valid_f1_loss : 39.95031118392944\n",
      "valid_f1_score : 0.6004968881607056\n",
      "valid_f1_rounded_score : 0.6003047227859497\n",
      "discriminator_learning is True\n",
      "[Epoch 24/300] [Batch 0/6200] [D loss: 0.120125, acc:   0%] [G loss: 34.393478] time: 3:35:39.362518\n"
     ]
    },
    {
     "name": "stderr",
     "output_type": "stream",
     "text": [
      " 49% |###################################                                     |\r"
     ]
    },
    {
     "name": "stdout",
     "output_type": "stream",
     "text": [
      "[Epoch 24/300] [Batch 3100/6200] [D loss: 0.120123, acc:   0%] [G loss: 32.532425] time: 3:39:50.278257\n"
     ]
    },
    {
     "name": "stderr",
     "output_type": "stream",
     "text": [
      " 99% |####################################################################### |\r"
     ]
    },
    {
     "name": "stdout",
     "output_type": "stream",
     "text": [
      "discriminator_acces : 0.0\n",
      "Mean generator_loss : 35.36115264892578\n",
      "Max generator_loss : 78.61241912841797\n",
      "Min generator_loss : 13.447633743286133\n",
      "generator loss decrease : 0.3642921447753906\n",
      "generator loss decrease ratio : (0.9898030161857605)\n",
      "Max generator loss decrease : 0.38025665283203125\n",
      "current lowest generator loss : 35.72544479370117\n",
      "current Learning_rate = 0.004\n",
      "save weights\n"
     ]
    },
    {
     "name": "stderr",
     "output_type": "stream",
     "text": [
      "  0% |                                                                        |\r"
     ]
    },
    {
     "name": "stdout",
     "output_type": "stream",
     "text": [
      "valid_f1_loss : 36.04659140110016\n",
      "valid_f1_score : 0.6395340859889984\n",
      "valid_f1_rounded_score : 0.6397605538368225\n",
      "discriminator_learning is True\n",
      "[Epoch 25/300] [Batch 0/6200] [D loss: 0.120122, acc:   0%] [G loss: 32.857971] time: 3:44:37.022204\n"
     ]
    },
    {
     "name": "stderr",
     "output_type": "stream",
     "text": [
      " 49% |###################################                                     |\r"
     ]
    },
    {
     "name": "stdout",
     "output_type": "stream",
     "text": [
      "[Epoch 25/300] [Batch 3100/6200] [D loss: 0.120103, acc: 100%] [G loss: 32.721783] time: 3:48:50.353463\n"
     ]
    },
    {
     "name": "stderr",
     "output_type": "stream",
     "text": [
      " 99% |####################################################################### |\r"
     ]
    },
    {
     "name": "stdout",
     "output_type": "stream",
     "text": [
      "discriminator_acces : 0.6612903225806451\n",
      "Mean generator_loss : 35.61516571044922\n",
      "Max generator_loss : 82.74400329589844\n",
      "Min generator_loss : 12.756415367126465\n",
      "generator loss decrease : -0.2540130615234375\n",
      "generator loss decrease ratio : (1.0071834325790405)\n",
      "Max generator loss decrease : -4.131584167480469\n",
      "current lowest generator loss : 35.36115264892578\n",
      "current Learning_rate = 0.004\n"
     ]
    },
    {
     "name": "stderr",
     "output_type": "stream",
     "text": [
      "  0% |                                                                        |\r"
     ]
    },
    {
     "name": "stdout",
     "output_type": "stream",
     "text": [
      "valid_f1_loss : 37.37378418445587\n",
      "valid_f1_score : 0.6262621581554413\n",
      "valid_f1_rounded_score : 0.6267275214195251\n",
      "discriminator_learning is True\n",
      "[Epoch 26/300] [Batch 0/6200] [D loss: 0.120103, acc: 100%] [G loss: 35.691959] time: 3:53:37.213690\n"
     ]
    },
    {
     "name": "stderr",
     "output_type": "stream",
     "text": [
      " 49% |###################################                                     |\r"
     ]
    },
    {
     "name": "stdout",
     "output_type": "stream",
     "text": [
      "[Epoch 26/300] [Batch 3100/6200] [D loss: 0.145097, acc:   0%] [G loss: 31.580185] time: 3:57:41.821189\n"
     ]
    },
    {
     "name": "stderr",
     "output_type": "stream",
     "text": [
      " 99% |####################################################################### |\r"
     ]
    },
    {
     "name": "stdout",
     "output_type": "stream",
     "text": [
      "discriminator_acces : 0.3412903225806452\n",
      "Mean generator_loss : 35.337425231933594\n",
      "Max generator_loss : 82.72604370117188\n",
      "Min generator_loss : 11.954729080200195\n",
      "generator loss decrease : 0.0237274169921875\n",
      "generator loss decrease ratio : (0.9993289709091187)\n",
      "Max generator loss decrease : 0.0179595947265625\n",
      "current lowest generator loss : 35.36115264892578\n",
      "current Learning_rate = 0.004\n",
      "save weights\n"
     ]
    },
    {
     "name": "stderr",
     "output_type": "stream",
     "text": [
      "  0% |                                                                        |\r"
     ]
    },
    {
     "name": "stdout",
     "output_type": "stream",
     "text": [
      "valid_f1_loss : 42.5094872713089\n",
      "valid_f1_score : 0.574905127286911\n",
      "valid_f1_rounded_score : 0.5755648016929626\n",
      "discriminator_learning is True\n",
      "[Epoch 27/300] [Batch 0/6200] [D loss: 0.195183, acc:   0%] [G loss: 35.355614] time: 4:02:08.911895\n"
     ]
    },
    {
     "name": "stderr",
     "output_type": "stream",
     "text": [
      " 49% |###################################                                     |\r"
     ]
    },
    {
     "name": "stdout",
     "output_type": "stream",
     "text": [
      "[Epoch 27/300] [Batch 3100/6200] [D loss: 0.211570, acc:   0%] [G loss: 31.969774] time: 4:06:06.631186\n"
     ]
    },
    {
     "name": "stderr",
     "output_type": "stream",
     "text": [
      " 99% |####################################################################### |\r"
     ]
    },
    {
     "name": "stdout",
     "output_type": "stream",
     "text": [
      "discriminator_acces : 0.0\n",
      "Mean generator_loss : 35.33322525024414\n",
      "Max generator_loss : 75.77101135253906\n",
      "Min generator_loss : 12.501777648925781\n",
      "generator loss decrease : 0.004199981689453125\n",
      "generator loss decrease ratio : (0.9998811483383179)\n",
      "Max generator loss decrease : 6.9550323486328125\n",
      "current lowest generator loss : 35.337425231933594\n",
      "current Learning_rate = 0.004\n",
      "save weights\n"
     ]
    },
    {
     "name": "stderr",
     "output_type": "stream",
     "text": [
      "  0% |                                                                        |\r"
     ]
    },
    {
     "name": "stdout",
     "output_type": "stream",
     "text": [
      "valid_f1_loss : 38.28130662441254\n",
      "valid_f1_score : 0.6171869337558746\n",
      "valid_f1_rounded_score : 0.617727518081665\n",
      "discriminator_learning is True\n",
      "[Epoch 28/300] [Batch 0/6200] [D loss: 0.188776, acc:   0%] [G loss: 33.467873] time: 4:10:53.399990\n"
     ]
    },
    {
     "name": "stderr",
     "output_type": "stream",
     "text": [
      " 49% |###################################                                     |\r"
     ]
    },
    {
     "name": "stdout",
     "output_type": "stream",
     "text": [
      "[Epoch 28/300] [Batch 3100/6200] [D loss: 0.172172, acc:   0%] [G loss: 33.480400] time: 4:15:04.562423\n"
     ]
    },
    {
     "name": "stderr",
     "output_type": "stream",
     "text": [
      " 99% |####################################################################### |\r"
     ]
    },
    {
     "name": "stdout",
     "output_type": "stream",
     "text": [
      "discriminator_acces : 0.0\n",
      "Mean generator_loss : 34.80179214477539\n",
      "Max generator_loss : 73.77775573730469\n",
      "Min generator_loss : 11.637232780456543\n",
      "generator loss decrease : 0.53143310546875\n",
      "generator loss decrease ratio : (0.9849594235420227)\n",
      "Max generator loss decrease : 1.993255615234375\n",
      "current lowest generator loss : 35.33322525024414\n",
      "current Learning_rate = 0.004\n",
      "save weights\n"
     ]
    },
    {
     "name": "stderr",
     "output_type": "stream",
     "text": [
      "  0% |                                                                        |\r"
     ]
    },
    {
     "name": "stdout",
     "output_type": "stream",
     "text": [
      "valid_f1_loss : 39.46652114391327\n",
      "valid_f1_score : 0.6053347885608673\n",
      "valid_f1_rounded_score : 0.6061046719551086\n",
      "discriminator_learning is True\n",
      "[Epoch 29/300] [Batch 0/6200] [D loss: 0.159645, acc:   0%] [G loss: 32.159599] time: 4:19:51.373930\n"
     ]
    },
    {
     "name": "stderr",
     "output_type": "stream",
     "text": [
      " 49% |###################################                                     |\r"
     ]
    },
    {
     "name": "stdout",
     "output_type": "stream",
     "text": [
      "[Epoch 29/300] [Batch 3100/6200] [D loss: 0.150165, acc:   0%] [G loss: 32.061245] time: 4:24:02.304387\n"
     ]
    },
    {
     "name": "stderr",
     "output_type": "stream",
     "text": [
      " 99% |####################################################################### |\r"
     ]
    },
    {
     "name": "stdout",
     "output_type": "stream",
     "text": [
      "discriminator_acces : 0.0\n",
      "Mean generator_loss : 34.87489318847656\n",
      "Max generator_loss : 77.02719116210938\n",
      "Min generator_loss : 11.168014526367188\n",
      "generator loss decrease : -0.07310104370117188\n",
      "generator loss decrease ratio : (1.0021004676818848)\n",
      "Max generator loss decrease : -3.2494354248046875\n",
      "current lowest generator loss : 34.80179214477539\n",
      "current Learning_rate = 0.004\n"
     ]
    },
    {
     "name": "stderr",
     "output_type": "stream",
     "text": [
      "  0% |                                                                        |\r"
     ]
    },
    {
     "name": "stdout",
     "output_type": "stream",
     "text": [
      "valid_f1_loss : 38.05305361747742\n",
      "valid_f1_score : 0.6194694638252258\n",
      "valid_f1_rounded_score : 0.6195798516273499\n",
      "discriminator_learning is True\n",
      "[Epoch 30/300] [Batch 0/6200] [D loss: 0.142986, acc:   0%] [G loss: 25.929535] time: 4:28:48.640017\n"
     ]
    },
    {
     "name": "stderr",
     "output_type": "stream",
     "text": [
      " 49% |###################################                                     |\r"
     ]
    },
    {
     "name": "stdout",
     "output_type": "stream",
     "text": [
      "[Epoch 30/300] [Batch 3100/6200] [D loss: 0.141778, acc:   0%] [G loss: 32.523525] time: 4:32:59.412883\n"
     ]
    },
    {
     "name": "stderr",
     "output_type": "stream",
     "text": [
      " 99% |####################################################################### |\r"
     ]
    },
    {
     "name": "stdout",
     "output_type": "stream",
     "text": [
      "discriminator_acces : 0.0\n",
      "Mean generator_loss : 33.41910934448242\n",
      "Max generator_loss : 74.17068481445312\n",
      "Min generator_loss : 12.500673294067383\n",
      "generator loss decrease : 1.3826828002929688\n",
      "generator loss decrease ratio : (0.9602698087692261)\n",
      "Max generator loss decrease : 2.85650634765625\n",
      "current lowest generator loss : 34.80179214477539\n",
      "current Learning_rate = 0.0008\n",
      "save weights\n"
     ]
    },
    {
     "name": "stderr",
     "output_type": "stream",
     "text": [
      "  0% |                                                                        |\r"
     ]
    },
    {
     "name": "stdout",
     "output_type": "stream",
     "text": [
      "valid_f1_loss : 37.19342350959778\n",
      "valid_f1_score : 0.6280657649040222\n",
      "valid_f1_rounded_score : 0.6282746195793152\n",
      "discriminator_learning is True\n",
      "[Epoch 31/300] [Batch 0/6200] [D loss: 0.140636, acc:   0%] [G loss: 23.877872] time: 4:37:46.003752\n"
     ]
    },
    {
     "name": "stderr",
     "output_type": "stream",
     "text": [
      " 49% |###################################                                     |\r"
     ]
    },
    {
     "name": "stdout",
     "output_type": "stream",
     "text": [
      "[Epoch 31/300] [Batch 3100/6200] [D loss: 0.139555, acc:   0%] [G loss: 32.360161] time: 4:41:56.918148\n"
     ]
    },
    {
     "name": "stderr",
     "output_type": "stream",
     "text": [
      " 99% |####################################################################### |\r"
     ]
    },
    {
     "name": "stdout",
     "output_type": "stream",
     "text": [
      "discriminator_acces : 0.0\n",
      "Mean generator_loss : 32.89856719970703\n",
      "Max generator_loss : 73.02154541015625\n",
      "Min generator_loss : 11.607172966003418\n",
      "generator loss decrease : 0.5205421447753906\n",
      "generator loss decrease ratio : (0.984423816204071)\n",
      "Max generator loss decrease : 1.149139404296875\n",
      "current lowest generator loss : 33.41910934448242\n",
      "current Learning_rate = 0.0008\n",
      "save weights\n"
     ]
    },
    {
     "name": "stderr",
     "output_type": "stream",
     "text": [
      "  0% |                                                                        |\r"
     ]
    },
    {
     "name": "stdout",
     "output_type": "stream",
     "text": [
      "valid_f1_loss : 35.648128390312195\n",
      "valid_f1_score : 0.643518716096878\n",
      "valid_f1_rounded_score : 0.643812894821167\n",
      "discriminator_learning is True\n",
      "[Epoch 32/300] [Batch 0/6200] [D loss: 0.138532, acc:   0%] [G loss: 22.588718] time: 4:46:43.576176\n"
     ]
    },
    {
     "name": "stderr",
     "output_type": "stream",
     "text": [
      " 49% |###################################                                     |\r"
     ]
    },
    {
     "name": "stdout",
     "output_type": "stream",
     "text": [
      "[Epoch 32/300] [Batch 3100/6200] [D loss: 0.137563, acc:   0%] [G loss: 31.537846] time: 4:50:56.488992\n"
     ]
    },
    {
     "name": "stderr",
     "output_type": "stream",
     "text": [
      " 99% |####################################################################### |\r"
     ]
    },
    {
     "name": "stdout",
     "output_type": "stream",
     "text": [
      "discriminator_acces : 0.0\n",
      "Mean generator_loss : 32.58402633666992\n",
      "Max generator_loss : 71.48609924316406\n",
      "Min generator_loss : 11.66585922241211\n",
      "generator loss decrease : 0.3145408630371094\n",
      "generator loss decrease ratio : (0.9904390573501587)\n",
      "Max generator loss decrease : 1.5354461669921875\n",
      "current lowest generator loss : 32.89856719970703\n",
      "current Learning_rate = 0.0008\n",
      "save weights\n"
     ]
    },
    {
     "name": "stderr",
     "output_type": "stream",
     "text": [
      "  0% |                                                                        |\r"
     ]
    },
    {
     "name": "stdout",
     "output_type": "stream",
     "text": [
      "valid_f1_loss : 35.47084927558899\n",
      "valid_f1_score : 0.6452915072441101\n",
      "valid_f1_rounded_score : 0.6455604434013367\n",
      "discriminator_learning is True\n",
      "[Epoch 33/300] [Batch 0/6200] [D loss: 0.136647, acc:   0%] [G loss: 22.721855] time: 4:55:43.477709\n"
     ]
    },
    {
     "name": "stderr",
     "output_type": "stream",
     "text": [
      " 49% |###################################                                     |\r"
     ]
    },
    {
     "name": "stdout",
     "output_type": "stream",
     "text": [
      "[Epoch 33/300] [Batch 3100/6200] [D loss: 0.135779, acc:   0%] [G loss: 31.197603] time: 4:59:54.857864\n"
     ]
    },
    {
     "name": "stderr",
     "output_type": "stream",
     "text": [
      " 99% |####################################################################### |\r"
     ]
    },
    {
     "name": "stdout",
     "output_type": "stream",
     "text": [
      "discriminator_acces : 0.0\n",
      "Mean generator_loss : 32.4390869140625\n",
      "Max generator_loss : 72.69363403320312\n",
      "Min generator_loss : 11.902104377746582\n",
      "generator loss decrease : 0.14493942260742188\n",
      "generator loss decrease ratio : (0.9955518245697021)\n",
      "Max generator loss decrease : -1.2075347900390625\n",
      "current lowest generator loss : 32.58402633666992\n",
      "current Learning_rate = 0.0008\n",
      "save weights\n"
     ]
    },
    {
     "name": "stderr",
     "output_type": "stream",
     "text": [
      "  0% |                                                                        |\r"
     ]
    },
    {
     "name": "stdout",
     "output_type": "stream",
     "text": [
      "valid_f1_loss : 35.55131256580353\n",
      "valid_f1_score : 0.6444868743419647\n",
      "valid_f1_rounded_score : 0.6447356939315796\n",
      "discriminator_learning is True\n",
      "[Epoch 34/300] [Batch 0/6200] [D loss: 0.134957, acc:   0%] [G loss: 23.681187] time: 5:04:41.573673\n"
     ]
    },
    {
     "name": "stderr",
     "output_type": "stream",
     "text": [
      " 49% |###################################                                     |\r"
     ]
    },
    {
     "name": "stdout",
     "output_type": "stream",
     "text": [
      "[Epoch 34/300] [Batch 3100/6200] [D loss: 0.134179, acc:   0%] [G loss: 31.014046] time: 5:08:52.687458\n"
     ]
    },
    {
     "name": "stderr",
     "output_type": "stream",
     "text": [
      " 99% |####################################################################### |\r"
     ]
    },
    {
     "name": "stdout",
     "output_type": "stream",
     "text": [
      "discriminator_acces : 0.0\n",
      "Mean generator_loss : 32.433170318603516\n",
      "Max generator_loss : 71.02837371826172\n",
      "Min generator_loss : 11.562386512756348\n",
      "generator loss decrease : 0.005916595458984375\n",
      "generator loss decrease ratio : (0.9998176097869873)\n",
      "Max generator loss decrease : 1.6652603149414062\n",
      "current lowest generator loss : 32.4390869140625\n",
      "current Learning_rate = 0.0008\n",
      "save weights\n"
     ]
    },
    {
     "name": "stderr",
     "output_type": "stream",
     "text": [
      "  0% |                                                                        |\r"
     ]
    },
    {
     "name": "stdout",
     "output_type": "stream",
     "text": [
      "valid_f1_loss : 35.69780886173248\n",
      "valid_f1_score : 0.6430219113826752\n",
      "valid_f1_rounded_score : 0.6434866189956665\n",
      "discriminator_learning is True\n",
      "[Epoch 35/300] [Batch 0/6200] [D loss: 0.133442, acc:   0%] [G loss: 22.484283] time: 5:13:39.413054\n"
     ]
    },
    {
     "name": "stderr",
     "output_type": "stream",
     "text": [
      " 49% |###################################                                     |\r"
     ]
    },
    {
     "name": "stdout",
     "output_type": "stream",
     "text": [
      "[Epoch 35/300] [Batch 3100/6200] [D loss: 0.132744, acc:   0%] [G loss: 32.651180] time: 5:17:50.464786\n"
     ]
    },
    {
     "name": "stderr",
     "output_type": "stream",
     "text": [
      " 99% |####################################################################### |\r"
     ]
    },
    {
     "name": "stdout",
     "output_type": "stream",
     "text": [
      "discriminator_acces : 0.0\n",
      "Mean generator_loss : 32.13209533691406\n",
      "Max generator_loss : 71.67415618896484\n",
      "Min generator_loss : 11.042694091796875\n",
      "generator loss decrease : 0.3010749816894531\n",
      "generator loss decrease ratio : (0.9907170534133911)\n",
      "Max generator loss decrease : -0.645782470703125\n",
      "current lowest generator loss : 32.433170318603516\n",
      "current Learning_rate = 0.0008\n",
      "save weights\n"
     ]
    },
    {
     "name": "stderr",
     "output_type": "stream",
     "text": [
      "  0% |                                                                        |\r"
     ]
    },
    {
     "name": "stdout",
     "output_type": "stream",
     "text": [
      "valid_f1_loss : 36.449575424194336\n",
      "valid_f1_score : 0.6355042457580566\n",
      "valid_f1_rounded_score : 0.6357240676879883\n",
      "discriminator_learning is True\n",
      "[Epoch 36/300] [Batch 0/6200] [D loss: 0.132084, acc:   0%] [G loss: 19.018913] time: 5:22:37.206339\n"
     ]
    },
    {
     "name": "stderr",
     "output_type": "stream",
     "text": [
      " 49% |###################################                                     |\r"
     ]
    },
    {
     "name": "stdout",
     "output_type": "stream",
     "text": [
      "[Epoch 36/300] [Batch 3100/6200] [D loss: 0.131458, acc:   0%] [G loss: 30.028341] time: 5:26:48.203116\n"
     ]
    },
    {
     "name": "stderr",
     "output_type": "stream",
     "text": [
      " 99% |####################################################################### |\r"
     ]
    },
    {
     "name": "stdout",
     "output_type": "stream",
     "text": [
      "discriminator_acces : 0.0\n",
      "Mean generator_loss : 31.99615478515625\n",
      "Max generator_loss : 71.28184509277344\n",
      "Min generator_loss : 11.477282524108887\n",
      "generator loss decrease : 0.1359405517578125\n",
      "generator loss decrease ratio : (0.9957693219184875)\n",
      "Max generator loss decrease : 0.39231109619140625\n",
      "current lowest generator loss : 32.13209533691406\n",
      "current Learning_rate = 0.0008\n",
      "save weights\n"
     ]
    },
    {
     "name": "stderr",
     "output_type": "stream",
     "text": [
      "  0% |                                                                        |\r"
     ]
    },
    {
     "name": "stdout",
     "output_type": "stream",
     "text": [
      "valid_f1_loss : 35.76589822769165\n",
      "valid_f1_score : 0.6423410177230835\n",
      "valid_f1_rounded_score : 0.6427692174911499\n",
      "discriminator_learning is True\n",
      "[Epoch 37/300] [Batch 0/6200] [D loss: 0.130866, acc:   0%] [G loss: 20.781460] time: 5:31:34.931309\n"
     ]
    },
    {
     "name": "stderr",
     "output_type": "stream",
     "text": [
      " 49% |###################################                                     |\r"
     ]
    },
    {
     "name": "stdout",
     "output_type": "stream",
     "text": [
      "[Epoch 37/300] [Batch 3100/6200] [D loss: 0.130304, acc:   0%] [G loss: 33.364910] time: 5:35:45.894563\n"
     ]
    },
    {
     "name": "stderr",
     "output_type": "stream",
     "text": [
      " 99% |####################################################################### |\r"
     ]
    },
    {
     "name": "stdout",
     "output_type": "stream",
     "text": [
      "discriminator_acces : 0.0\n",
      "Mean generator_loss : 31.872041702270508\n",
      "Max generator_loss : 68.98430633544922\n",
      "Min generator_loss : 11.578337669372559\n",
      "generator loss decrease : 0.12411308288574219\n",
      "generator loss decrease ratio : (0.9961209893226624)\n",
      "Max generator loss decrease : 2.2975387573242188\n",
      "current lowest generator loss : 31.99615478515625\n",
      "current Learning_rate = 0.0008\n",
      "save weights\n"
     ]
    },
    {
     "name": "stderr",
     "output_type": "stream",
     "text": [
      "  0% |                                                                        |\r"
     ]
    },
    {
     "name": "stdout",
     "output_type": "stream",
     "text": [
      "valid_f1_loss : 36.51139438152313\n",
      "valid_f1_score : 0.6348860561847687\n",
      "valid_f1_rounded_score : 0.6351945996284485\n",
      "discriminator_learning is True\n",
      "[Epoch 38/300] [Batch 0/6200] [D loss: 0.129773, acc:   0%] [G loss: 23.081398] time: 5:40:32.521891\n"
     ]
    },
    {
     "name": "stderr",
     "output_type": "stream",
     "text": [
      " 49% |###################################                                     |\r"
     ]
    },
    {
     "name": "stdout",
     "output_type": "stream",
     "text": [
      "[Epoch 38/300] [Batch 3100/6200] [D loss: 0.129269, acc:   0%] [G loss: 28.974890] time: 5:44:43.482577\n"
     ]
    },
    {
     "name": "stderr",
     "output_type": "stream",
     "text": [
      " 99% |####################################################################### |\r"
     ]
    },
    {
     "name": "stdout",
     "output_type": "stream",
     "text": [
      "discriminator_acces : 0.0\n",
      "Mean generator_loss : 31.890716552734375\n",
      "Max generator_loss : 72.94416809082031\n",
      "Min generator_loss : 10.464333534240723\n",
      "generator loss decrease : -0.018674850463867188\n",
      "generator loss decrease ratio : (1.000585913658142)\n",
      "Max generator loss decrease : -3.9598617553710938\n",
      "current lowest generator loss : 31.872041702270508\n",
      "current Learning_rate = 0.0008\n"
     ]
    },
    {
     "name": "stderr",
     "output_type": "stream",
     "text": [
      "  0% |                                                                        |\r"
     ]
    },
    {
     "name": "stdout",
     "output_type": "stream",
     "text": [
      "valid_f1_loss : 36.34734749794006\n",
      "valid_f1_score : 0.6365265250205994\n",
      "valid_f1_rounded_score : 0.6370202898979187\n",
      "discriminator_learning is True\n",
      "[Epoch 39/300] [Batch 0/6200] [D loss: 0.128792, acc:   0%] [G loss: 19.749823] time: 5:49:29.910982\n"
     ]
    },
    {
     "name": "stderr",
     "output_type": "stream",
     "text": [
      " 49% |###################################                                     |\r"
     ]
    },
    {
     "name": "stdout",
     "output_type": "stream",
     "text": [
      "[Epoch 39/300] [Batch 3100/6200] [D loss: 0.128341, acc:   0%] [G loss: 29.830427] time: 5:53:40.736242\n"
     ]
    },
    {
     "name": "stderr",
     "output_type": "stream",
     "text": [
      " 99% |####################################################################### |\r"
     ]
    },
    {
     "name": "stdout",
     "output_type": "stream",
     "text": [
      "discriminator_acces : 0.0\n",
      "Mean generator_loss : 31.7686710357666\n",
      "Max generator_loss : 72.2515640258789\n",
      "Min generator_loss : 10.582428932189941\n",
      "generator loss decrease : 0.10337066650390625\n",
      "generator loss decrease ratio : (0.9967566728591919)\n",
      "Max generator loss decrease : 0.6926040649414062\n",
      "current lowest generator loss : 31.872041702270508\n",
      "current Learning_rate = 0.0008\n",
      "save weights\n"
     ]
    },
    {
     "name": "stderr",
     "output_type": "stream",
     "text": [
      "  0% |                                                                        |\r"
     ]
    },
    {
     "name": "stdout",
     "output_type": "stream",
     "text": [
      "valid_f1_loss : 35.80869138240814\n",
      "valid_f1_score : 0.6419130861759186\n",
      "valid_f1_rounded_score : 0.6422780156135559\n",
      "discriminator_learning is True\n",
      "[Epoch 40/300] [Batch 0/6200] [D loss: 0.127913, acc:   0%] [G loss: 18.585020] time: 5:58:27.228015\n"
     ]
    },
    {
     "name": "stderr",
     "output_type": "stream",
     "text": [
      " 49% |###################################                                     |\r"
     ]
    },
    {
     "name": "stdout",
     "output_type": "stream",
     "text": [
      "[Epoch 40/300] [Batch 3100/6200] [D loss: 0.127507, acc:   0%] [G loss: 28.784052] time: 6:02:38.075246\n"
     ]
    },
    {
     "name": "stderr",
     "output_type": "stream",
     "text": [
      " 99% |####################################################################### |\r"
     ]
    },
    {
     "name": "stdout",
     "output_type": "stream",
     "text": [
      "discriminator_acces : 0.0\n",
      "Mean generator_loss : 31.7176513671875\n",
      "Max generator_loss : 72.44985961914062\n",
      "Min generator_loss : 10.98060417175293\n",
      "generator loss decrease : 0.05101966857910156\n",
      "generator loss decrease ratio : (0.9983940124511719)\n",
      "Max generator loss decrease : -0.19829559326171875\n",
      "current lowest generator loss : 31.7686710357666\n",
      "current Learning_rate = 0.0008\n",
      "save weights\n"
     ]
    },
    {
     "name": "stderr",
     "output_type": "stream",
     "text": [
      "  0% |                                                                        |\r"
     ]
    },
    {
     "name": "stdout",
     "output_type": "stream",
     "text": [
      "valid_f1_loss : 35.74763536453247\n",
      "valid_f1_score : 0.6425236463546753\n",
      "valid_f1_rounded_score : 0.6429015398025513\n",
      "discriminator_learning is True\n",
      "[Epoch 41/300] [Batch 0/6200] [D loss: 0.127123, acc:   0%] [G loss: 20.064537] time: 6:07:24.693717\n"
     ]
    },
    {
     "name": "stderr",
     "output_type": "stream",
     "text": [
      " 49% |###################################                                     |\r"
     ]
    },
    {
     "name": "stdout",
     "output_type": "stream",
     "text": [
      "[Epoch 41/300] [Batch 3100/6200] [D loss: 0.126759, acc:   0%] [G loss: 27.483131] time: 6:11:35.581652\n"
     ]
    },
    {
     "name": "stderr",
     "output_type": "stream",
     "text": [
      " 99% |####################################################################### |\r"
     ]
    },
    {
     "name": "stdout",
     "output_type": "stream",
     "text": [
      "discriminator_acces : 0.0\n",
      "Mean generator_loss : 31.4792537689209\n",
      "Max generator_loss : 72.22783660888672\n",
      "Min generator_loss : 10.752175331115723\n",
      "generator loss decrease : 0.23839759826660156\n",
      "generator loss decrease ratio : (0.9924837350845337)\n",
      "Max generator loss decrease : 0.22202301025390625\n",
      "current lowest generator loss : 31.7176513671875\n",
      "current Learning_rate = 0.0008\n",
      "save weights\n"
     ]
    },
    {
     "name": "stderr",
     "output_type": "stream",
     "text": [
      "  0% |                                                                        |\r"
     ]
    },
    {
     "name": "stdout",
     "output_type": "stream",
     "text": [
      "valid_f1_loss : 36.68726682662964\n",
      "valid_f1_score : 0.6331273317337036\n",
      "valid_f1_rounded_score : 0.6334516406059265\n",
      "discriminator_learning is True\n",
      "[Epoch 42/300] [Batch 0/6200] [D loss: 0.126414, acc:   0%] [G loss: 21.495070] time: 6:16:22.276387\n"
     ]
    },
    {
     "name": "stderr",
     "output_type": "stream",
     "text": [
      " 49% |###################################                                     |\r"
     ]
    },
    {
     "name": "stdout",
     "output_type": "stream",
     "text": [
      "[Epoch 42/300] [Batch 3100/6200] [D loss: 0.126087, acc:   0%] [G loss: 32.213745] time: 6:20:33.191030\n"
     ]
    },
    {
     "name": "stderr",
     "output_type": "stream",
     "text": [
      " 99% |####################################################################### |\r"
     ]
    },
    {
     "name": "stdout",
     "output_type": "stream",
     "text": [
      "discriminator_acces : 0.0\n",
      "Mean generator_loss : 31.622543334960938\n",
      "Max generator_loss : 72.91039276123047\n",
      "Min generator_loss : 11.35821533203125\n",
      "generator loss decrease : -0.14328956604003906\n",
      "generator loss decrease ratio : (1.004551887512207)\n",
      "Max generator loss decrease : -0.68255615234375\n",
      "current lowest generator loss : 31.4792537689209\n",
      "current Learning_rate = 0.0008\n"
     ]
    },
    {
     "name": "stderr",
     "output_type": "stream",
     "text": [
      "  0% |                                                                        |\r"
     ]
    },
    {
     "name": "stdout",
     "output_type": "stream",
     "text": [
      "valid_f1_loss : 35.758110880851746\n",
      "valid_f1_score : 0.6424188911914825\n",
      "valid_f1_rounded_score : 0.6429286599159241\n",
      "discriminator_learning is True\n",
      "[Epoch 43/300] [Batch 0/6200] [D loss: 0.125777, acc:   0%] [G loss: 25.351858] time: 6:25:19.721816\n"
     ]
    },
    {
     "name": "stderr",
     "output_type": "stream",
     "text": [
      " 49% |###################################                                     |\r"
     ]
    },
    {
     "name": "stdout",
     "output_type": "stream",
     "text": [
      "[Epoch 43/300] [Batch 3100/6200] [D loss: 0.125483, acc:   0%] [G loss: 29.228010] time: 6:29:30.740594\n"
     ]
    },
    {
     "name": "stderr",
     "output_type": "stream",
     "text": [
      " 99% |####################################################################### |\r"
     ]
    },
    {
     "name": "stdout",
     "output_type": "stream",
     "text": [
      "discriminator_acces : 0.0\n",
      "Mean generator_loss : 31.379911422729492\n",
      "Max generator_loss : 71.04515075683594\n",
      "Min generator_loss : 10.547027587890625\n",
      "generator loss decrease : 0.09934234619140625\n",
      "generator loss decrease ratio : (0.9968441724777222)\n",
      "Max generator loss decrease : 1.8652420043945312\n",
      "current lowest generator loss : 31.4792537689209\n",
      "current Learning_rate = 0.0008\n",
      "save weights\n"
     ]
    },
    {
     "name": "stderr",
     "output_type": "stream",
     "text": [
      "  0% |                                                                        |\r"
     ]
    },
    {
     "name": "stdout",
     "output_type": "stream",
     "text": [
      "valid_f1_loss : 38.16303908824921\n",
      "valid_f1_score : 0.6183696091175079\n",
      "valid_f1_rounded_score : 0.6181678771972656\n",
      "discriminator_learning is True\n",
      "[Epoch 44/300] [Batch 0/6200] [D loss: 0.125205, acc:   0%] [G loss: 18.490788] time: 6:34:17.549077\n"
     ]
    },
    {
     "name": "stderr",
     "output_type": "stream",
     "text": [
      " 49% |###################################                                     |\r"
     ]
    },
    {
     "name": "stdout",
     "output_type": "stream",
     "text": [
      "[Epoch 44/300] [Batch 3100/6200] [D loss: 0.124941, acc:   0%] [G loss: 29.188976] time: 6:38:28.445429\n"
     ]
    },
    {
     "name": "stderr",
     "output_type": "stream",
     "text": [
      " 99% |####################################################################### |\r"
     ]
    },
    {
     "name": "stdout",
     "output_type": "stream",
     "text": [
      "discriminator_acces : 0.0\n",
      "Mean generator_loss : 31.40377426147461\n",
      "Max generator_loss : 70.85314178466797\n",
      "Min generator_loss : 11.910027503967285\n",
      "generator loss decrease : -0.023862838745117188\n",
      "generator loss decrease ratio : (1.0007604360580444)\n",
      "Max generator loss decrease : 0.19200897216796875\n",
      "current lowest generator loss : 31.379911422729492\n",
      "current Learning_rate = 0.0008\n"
     ]
    },
    {
     "name": "stderr",
     "output_type": "stream",
     "text": [
      "  0% |                                                                        |\r"
     ]
    },
    {
     "name": "stdout",
     "output_type": "stream",
     "text": [
      "valid_f1_loss : 36.89968287944794\n",
      "valid_f1_score : 0.6310031712055206\n",
      "valid_f1_rounded_score : 0.6309688091278076\n",
      "discriminator_learning is True\n",
      "[Epoch 45/300] [Batch 0/6200] [D loss: 0.124691, acc:   0%] [G loss: 24.675495] time: 6:43:15.930646\n"
     ]
    },
    {
     "name": "stderr",
     "output_type": "stream",
     "text": [
      " 49% |###################################                                     |\r"
     ]
    },
    {
     "name": "stdout",
     "output_type": "stream",
     "text": [
      "[Epoch 45/300] [Batch 3100/6200] [D loss: 0.124454, acc:   0%] [G loss: 30.415253] time: 6:47:30.895269\n"
     ]
    },
    {
     "name": "stderr",
     "output_type": "stream",
     "text": [
      " 99% |####################################################################### |\r"
     ]
    },
    {
     "name": "stdout",
     "output_type": "stream",
     "text": [
      "discriminator_acces : 0.0\n",
      "Mean generator_loss : 31.33128547668457\n",
      "Max generator_loss : 72.63194274902344\n",
      "Min generator_loss : 11.17900276184082\n",
      "generator loss decrease : 0.048625946044921875\n",
      "generator loss decrease ratio : (0.9984503984451294)\n",
      "Max generator loss decrease : -1.7788009643554688\n",
      "current lowest generator loss : 31.379911422729492\n",
      "current Learning_rate = 0.0008\n",
      "save weights\n"
     ]
    },
    {
     "name": "stderr",
     "output_type": "stream",
     "text": [
      "  0% |                                                                        |\r"
     ]
    },
    {
     "name": "stdout",
     "output_type": "stream",
     "text": [
      "valid_f1_loss : 35.68747937679291\n",
      "valid_f1_score : 0.6431252062320709\n",
      "valid_f1_rounded_score : 0.6433675289154053\n",
      "discriminator_learning is True\n",
      "[Epoch 46/300] [Batch 0/6200] [D loss: 0.124230, acc:   0%] [G loss: 18.577200] time: 6:52:19.627987\n"
     ]
    },
    {
     "name": "stderr",
     "output_type": "stream",
     "text": [
      " 49% |###################################                                     |\r"
     ]
    },
    {
     "name": "stdout",
     "output_type": "stream",
     "text": [
      "[Epoch 46/300] [Batch 3100/6200] [D loss: 0.124017, acc:   0%] [G loss: 34.888344] time: 6:56:32.246555\n"
     ]
    },
    {
     "name": "stderr",
     "output_type": "stream",
     "text": [
      " 99% |####################################################################### |\r"
     ]
    },
    {
     "name": "stdout",
     "output_type": "stream",
     "text": [
      "discriminator_acces : 0.0\n",
      "Mean generator_loss : 31.076908111572266\n",
      "Max generator_loss : 74.140380859375\n",
      "Min generator_loss : 10.367157936096191\n",
      "generator loss decrease : 0.2543773651123047\n",
      "generator loss decrease ratio : (0.9918810725212097)\n",
      "Max generator loss decrease : -1.5084381103515625\n",
      "current lowest generator loss : 31.33128547668457\n",
      "current Learning_rate = 0.0008\n",
      "save weights\n"
     ]
    },
    {
     "name": "stderr",
     "output_type": "stream",
     "text": [
      "  0% |                                                                        |\r"
     ]
    },
    {
     "name": "stdout",
     "output_type": "stream",
     "text": [
      "valid_f1_loss : 35.66594421863556\n",
      "valid_f1_score : 0.6433405578136444\n",
      "valid_f1_rounded_score : 0.643623411655426\n",
      "discriminator_learning is True\n",
      "[Epoch 47/300] [Batch 0/6200] [D loss: 0.123815, acc:   0%] [G loss: 19.224810] time: 7:01:21.125621\n"
     ]
    },
    {
     "name": "stderr",
     "output_type": "stream",
     "text": [
      " 49% |###################################                                     |\r"
     ]
    },
    {
     "name": "stdout",
     "output_type": "stream",
     "text": [
      "[Epoch 47/300] [Batch 3100/6200] [D loss: 0.123624, acc:   0%] [G loss: 31.229704] time: 7:05:33.473224\n"
     ]
    },
    {
     "name": "stderr",
     "output_type": "stream",
     "text": [
      " 99% |####################################################################### |\r"
     ]
    },
    {
     "name": "stdout",
     "output_type": "stream",
     "text": [
      "discriminator_acces : 0.0\n",
      "Mean generator_loss : 31.06614875793457\n",
      "Max generator_loss : 69.33836364746094\n",
      "Min generator_loss : 10.783880233764648\n",
      "generator loss decrease : 0.010759353637695312\n",
      "generator loss decrease ratio : (0.9996537566184998)\n",
      "Max generator loss decrease : 4.8020172119140625\n",
      "current lowest generator loss : 31.076908111572266\n",
      "current Learning_rate = 0.0008\n",
      "save weights\n"
     ]
    },
    {
     "name": "stderr",
     "output_type": "stream",
     "text": [
      "  0% |                                                                        |\r"
     ]
    },
    {
     "name": "stdout",
     "output_type": "stream",
     "text": [
      "valid_f1_loss : 36.59062087535858\n",
      "valid_f1_score : 0.6340937912464142\n",
      "valid_f1_rounded_score : 0.6345667243003845\n",
      "discriminator_learning is True\n",
      "[Epoch 48/300] [Batch 0/6200] [D loss: 0.123442, acc:   0%] [G loss: 18.625294] time: 7:10:22.203696\n"
     ]
    },
    {
     "name": "stderr",
     "output_type": "stream",
     "text": [
      " 49% |###################################                                     |\r"
     ]
    },
    {
     "name": "stdout",
     "output_type": "stream",
     "text": [
      "[Epoch 48/300] [Batch 3100/6200] [D loss: 0.123270, acc:   0%] [G loss: 29.012367] time: 7:14:34.169863\n"
     ]
    },
    {
     "name": "stderr",
     "output_type": "stream",
     "text": [
      " 99% |####################################################################### |\r"
     ]
    },
    {
     "name": "stdout",
     "output_type": "stream",
     "text": [
      "discriminator_acces : 0.0\n",
      "Mean generator_loss : 30.947851181030273\n",
      "Max generator_loss : 68.88633728027344\n",
      "Min generator_loss : 12.152003288269043\n",
      "generator loss decrease : 0.11829757690429688\n",
      "generator loss decrease ratio : (0.9961920976638794)\n",
      "Max generator loss decrease : 0.4520263671875\n",
      "current lowest generator loss : 31.06614875793457\n",
      "current Learning_rate = 0.0008\n",
      "save weights\n"
     ]
    },
    {
     "name": "stderr",
     "output_type": "stream",
     "text": [
      "  0% |                                                                        |\r"
     ]
    },
    {
     "name": "stdout",
     "output_type": "stream",
     "text": [
      "valid_f1_loss : 36.16390526294708\n",
      "valid_f1_score : 0.6383609473705292\n",
      "valid_f1_rounded_score : 0.6384962797164917\n",
      "discriminator_learning is True\n",
      "[Epoch 49/300] [Batch 0/6200] [D loss: 0.123107, acc:   0%] [G loss: 27.157871] time: 7:19:21.817063\n"
     ]
    },
    {
     "name": "stderr",
     "output_type": "stream",
     "text": [
      " 49% |###################################                                     |\r"
     ]
    },
    {
     "name": "stdout",
     "output_type": "stream",
     "text": [
      "[Epoch 49/300] [Batch 3100/6200] [D loss: 0.122953, acc:   0%] [G loss: 29.023754] time: 7:23:33.443097\n"
     ]
    },
    {
     "name": "stderr",
     "output_type": "stream",
     "text": [
      " 99% |####################################################################### |\r"
     ]
    },
    {
     "name": "stdout",
     "output_type": "stream",
     "text": [
      "discriminator_acces : 0.0\n",
      "Mean generator_loss : 30.921663284301758\n",
      "Max generator_loss : 72.63018798828125\n",
      "Min generator_loss : 10.267131805419922\n",
      "generator loss decrease : 0.026187896728515625\n",
      "generator loss decrease ratio : (0.9991537928581238)\n",
      "Max generator loss decrease : -3.7438507080078125\n",
      "current lowest generator loss : 30.947851181030273\n",
      "current Learning_rate = 0.0008\n",
      "save weights\n"
     ]
    },
    {
     "name": "stderr",
     "output_type": "stream",
     "text": [
      "  0% |                                                                        |\r"
     ]
    },
    {
     "name": "stdout",
     "output_type": "stream",
     "text": [
      "valid_f1_loss : 36.167916655540466\n",
      "valid_f1_score : 0.6383208334445953\n",
      "valid_f1_rounded_score : 0.6386203765869141\n",
      "discriminator_learning is True\n",
      "[Epoch 50/300] [Batch 0/6200] [D loss: 0.122806, acc:   0%] [G loss: 18.947721] time: 7:28:21.080877\n"
     ]
    },
    {
     "name": "stderr",
     "output_type": "stream",
     "text": [
      " 49% |###################################                                     |\r"
     ]
    },
    {
     "name": "stdout",
     "output_type": "stream",
     "text": [
      "[Epoch 50/300] [Batch 3100/6200] [D loss: 0.122667, acc:   0%] [G loss: 29.650015] time: 7:32:35.096969\n"
     ]
    },
    {
     "name": "stderr",
     "output_type": "stream",
     "text": [
      " 99% |####################################################################### |\r"
     ]
    },
    {
     "name": "stdout",
     "output_type": "stream",
     "text": [
      "discriminator_acces : 0.0\n",
      "Mean generator_loss : 32.5188102722168\n",
      "Max generator_loss : 74.24122619628906\n",
      "Min generator_loss : 13.818000793457031\n",
      "generator loss decrease : -1.597146987915039\n",
      "generator loss decrease ratio : (1.0516513586044312)\n",
      "Max generator loss decrease : -1.6110382080078125\n",
      "current lowest generator loss : 30.921663284301758\n",
      "current Learning_rate = 0.0008\n"
     ]
    },
    {
     "name": "stderr",
     "output_type": "stream",
     "text": [
      "  0% |                                                                        |\r"
     ]
    },
    {
     "name": "stdout",
     "output_type": "stream",
     "text": [
      "valid_f1_loss : 36.29069924354553\n",
      "valid_f1_score : 0.6370930075645447\n",
      "valid_f1_rounded_score : 0.6375393271446228\n",
      "discriminator_learning is True\n",
      "[Epoch 51/300] [Batch 0/6200] [D loss: 0.122535, acc:   0%] [G loss: 39.419518] time: 7:37:22.365067\n"
     ]
    },
    {
     "name": "stderr",
     "output_type": "stream",
     "text": [
      " 49% |###################################                                     |\r"
     ]
    },
    {
     "name": "stdout",
     "output_type": "stream",
     "text": [
      "[Epoch 51/300] [Batch 3100/6200] [D loss: 0.122411, acc:   0%] [G loss: 29.342325] time: 7:41:34.009067\n"
     ]
    },
    {
     "name": "stderr",
     "output_type": "stream",
     "text": [
      " 99% |####################################################################### |\r"
     ]
    },
    {
     "name": "stdout",
     "output_type": "stream",
     "text": [
      "discriminator_acces : 0.0\n",
      "Mean generator_loss : 32.30677795410156\n",
      "Max generator_loss : 71.99169921875\n",
      "Min generator_loss : 13.54904842376709\n",
      "generator loss decrease : -1.3851146697998047\n",
      "generator loss decrease ratio : (1.0447943210601807)\n",
      "Max generator loss decrease : 2.2495269775390625\n",
      "current lowest generator loss : 30.921663284301758\n",
      "current Learning_rate = 0.0008\n"
     ]
    },
    {
     "name": "stderr",
     "output_type": "stream",
     "text": [
      "  0% |                                                                        |\r"
     ]
    },
    {
     "name": "stdout",
     "output_type": "stream",
     "text": [
      "valid_f1_loss : 35.49091815948486\n",
      "valid_f1_score : 0.6450908184051514\n",
      "valid_f1_rounded_score : 0.6453350782394409\n",
      "discriminator_learning is True\n",
      "[Epoch 52/300] [Batch 0/6200] [D loss: 0.122292, acc:   0%] [G loss: 39.463959] time: 7:46:21.441055\n"
     ]
    },
    {
     "name": "stderr",
     "output_type": "stream",
     "text": [
      " 49% |###################################                                     |\r"
     ]
    },
    {
     "name": "stdout",
     "output_type": "stream",
     "text": [
      "[Epoch 52/300] [Batch 3100/6200] [D loss: 0.122180, acc:   0%] [G loss: 29.807222] time: 7:50:33.140212\n"
     ]
    },
    {
     "name": "stderr",
     "output_type": "stream",
     "text": [
      " 99% |####################################################################### |\r"
     ]
    },
    {
     "name": "stdout",
     "output_type": "stream",
     "text": [
      "discriminator_acces : 0.0\n",
      "Mean generator_loss : 32.08430480957031\n",
      "Max generator_loss : 72.01738739013672\n",
      "Min generator_loss : 13.08643627166748\n",
      "generator loss decrease : -1.1626415252685547\n",
      "generator loss decrease ratio : (1.0375995635986328)\n",
      "Max generator loss decrease : -0.02568817138671875\n",
      "current lowest generator loss : 30.921663284301758\n",
      "current Learning_rate = 0.0008\n"
     ]
    },
    {
     "name": "stderr",
     "output_type": "stream",
     "text": [
      "  0% |                                                                        |\r"
     ]
    },
    {
     "name": "stdout",
     "output_type": "stream",
     "text": [
      "valid_f1_loss : 36.56793832778931\n",
      "valid_f1_score : 0.6343206167221069\n",
      "valid_f1_rounded_score : 0.6347935795783997\n",
      "discriminator_learning is True\n",
      "[Epoch 53/300] [Batch 0/6200] [D loss: 0.122073, acc:   0%] [G loss: 40.284229] time: 7:55:20.595384\n"
     ]
    },
    {
     "name": "stderr",
     "output_type": "stream",
     "text": [
      " 49% |###################################                                     |\r"
     ]
    },
    {
     "name": "stdout",
     "output_type": "stream",
     "text": [
      "[Epoch 53/300] [Batch 3100/6200] [D loss: 0.121972, acc:   0%] [G loss: 30.293440] time: 7:59:32.294491\n"
     ]
    },
    {
     "name": "stderr",
     "output_type": "stream",
     "text": [
      " 99% |####################################################################### |\r"
     ]
    },
    {
     "name": "stdout",
     "output_type": "stream",
     "text": [
      "discriminator_acces : 0.0\n",
      "Mean generator_loss : 31.81974983215332\n",
      "Max generator_loss : 71.00728607177734\n",
      "Min generator_loss : 13.560373306274414\n",
      "generator loss decrease : -0.8980865478515625\n",
      "generator loss decrease ratio : (1.0290439128875732)\n",
      "Max generator loss decrease : 1.010101318359375\n",
      "current lowest generator loss : 30.921663284301758\n",
      "current Learning_rate = 0.0008\n"
     ]
    },
    {
     "name": "stderr",
     "output_type": "stream",
     "text": [
      "  0% |                                                                        |\r"
     ]
    },
    {
     "name": "stdout",
     "output_type": "stream",
     "text": [
      "valid_f1_loss : 36.813679337501526\n",
      "valid_f1_score : 0.6318632066249847\n",
      "valid_f1_rounded_score : 0.6320139169692993\n",
      "discriminator_learning is True\n",
      "[Epoch 54/300] [Batch 0/6200] [D loss: 0.121877, acc:   0%] [G loss: 42.803177] time: 8:04:19.684621\n"
     ]
    },
    {
     "name": "stderr",
     "output_type": "stream",
     "text": [
      " 49% |###################################                                     |\r"
     ]
    },
    {
     "name": "stdout",
     "output_type": "stream",
     "text": [
      "[Epoch 54/300] [Batch 3100/6200] [D loss: 0.121786, acc:   0%] [G loss: 28.458260] time: 8:08:31.246276\n"
     ]
    },
    {
     "name": "stderr",
     "output_type": "stream",
     "text": [
      " 99% |####################################################################### |\r"
     ]
    },
    {
     "name": "stdout",
     "output_type": "stream",
     "text": [
      "discriminator_acces : 0.0\n",
      "Mean generator_loss : 31.763851165771484\n",
      "Max generator_loss : 71.7051010131836\n",
      "Min generator_loss : 13.506479263305664\n",
      "generator loss decrease : -0.8421878814697266\n",
      "generator loss decrease ratio : (1.0272362232208252)\n",
      "Max generator loss decrease : -0.69781494140625\n",
      "current lowest generator loss : 30.921663284301758\n",
      "current Learning_rate = 0.0008\n"
     ]
    },
    {
     "name": "stderr",
     "output_type": "stream",
     "text": [
      "  0% |                                                                        |\r"
     ]
    },
    {
     "name": "stdout",
     "output_type": "stream",
     "text": [
      "valid_f1_loss : 35.913485288619995\n",
      "valid_f1_score : 0.6408651471138\n",
      "valid_f1_rounded_score : 0.6411339640617371\n",
      "discriminator_learning is True\n",
      "[Epoch 55/300] [Batch 0/6200] [D loss: 0.121700, acc:   0%] [G loss: 38.740871] time: 8:13:18.459646\n"
     ]
    },
    {
     "name": "stderr",
     "output_type": "stream",
     "text": [
      " 49% |###################################                                     |\r"
     ]
    },
    {
     "name": "stdout",
     "output_type": "stream",
     "text": [
      "[Epoch 55/300] [Batch 3100/6200] [D loss: 0.121618, acc:   0%] [G loss: 28.378405] time: 8:17:30.146526\n"
     ]
    },
    {
     "name": "stderr",
     "output_type": "stream",
     "text": [
      " 99% |####################################################################### |\r"
     ]
    },
    {
     "name": "stdout",
     "output_type": "stream",
     "text": [
      "discriminator_acces : 0.0\n",
      "Mean generator_loss : 31.442386627197266\n",
      "Max generator_loss : 72.39253997802734\n",
      "Min generator_loss : 14.069713592529297\n",
      "generator loss decrease : -0.5207233428955078\n",
      "generator loss decrease ratio : (1.0168401002883911)\n",
      "Max generator loss decrease : -0.68743896484375\n",
      "current lowest generator loss : 30.921663284301758\n",
      "current Learning_rate = 0.0008\n"
     ]
    },
    {
     "name": "stderr",
     "output_type": "stream",
     "text": [
      "  0% |                                                                        |\r"
     ]
    },
    {
     "name": "stdout",
     "output_type": "stream",
     "text": [
      "valid_f1_loss : 37.33140528202057\n",
      "valid_f1_score : 0.6266859471797943\n",
      "valid_f1_rounded_score : 0.6273258924484253\n",
      "discriminator_learning is True\n",
      "[Epoch 56/300] [Batch 0/6200] [D loss: 0.121541, acc:   0%] [G loss: 39.291874] time: 8:22:20.028021\n"
     ]
    },
    {
     "name": "stderr",
     "output_type": "stream",
     "text": [
      " 49% |###################################                                     |\r"
     ]
    },
    {
     "name": "stdout",
     "output_type": "stream",
     "text": [
      "[Epoch 56/300] [Batch 3100/6200] [D loss: 0.121467, acc:   0%] [G loss: 29.600275] time: 8:26:36.439095\n"
     ]
    },
    {
     "name": "stderr",
     "output_type": "stream",
     "text": [
      " 99% |####################################################################### |\r"
     ]
    },
    {
     "name": "stdout",
     "output_type": "stream",
     "text": [
      "discriminator_acces : 0.0\n",
      "Mean generator_loss : 31.483678817749023\n",
      "Max generator_loss : 73.05831909179688\n",
      "Min generator_loss : 13.60648250579834\n",
      "generator loss decrease : -0.5620155334472656\n",
      "generator loss decrease ratio : (1.018175482749939)\n",
      "Max generator loss decrease : -0.6657791137695312\n",
      "current lowest generator loss : 30.921663284301758\n",
      "current Learning_rate = 0.0008\n"
     ]
    },
    {
     "name": "stderr",
     "output_type": "stream",
     "text": [
      "  0% |                                                                        |\r"
     ]
    },
    {
     "name": "stdout",
     "output_type": "stream",
     "text": [
      "valid_f1_loss : 37.05466091632843\n",
      "valid_f1_score : 0.6294533908367157\n",
      "valid_f1_rounded_score : 0.6299809813499451\n",
      "discriminator_learning is True\n",
      "[Epoch 57/300] [Batch 0/6200] [D loss: 0.121397, acc:   0%] [G loss: 40.317600] time: 8:31:33.469699\n"
     ]
    },
    {
     "name": "stderr",
     "output_type": "stream",
     "text": [
      " 49% |###################################                                     |\r"
     ]
    },
    {
     "name": "stdout",
     "output_type": "stream",
     "text": [
      "[Epoch 57/300] [Batch 3100/6200] [D loss: 0.121331, acc:   0%] [G loss: 29.450691] time: 8:35:51.993037\n"
     ]
    },
    {
     "name": "stderr",
     "output_type": "stream",
     "text": [
      " 99% |####################################################################### |\r"
     ]
    },
    {
     "name": "stdout",
     "output_type": "stream",
     "text": [
      "discriminator_acces : 0.0\n",
      "Mean generator_loss : 31.241426467895508\n",
      "Max generator_loss : 71.83080291748047\n",
      "Min generator_loss : 11.695249557495117\n",
      "generator loss decrease : -0.31976318359375\n",
      "generator loss decrease ratio : (1.0103410482406616)\n",
      "Max generator loss decrease : 1.2275161743164062\n",
      "current lowest generator loss : 30.921663284301758\n",
      "current Learning_rate = 0.0008\n"
     ]
    },
    {
     "name": "stderr",
     "output_type": "stream",
     "text": [
      "  0% |                                                                        |\r"
     ]
    },
    {
     "name": "stdout",
     "output_type": "stream",
     "text": [
      "valid_f1_loss : 38.085344433784485\n",
      "valid_f1_score : 0.6191465556621552\n",
      "valid_f1_rounded_score : 0.6192066669464111\n",
      "discriminator_learning is True\n",
      "[Epoch 58/300] [Batch 0/6200] [D loss: 0.121269, acc:   0%] [G loss: 41.602661] time: 8:40:44.098397\n"
     ]
    },
    {
     "name": "stderr",
     "output_type": "stream",
     "text": [
      " 49% |###################################                                     |\r"
     ]
    },
    {
     "name": "stdout",
     "output_type": "stream",
     "text": [
      "[Epoch 58/300] [Batch 3100/6200] [D loss: 0.121209, acc:   0%] [G loss: 28.060699] time: 8:45:14.093742\n"
     ]
    },
    {
     "name": "stderr",
     "output_type": "stream",
     "text": [
      " 99% |####################################################################### |\r"
     ]
    },
    {
     "name": "stdout",
     "output_type": "stream",
     "text": [
      "discriminator_acces : 0.0\n",
      "Mean generator_loss : 31.244752883911133\n",
      "Max generator_loss : 72.0986557006836\n",
      "Min generator_loss : 12.947163581848145\n",
      "generator loss decrease : -0.323089599609375\n",
      "generator loss decrease ratio : (1.010448694229126)\n",
      "Max generator loss decrease : -0.267852783203125\n",
      "current lowest generator loss : 30.921663284301758\n",
      "current Learning_rate = 0.0008\n"
     ]
    },
    {
     "name": "stderr",
     "output_type": "stream",
     "text": [
      "  0% |                                                                        |\r"
     ]
    },
    {
     "name": "stdout",
     "output_type": "stream",
     "text": [
      "valid_f1_loss : 36.247432231903076\n",
      "valid_f1_score : 0.6375256776809692\n",
      "valid_f1_rounded_score : 0.6377789974212646\n",
      "discriminator_learning is True\n",
      "[Epoch 59/300] [Batch 0/6200] [D loss: 0.121153, acc:   0%] [G loss: 38.836903] time: 8:50:28.884732\n"
     ]
    },
    {
     "name": "stderr",
     "output_type": "stream",
     "text": [
      " 49% |###################################                                     |\r"
     ]
    },
    {
     "name": "stdout",
     "output_type": "stream",
     "text": [
      "[Epoch 59/300] [Batch 3100/6200] [D loss: 0.121100, acc:   0%] [G loss: 26.062723] time: 8:55:03.741421\n"
     ]
    },
    {
     "name": "stderr",
     "output_type": "stream",
     "text": [
      " 99% |####################################################################### |\r"
     ]
    },
    {
     "name": "stdout",
     "output_type": "stream",
     "text": [
      "discriminator_acces : 0.0\n",
      "Mean generator_loss : 31.1109676361084\n",
      "Max generator_loss : 71.54560089111328\n",
      "Min generator_loss : 13.698579788208008\n",
      "generator loss decrease : -0.18930435180664062\n",
      "generator loss decrease ratio : (1.00612211227417)\n",
      "Max generator loss decrease : 0.5530548095703125\n",
      "current lowest generator loss : 30.921663284301758\n",
      "current Learning_rate = 0.0008\n"
     ]
    },
    {
     "name": "stderr",
     "output_type": "stream",
     "text": [
      "  0% |                                                                        |\r"
     ]
    },
    {
     "name": "stdout",
     "output_type": "stream",
     "text": [
      "valid_f1_loss : 36.29674017429352\n",
      "valid_f1_score : 0.6370325982570648\n",
      "valid_f1_rounded_score : 0.6374224424362183\n",
      "discriminator_learning is True\n",
      "[Epoch 60/300] [Batch 0/6200] [D loss: 0.121049, acc:   0%] [G loss: 39.376980] time: 9:00:30.354619\n"
     ]
    },
    {
     "name": "stderr",
     "output_type": "stream",
     "text": [
      " 49% |###################################                                     |\r"
     ]
    },
    {
     "name": "stdout",
     "output_type": "stream",
     "text": [
      "[Epoch 60/300] [Batch 3100/6200] [D loss: 0.121001, acc:   0%] [G loss: 29.775414] time: 9:05:08.565610\n"
     ]
    },
    {
     "name": "stderr",
     "output_type": "stream",
     "text": [
      " 99% |####################################################################### |\r"
     ]
    },
    {
     "name": "stdout",
     "output_type": "stream",
     "text": [
      "discriminator_acces : 0.0\n",
      "Mean generator_loss : 31.0760555267334\n",
      "Max generator_loss : 73.67478942871094\n",
      "Min generator_loss : 13.723004341125488\n",
      "generator loss decrease : -0.15439224243164062\n",
      "generator loss decrease ratio : (1.004992961883545)\n",
      "Max generator loss decrease : -2.1291885375976562\n",
      "current lowest generator loss : 30.921663284301758\n",
      "current Learning_rate = 0.0008\n"
     ]
    },
    {
     "name": "stderr",
     "output_type": "stream",
     "text": [
      "  0% |                                                                        |\r"
     ]
    },
    {
     "name": "stdout",
     "output_type": "stream",
     "text": [
      "valid_f1_loss : 36.068958044052124\n",
      "valid_f1_score : 0.6393104195594788\n",
      "valid_f1_rounded_score : 0.6396378874778748\n",
      "discriminator_learning is True\n",
      "[Epoch 61/300] [Batch 0/6200] [D loss: 0.120955, acc:   0%] [G loss: 39.918575] time: 9:10:27.879288\n"
     ]
    },
    {
     "name": "stderr",
     "output_type": "stream",
     "text": [
      " 49% |###################################                                     |\r"
     ]
    },
    {
     "name": "stdout",
     "output_type": "stream",
     "text": [
      "[Epoch 61/300] [Batch 3100/6200] [D loss: 0.120912, acc:   0%] [G loss: 27.300472] time: 9:15:03.994337\n"
     ]
    },
    {
     "name": "stderr",
     "output_type": "stream",
     "text": [
      " 99% |####################################################################### |\r"
     ]
    },
    {
     "name": "stdout",
     "output_type": "stream",
     "text": [
      "discriminator_acces : 0.0\n",
      "Mean generator_loss : 30.796405792236328\n",
      "Max generator_loss : 70.21601867675781\n",
      "Min generator_loss : 12.584595680236816\n",
      "generator loss decrease : 0.1252574920654297\n",
      "generator loss decrease ratio : (0.9959492087364197)\n",
      "Max generator loss decrease : 3.458770751953125\n",
      "current lowest generator loss : 30.921663284301758\n",
      "current Learning_rate = 0.0008\n",
      "save weights\n"
     ]
    },
    {
     "name": "stderr",
     "output_type": "stream",
     "text": [
      "  0% |                                                                        |\r"
     ]
    },
    {
     "name": "stdout",
     "output_type": "stream",
     "text": [
      "valid_f1_loss : 36.32998764514923\n",
      "valid_f1_score : 0.6367001235485077\n",
      "valid_f1_rounded_score : 0.6369152069091797\n",
      "discriminator_learning is True\n",
      "[Epoch 62/300] [Batch 0/6200] [D loss: 0.120871, acc:   0%] [G loss: 40.306469] time: 9:20:26.327667\n"
     ]
    },
    {
     "name": "stderr",
     "output_type": "stream",
     "text": [
      " 49% |###################################                                     |\r"
     ]
    },
    {
     "name": "stdout",
     "output_type": "stream",
     "text": [
      "[Epoch 62/300] [Batch 3100/6200] [D loss: 0.120832, acc:   0%] [G loss: 27.021526] time: 9:24:54.672578\n"
     ]
    },
    {
     "name": "stderr",
     "output_type": "stream",
     "text": [
      " 99% |####################################################################### |\r"
     ]
    },
    {
     "name": "stdout",
     "output_type": "stream",
     "text": [
      "discriminator_acces : 0.0\n",
      "Mean generator_loss : 30.713699340820312\n",
      "Max generator_loss : 70.42762756347656\n",
      "Min generator_loss : 13.39379596710205\n",
      "generator loss decrease : 0.08270645141601562\n",
      "generator loss decrease ratio : (0.9973143935203552)\n",
      "Max generator loss decrease : -0.21160888671875\n",
      "current lowest generator loss : 30.796405792236328\n",
      "current Learning_rate = 0.0008\n",
      "save weights\n"
     ]
    },
    {
     "name": "stderr",
     "output_type": "stream",
     "text": [
      "  0% |                                                                        |\r"
     ]
    },
    {
     "name": "stdout",
     "output_type": "stream",
     "text": [
      "valid_f1_loss : 36.07177734375\n",
      "valid_f1_score : 0.6392822265625\n",
      "valid_f1_rounded_score : 0.6396363377571106\n",
      "discriminator_learning is True\n",
      "[Epoch 63/300] [Batch 0/6200] [D loss: 0.120795, acc:   0%] [G loss: 42.953926] time: 9:29:50.542028\n"
     ]
    },
    {
     "name": "stderr",
     "output_type": "stream",
     "text": [
      " 49% |###################################                                     |\r"
     ]
    },
    {
     "name": "stdout",
     "output_type": "stream",
     "text": [
      "[Epoch 63/300] [Batch 3100/6200] [D loss: 0.120760, acc:   0%] [G loss: 27.339844] time: 9:34:05.378993\n"
     ]
    },
    {
     "name": "stderr",
     "output_type": "stream",
     "text": [
      " 99% |####################################################################### |\r"
     ]
    },
    {
     "name": "stdout",
     "output_type": "stream",
     "text": [
      "discriminator_acces : 0.0\n",
      "Mean generator_loss : 30.715057373046875\n",
      "Max generator_loss : 70.44234466552734\n",
      "Min generator_loss : 14.407299995422363\n",
      "generator loss decrease : -0.0013580322265625\n",
      "generator loss decrease ratio : (1.0000442266464233)\n",
      "Max generator loss decrease : -0.01471710205078125\n",
      "current lowest generator loss : 30.713699340820312\n",
      "current Learning_rate = 0.0008\n"
     ]
    },
    {
     "name": "stderr",
     "output_type": "stream",
     "text": [
      "  0% |                                                                        |\r"
     ]
    },
    {
     "name": "stdout",
     "output_type": "stream",
     "text": [
      "valid_f1_loss : 37.16379404067993\n",
      "valid_f1_score : 0.6283620595932007\n",
      "valid_f1_rounded_score : 0.628280520439148\n",
      "discriminator_learning is True\n",
      "[Epoch 64/300] [Batch 0/6200] [D loss: 0.120727, acc:   0%] [G loss: 40.169006] time: 9:38:57.389051\n"
     ]
    },
    {
     "name": "stderr",
     "output_type": "stream",
     "text": [
      " 49% |###################################                                     |\r"
     ]
    },
    {
     "name": "stdout",
     "output_type": "stream",
     "text": [
      "[Epoch 64/300] [Batch 3100/6200] [D loss: 0.120695, acc:   0%] [G loss: 27.807076] time: 9:43:12.457336\n"
     ]
    },
    {
     "name": "stderr",
     "output_type": "stream",
     "text": [
      " 99% |####################################################################### |\r"
     ]
    },
    {
     "name": "stdout",
     "output_type": "stream",
     "text": [
      "discriminator_acces : 0.0\n",
      "Mean generator_loss : 30.828357696533203\n",
      "Max generator_loss : 70.95228576660156\n",
      "Min generator_loss : 13.635801315307617\n",
      "generator loss decrease : -0.11465835571289062\n",
      "generator loss decrease ratio : (1.0037331581115723)\n",
      "Max generator loss decrease : -0.5099411010742188\n",
      "current lowest generator loss : 30.713699340820312\n",
      "current Learning_rate = 0.0008\n"
     ]
    },
    {
     "name": "stderr",
     "output_type": "stream",
     "text": [
      "  0% |                                                                        |\r"
     ]
    },
    {
     "name": "stdout",
     "output_type": "stream",
     "text": [
      "valid_f1_loss : 38.38844299316406\n",
      "valid_f1_score : 0.6161155700683594\n",
      "valid_f1_rounded_score : 0.6160195469856262\n",
      "discriminator_learning is True\n",
      "[Epoch 65/300] [Batch 0/6200] [D loss: 0.120666, acc:   0%] [G loss: 41.404652] time: 9:48:11.059191\n"
     ]
    },
    {
     "name": "stderr",
     "output_type": "stream",
     "text": [
      " 49% |###################################                                     |\r"
     ]
    },
    {
     "name": "stdout",
     "output_type": "stream",
     "text": [
      "[Epoch 65/300] [Batch 3100/6200] [D loss: 0.120637, acc:   0%] [G loss: 26.184887] time: 9:52:39.989301\n"
     ]
    },
    {
     "name": "stderr",
     "output_type": "stream",
     "text": [
      " 99% |####################################################################### |\r"
     ]
    },
    {
     "name": "stdout",
     "output_type": "stream",
     "text": [
      "discriminator_acces : 0.0\n",
      "Mean generator_loss : 30.510068893432617\n",
      "Max generator_loss : 71.82000732421875\n",
      "Min generator_loss : 13.732574462890625\n",
      "generator loss decrease : 0.2036304473876953\n",
      "generator loss decrease ratio : (0.9933700561523438)\n",
      "Max generator loss decrease : -0.8677215576171875\n",
      "current lowest generator loss : 30.713699340820312\n",
      "current Learning_rate = 0.0008\n",
      "save weights\n"
     ]
    },
    {
     "name": "stderr",
     "output_type": "stream",
     "text": [
      "  0% |                                                                        |\r"
     ]
    },
    {
     "name": "stdout",
     "output_type": "stream",
     "text": [
      "valid_f1_loss : 38.49661946296692\n",
      "valid_f1_score : 0.6150338053703308\n",
      "valid_f1_rounded_score : 0.6152158379554749\n",
      "discriminator_learning is True\n",
      "[Epoch 66/300] [Batch 0/6200] [D loss: 0.120610, acc:   0%] [G loss: 40.018036] time: 9:57:34.054193\n"
     ]
    },
    {
     "name": "stderr",
     "output_type": "stream",
     "text": [
      " 49% |###################################                                     |\r"
     ]
    },
    {
     "name": "stdout",
     "output_type": "stream",
     "text": [
      "[Epoch 66/300] [Batch 3100/6200] [D loss: 0.120585, acc:   0%] [G loss: 26.453741] time: 10:01:48.548999\n"
     ]
    },
    {
     "name": "stderr",
     "output_type": "stream",
     "text": [
      " 99% |####################################################################### |\r"
     ]
    },
    {
     "name": "stdout",
     "output_type": "stream",
     "text": [
      "discriminator_acces : 0.0\n",
      "Mean generator_loss : 30.464162826538086\n",
      "Max generator_loss : 71.75969696044922\n",
      "Min generator_loss : 13.082121849060059\n",
      "generator loss decrease : 0.04590606689453125\n",
      "generator loss decrease ratio : (0.9984953999519348)\n",
      "Max generator loss decrease : 0.06031036376953125\n",
      "current lowest generator loss : 30.510068893432617\n",
      "current Learning_rate = 0.0008\n",
      "save weights\n"
     ]
    },
    {
     "name": "stderr",
     "output_type": "stream",
     "text": [
      "  0% |                                                                        |\r"
     ]
    },
    {
     "name": "stdout",
     "output_type": "stream",
     "text": [
      "valid_f1_loss : 37.34155893325806\n",
      "valid_f1_score : 0.6265844106674194\n",
      "valid_f1_rounded_score : 0.6267439723014832\n",
      "discriminator_learning is True\n",
      "[Epoch 67/300] [Batch 0/6200] [D loss: 0.120561, acc:   0%] [G loss: 40.415913] time: 10:06:39.679755\n"
     ]
    },
    {
     "name": "stderr",
     "output_type": "stream",
     "text": [
      " 49% |###################################                                     |\r"
     ]
    },
    {
     "name": "stdout",
     "output_type": "stream",
     "text": [
      "[Epoch 67/300] [Batch 3100/6200] [D loss: 0.120538, acc:   0%] [G loss: 27.054873] time: 10:10:53.999798\n"
     ]
    },
    {
     "name": "stderr",
     "output_type": "stream",
     "text": [
      " 99% |####################################################################### |\r"
     ]
    },
    {
     "name": "stdout",
     "output_type": "stream",
     "text": [
      "discriminator_acces : 0.0\n",
      "Mean generator_loss : 30.39129066467285\n",
      "Max generator_loss : 73.24421691894531\n",
      "Min generator_loss : 13.355546951293945\n",
      "generator loss decrease : 0.07287216186523438\n",
      "generator loss decrease ratio : (0.997607946395874)\n",
      "Max generator loss decrease : -1.4845199584960938\n",
      "current lowest generator loss : 30.464162826538086\n",
      "current Learning_rate = 0.0008\n",
      "save weights\n"
     ]
    },
    {
     "name": "stderr",
     "output_type": "stream",
     "text": [
      "  0% |                                                                        |\r"
     ]
    },
    {
     "name": "stdout",
     "output_type": "stream",
     "text": [
      "valid_f1_loss : 37.70003318786621\n",
      "valid_f1_score : 0.6229996681213379\n",
      "valid_f1_rounded_score : 0.622967541217804\n",
      "discriminator_learning is True\n",
      "[Epoch 68/300] [Batch 0/6200] [D loss: 0.120516, acc:   0%] [G loss: 39.380978] time: 10:15:45.219468\n"
     ]
    },
    {
     "name": "stderr",
     "output_type": "stream",
     "text": [
      " 49% |###################################                                     |\r"
     ]
    },
    {
     "name": "stdout",
     "output_type": "stream",
     "text": [
      "[Epoch 68/300] [Batch 3100/6200] [D loss: 0.120496, acc:   0%] [G loss: 26.427191] time: 10:19:59.232294\n"
     ]
    },
    {
     "name": "stderr",
     "output_type": "stream",
     "text": [
      " 99% |####################################################################### |\r"
     ]
    },
    {
     "name": "stdout",
     "output_type": "stream",
     "text": [
      "discriminator_acces : 0.0\n",
      "Mean generator_loss : 30.313465118408203\n",
      "Max generator_loss : 68.35855102539062\n",
      "Min generator_loss : 13.26860523223877\n",
      "generator loss decrease : 0.07782554626464844\n",
      "generator loss decrease ratio : (0.9974392056465149)\n",
      "Max generator loss decrease : 4.8856658935546875\n",
      "current lowest generator loss : 30.39129066467285\n",
      "current Learning_rate = 0.0008\n",
      "save weights\n"
     ]
    },
    {
     "name": "stderr",
     "output_type": "stream",
     "text": [
      "  0% |                                                                        |\r"
     ]
    },
    {
     "name": "stdout",
     "output_type": "stream",
     "text": [
      "valid_f1_loss : 36.502861976623535\n",
      "valid_f1_score : 0.6349713802337646\n",
      "valid_f1_rounded_score : 0.6354016661643982\n",
      "discriminator_learning is True\n",
      "[Epoch 69/300] [Batch 0/6200] [D loss: 0.120476, acc:   0%] [G loss: 38.941040] time: 10:24:49.946156\n"
     ]
    },
    {
     "name": "stderr",
     "output_type": "stream",
     "text": [
      " 49% |###################################                                     |\r"
     ]
    },
    {
     "name": "stdout",
     "output_type": "stream",
     "text": [
      "[Epoch 69/300] [Batch 3100/6200] [D loss: 0.120457, acc:   0%] [G loss: 26.757908] time: 10:29:06.857542\n"
     ]
    },
    {
     "name": "stderr",
     "output_type": "stream",
     "text": [
      " 99% |####################################################################### |\r"
     ]
    },
    {
     "name": "stdout",
     "output_type": "stream",
     "text": [
      "discriminator_acces : 0.0\n",
      "Mean generator_loss : 30.040550231933594\n",
      "Max generator_loss : 71.58061981201172\n",
      "Min generator_loss : 11.718037605285645\n",
      "generator loss decrease : 0.2729148864746094\n",
      "generator loss decrease ratio : (0.9909968972206116)\n",
      "Max generator loss decrease : -3.2220687866210938\n",
      "current lowest generator loss : 30.313465118408203\n",
      "current Learning_rate = 0.0008\n",
      "save weights\n"
     ]
    },
    {
     "name": "stderr",
     "output_type": "stream",
     "text": [
      "  0% |                                                                        |\r"
     ]
    },
    {
     "name": "stdout",
     "output_type": "stream",
     "text": [
      "valid_f1_loss : 40.247365832328796\n",
      "valid_f1_score : 0.597526341676712\n",
      "valid_f1_rounded_score : 0.5971460938453674\n",
      "discriminator_learning is True\n",
      "[Epoch 70/300] [Batch 0/6200] [D loss: 0.120440, acc:   0%] [G loss: 41.368549] time: 10:34:00.478504\n"
     ]
    },
    {
     "name": "stderr",
     "output_type": "stream",
     "text": [
      " 49% |###################################                                     |\r"
     ]
    },
    {
     "name": "stdout",
     "output_type": "stream",
     "text": [
      "[Epoch 70/300] [Batch 3100/6200] [D loss: 0.120423, acc:   0%] [G loss: 27.563780] time: 10:38:15.924117\n"
     ]
    },
    {
     "name": "stderr",
     "output_type": "stream",
     "text": [
      " 99% |####################################################################### |\r"
     ]
    },
    {
     "name": "stdout",
     "output_type": "stream",
     "text": [
      "discriminator_acces : 0.0\n",
      "Mean generator_loss : 30.109832763671875\n",
      "Max generator_loss : 68.80760955810547\n",
      "Min generator_loss : 13.955187797546387\n",
      "generator loss decrease : -0.06928253173828125\n",
      "generator loss decrease ratio : (1.002306342124939)\n",
      "Max generator loss decrease : 2.77301025390625\n",
      "current lowest generator loss : 30.040550231933594\n",
      "current Learning_rate = 0.0008\n"
     ]
    },
    {
     "name": "stderr",
     "output_type": "stream",
     "text": [
      "  0% |                                                                        |\r"
     ]
    },
    {
     "name": "stdout",
     "output_type": "stream",
     "text": [
      "valid_f1_loss : 36.9511604309082\n",
      "valid_f1_score : 0.630488395690918\n",
      "valid_f1_rounded_score : 0.6308348774909973\n",
      "discriminator_learning is True\n",
      "[Epoch 71/300] [Batch 0/6200] [D loss: 0.120407, acc:   0%] [G loss: 39.153194] time: 10:43:07.918544\n"
     ]
    },
    {
     "name": "stderr",
     "output_type": "stream",
     "text": [
      " 49% |###################################                                     |\r"
     ]
    },
    {
     "name": "stdout",
     "output_type": "stream",
     "text": [
      "[Epoch 71/300] [Batch 3100/6200] [D loss: 0.120392, acc:   0%] [G loss: 27.588020] time: 10:47:23.202631\n"
     ]
    },
    {
     "name": "stderr",
     "output_type": "stream",
     "text": [
      " 99% |####################################################################### |\r"
     ]
    },
    {
     "name": "stdout",
     "output_type": "stream",
     "text": [
      "discriminator_acces : 0.0\n",
      "Mean generator_loss : 29.991439819335938\n",
      "Max generator_loss : 67.50720977783203\n",
      "Min generator_loss : 13.258747100830078\n",
      "generator loss decrease : 0.04911041259765625\n",
      "generator loss decrease ratio : (0.9983652234077454)\n",
      "Max generator loss decrease : 1.3003997802734375\n",
      "current lowest generator loss : 30.040550231933594\n",
      "current Learning_rate = 0.0008\n",
      "save weights\n"
     ]
    },
    {
     "name": "stderr",
     "output_type": "stream",
     "text": [
      "  0% |                                                                        |\r"
     ]
    },
    {
     "name": "stdout",
     "output_type": "stream",
     "text": [
      "valid_f1_loss : 35.99894642829895\n",
      "valid_f1_score : 0.6400105357170105\n",
      "valid_f1_rounded_score : 0.6405932903289795\n",
      "discriminator_learning is True\n",
      "[Epoch 72/300] [Batch 0/6200] [D loss: 0.120378, acc:   0%] [G loss: 38.675106] time: 10:52:15.093673\n"
     ]
    },
    {
     "name": "stderr",
     "output_type": "stream",
     "text": [
      " 49% |###################################                                     |\r"
     ]
    },
    {
     "name": "stdout",
     "output_type": "stream",
     "text": [
      "[Epoch 72/300] [Batch 3100/6200] [D loss: 0.120364, acc:   0%] [G loss: 27.662113] time: 10:56:29.464416\n"
     ]
    },
    {
     "name": "stderr",
     "output_type": "stream",
     "text": [
      " 99% |####################################################################### |\r"
     ]
    },
    {
     "name": "stdout",
     "output_type": "stream",
     "text": [
      "discriminator_acces : 0.0\n",
      "Mean generator_loss : 29.925676345825195\n",
      "Max generator_loss : 66.99080657958984\n",
      "Min generator_loss : 12.830121040344238\n",
      "generator loss decrease : 0.06576347351074219\n",
      "generator loss decrease ratio : (0.9978072643280029)\n",
      "Max generator loss decrease : 0.5164031982421875\n",
      "current lowest generator loss : 29.991439819335938\n",
      "current Learning_rate = 0.0008\n",
      "save weights\n"
     ]
    },
    {
     "name": "stderr",
     "output_type": "stream",
     "text": [
      "  0% |                                                                        |\r"
     ]
    },
    {
     "name": "stdout",
     "output_type": "stream",
     "text": [
      "valid_f1_loss : 37.434691190719604\n",
      "valid_f1_score : 0.625653088092804\n",
      "valid_f1_rounded_score : 0.6256495118141174\n",
      "discriminator_learning is True\n",
      "[Epoch 73/300] [Batch 0/6200] [D loss: 0.120352, acc:   0%] [G loss: 40.089016] time: 11:01:21.887739\n"
     ]
    },
    {
     "name": "stderr",
     "output_type": "stream",
     "text": [
      " 39% |############################                                            |\r"
     ]
    }
   ],
   "source": [
    "#gan.find_error = True\n",
    "#gan.find_error_epoch = 5\n",
    "#gan.load_study_info()\n",
    "#gan.load_study_info()\n",
    "gan.start_epoch = 0\n",
    "gan.train(epochs=300, batch_size=batch_size, sample_interval=3100, epoch_shuffle_term=50)"
   ]
  },
  {
   "cell_type": "code",
   "execution_count": 5,
   "metadata": {
    "scrolled": true
   },
   "outputs": [
    {
     "name": "stdout",
     "output_type": "stream",
     "text": [
      "WARNING:tensorflow:5 out of the last 8 calls to <function Model.make_train_function.<locals>.train_function at 0x00000288678493A0> triggered tf.function retracing. Tracing is expensive and the excessive number of tracings could be due to (1) creating @tf.function repeatedly in a loop, (2) passing tensors with different shapes, (3) passing Python objects instead of tensors. For (1), please define your @tf.function outside of the loop. For (2), @tf.function has experimental_relax_shapes=True option that relaxes argument shapes that can avoid unnecessary retracing. For (3), please refer to https://www.tensorflow.org/tutorials/customization/performance#python_or_tensor_args and https://www.tensorflow.org/api_docs/python/tf/function for  more details.\n"
     ]
    },
    {
     "name": "stderr",
     "output_type": "stream",
     "text": [
      "WARNING:tensorflow:5 out of the last 8 calls to <function Model.make_train_function.<locals>.train_function at 0x00000288678493A0> triggered tf.function retracing. Tracing is expensive and the excessive number of tracings could be due to (1) creating @tf.function repeatedly in a loop, (2) passing tensors with different shapes, (3) passing Python objects instead of tensors. For (1), please define your @tf.function outside of the loop. For (2), @tf.function has experimental_relax_shapes=True option that relaxes argument shapes that can avoid unnecessary retracing. For (3), please refer to https://www.tensorflow.org/tutorials/customization/performance#python_or_tensor_args and https://www.tensorflow.org/api_docs/python/tf/function for  more details.\n"
     ]
    },
    {
     "name": "stdout",
     "output_type": "stream",
     "text": [
      "elapsed time : 4.586500883102417\n",
      "elapsed time : 0.29304075241088867\n"
     ]
    }
   ],
   "source": [
    "import time\n",
    "\n",
    "temp_source = gan.original_img\n",
    "temp_mask = gan.masked_img\n",
    "\n",
    "start_time = time.time()\n",
    "gan.generator.train_on_batch(temp_source, temp_mask)\n",
    "print(f\"elapsed time : {time.time() - start_time}\")\n",
    "\n",
    "temp_source = tf.convert_to_tensor(temp_source)\n",
    "temp_mask = tf.convert_to_tensor(temp_mask)\n",
    "\n",
    "start_time = time.time()\n",
    "gan.generator.train_on_batch(temp_source, temp_mask)\n",
    "print(f\"elapsed time : {time.time() - start_time}\")"
   ]
  },
  {
   "cell_type": "code",
   "execution_count": 10,
   "metadata": {
    "collapsed": true
   },
   "outputs": [
    {
     "ename": "KeyboardInterrupt",
     "evalue": "",
     "output_type": "error",
     "traceback": [
      "\u001b[1;31m---------------------------------------------------------------------------\u001b[0m",
      "\u001b[1;31mKeyboardInterrupt\u001b[0m                         Traceback (most recent call last)",
      "\u001b[1;32m<ipython-input-10-cba4fde71471>\u001b[0m in \u001b[0;36m<module>\u001b[1;34m\u001b[0m\n\u001b[0;32m      5\u001b[0m     batch_index = gan.train_loaded_data_index[batch_i: batch_i +\n\u001b[0;32m      6\u001b[0m                                                gan.batch_size]\n\u001b[1;32m----> 7\u001b[1;33m     original_img, masked_img = gan.data_loader.get_data(\n\u001b[0m\u001b[0;32m      8\u001b[0m         data_mode=\"train\", index=batch_index)\n",
      "\u001b[1;32m~\\Desktop\\Works\\jupyterlab\\의료데이터(pix2pix)_size_20_v0.2\\data_loader\\medical_segmentation_data_loader_v2.py\u001b[0m in \u001b[0;36mget_data\u001b[1;34m(self, data_mode, index)\u001b[0m\n\u001b[0;32m     86\u001b[0m                 \u001b[1;32melse\u001b[0m\u001b[1;33m:\u001b[0m\u001b[1;33m\u001b[0m\u001b[1;33m\u001b[0m\u001b[0m\n\u001b[0;32m     87\u001b[0m                     data_tuple = (\n\u001b[1;32m---> 88\u001b[1;33m                         self.train_loaded_data[0][index], self.train_loaded_data[1][index])\n\u001b[0m\u001b[0;32m     89\u001b[0m             \u001b[1;32mif\u001b[0m \u001b[0mdata_mode\u001b[0m \u001b[1;33m==\u001b[0m \u001b[1;34m\"valid\"\u001b[0m\u001b[1;33m:\u001b[0m\u001b[1;33m\u001b[0m\u001b[1;33m\u001b[0m\u001b[0m\n\u001b[0;32m     90\u001b[0m                 \u001b[1;32mif\u001b[0m \u001b[0mindex\u001b[0m \u001b[1;32mis\u001b[0m \u001b[1;32mNone\u001b[0m\u001b[1;33m:\u001b[0m\u001b[1;33m\u001b[0m\u001b[1;33m\u001b[0m\u001b[0m\n",
      "\u001b[1;31mKeyboardInterrupt\u001b[0m: "
     ]
    }
   ],
   "source": [
    "batch_i = 0\n",
    "\n",
    "while batch_i + gan.batch_size <= gan.data_loader.train_data_length:\n",
    "\n",
    "    batch_index = gan.train_loaded_data_index[batch_i: batch_i +\n",
    "                                               gan.batch_size]\n",
    "    original_img, masked_img = gan.data_loader.get_data(\n",
    "        data_mode=\"train\", index=batch_index)\n",
    "    "
   ]
  },
  {
   "cell_type": "code",
   "execution_count": 4,
   "metadata": {},
   "outputs": [
    {
     "data": {
      "text/plain": [
       "20"
      ]
     },
     "execution_count": 4,
     "metadata": {},
     "output_type": "execute_result"
    }
   ],
   "source": [
    "gan.data_loader.train_data_length"
   ]
  },
  {
   "cell_type": "markdown",
   "metadata": {},
   "source": [
    "# Iterator : 260초\n",
    "# Queue Iterator : 200초"
   ]
  },
  {
   "cell_type": "code",
   "execution_count": 5,
   "metadata": {},
   "outputs": [
    {
     "name": "stdout",
     "output_type": "stream",
     "text": [
      "elapsed time : 204.91554951667786\n"
     ]
    }
   ],
   "source": [
    "import time\n",
    "import threading\n",
    "from queue import Queue\n",
    "\n",
    "ITER_NUM = 620\n",
    "batch_size = 10\n",
    "\n",
    "gan.generator.compile(\n",
    "    loss=sm.losses.BinaryFocalLoss(),\n",
    "    optimizer=Nadam(gan.generator_learning_rate),\n",
    "    metrics=[\"accuracy\"],\n",
    ")\n",
    "\n",
    "def batch_setter(queue):\n",
    "    batch_i = 0\n",
    "    count = 0\n",
    "    while batch_i + gan.batch_size <= gan.data_loader.train_data_length and count < ITER_NUM:\n",
    "        \n",
    "        batch_index = gan.train_loaded_data_index[batch_i: batch_i +\n",
    "                                                   gan.batch_size]        \n",
    "        \n",
    "        batch_tuple = gan.data_loader.get_data(\n",
    "        data_mode=\"train\", index=batch_index)\n",
    "\n",
    "        queue.put(batch_tuple)\n",
    "        queue.join()\n",
    "        count += 1\n",
    "    \n",
    "def batch_getter(queue):\n",
    "    \n",
    "    original_img, masked_img = queue.get()\n",
    "    tensor_original_img = tf.convert_to_tensor(original_img)\n",
    "    tensor_masked_img = tf.convert_to_tensor(masked_img)\n",
    "    queue.task_done()\n",
    "    \n",
    "    return tensor_original_img, tensor_masked_img\n",
    "    \n",
    "def batch_trainer(original_img, masked_img):\n",
    "    \n",
    "    gan.generator.train_on_batch(temp_source, temp_mask)\n",
    "\n",
    "q = Queue()\n",
    "\n",
    "setter = threading.Thread(target=batch_setter, args=(q,),daemon=True)\n",
    "setter.start()\n",
    "start_time = time.time()\n",
    "for i in range(ITER_NUM):\n",
    "    tensor_original_img, tensor_masked_img = batch_getter(q)\n",
    "    \n",
    "    gan.generator.train_on_batch(tensor_original_img, tensor_masked_img)\n",
    "print(f\"elapsed time : {time.time() - start_time}\")"
   ]
  },
  {
   "cell_type": "code",
   "execution_count": 29,
   "metadata": {},
   "outputs": [
    {
     "name": "stdout",
     "output_type": "stream",
     "text": [
      "elapsed time : 260.5594081878662\n"
     ]
    }
   ],
   "source": [
    "start_time = time.time()\n",
    "batch_i = 0\n",
    "count = 0\n",
    "while batch_i + gan.batch_size <= gan.data_loader.train_data_length and count < ITER_NUM:\n",
    "\n",
    "    batch_index = gan.train_loaded_data_index[batch_i: batch_i +\n",
    "                                               gan.batch_size]        \n",
    "    batch_tuple = gan.data_loader.get_data(\n",
    "    data_mode=\"train\", index=batch_index)\n",
    "    \n",
    "    gan.generator.train_on_batch(*batch_tuple)\n",
    "    \n",
    "    count += 1\n",
    "print(f\"elapsed time : {time.time() - start_time}\")"
   ]
  },
  {
   "cell_type": "code",
   "execution_count": 10,
   "metadata": {},
   "outputs": [
    {
     "name": "stdout",
     "output_type": "stream",
     "text": [
      "<class 'tensorflow.python.framework.ops.EagerTensor'>\n",
      "<class 'numpy.ndarray'>\n"
     ]
    }
   ],
   "source": [
    "import cv2\n",
    "\n",
    "temp = tensor_masked_img\n",
    "print(type(temp))\n",
    "print(type(temp.numpy()))"
   ]
  },
  {
   "cell_type": "code",
   "execution_count": 11,
   "metadata": {},
   "outputs": [
    {
     "data": {
      "text/plain": [
       "False"
      ]
     },
     "execution_count": 11,
     "metadata": {},
     "output_type": "execute_result"
    }
   ],
   "source": [
    "isinstance(temp.numpy(), tf.Tensor)"
   ]
  },
  {
   "cell_type": "code",
   "execution_count": null,
   "metadata": {},
   "outputs": [],
   "source": []
  }
 ],
 "metadata": {
  "kernelspec": {
   "display_name": "Python 3",
   "language": "python",
   "name": "python3"
  },
  "language_info": {
   "codemirror_mode": {
    "name": "ipython",
    "version": 3
   },
   "file_extension": ".py",
   "mimetype": "text/x-python",
   "name": "python",
   "nbconvert_exporter": "python",
   "pygments_lexer": "ipython3",
   "version": "3.8.5"
  }
 },
 "nbformat": 4,
 "nbformat_minor": 4
}