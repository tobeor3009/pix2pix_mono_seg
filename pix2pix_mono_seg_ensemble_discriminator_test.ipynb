{
 "cells": [
  {
   "cell_type": "code",
   "execution_count": 1,
   "metadata": {
    "scrolled": true
   },
   "outputs": [
    {
     "name": "stdout",
     "output_type": "stream",
     "text": [
      "Segmentation Models: using `tf.keras` framework.\n",
      "{'img_shape': [512, 512], 'input_channels': 3, 'output_channels': 1}\n"
     ]
    }
   ],
   "source": [
    "# TBD 1 : logger 추가\n",
    "# TBD 2: flask github 참고, method, class, 파일의 맨 윗단 마다 pydoc 형식으로 달기\n",
    "# TBD 3: 축약어를 자제할것 (특히 변수)\n",
    "\n",
    "# -------------------------\n",
    "#   done\n",
    "# -------------------------\n",
    "\n",
    "# 0. add data-setter, receiver system use python queue.Queue() class\n",
    "# this will resolve i/o bottleneck\n",
    "# 3. make iterable\n",
    "\n",
    "# -------------------------\n",
    "#   In Progress\n",
    "# -------------------------\n",
    "\n",
    "# 1. add logger\n",
    "# 2. make image drawer overlay mask on image\n",
    "\n",
    "# -------------------------\n",
    "#   To be Done\n",
    "# -------------------------\n",
    "\n",
    "# 4. make verbose turn on and off\n",
    "# 5. write pydoc\n",
    "\n",
    "# python basic Module\n",
    "import os\n",
    "import sys\n",
    "import types\n",
    "import progressbar\n",
    "from datetime import datetime\n",
    "from shutil import copy\n",
    "from pickle import dump, load\n",
    "\n",
    "# math, image, plot Module\n",
    "import numpy as np\n",
    "import cv2\n",
    "import matplotlib.pyplot as plt  # TBD\n",
    "\n",
    "# tensorflow Module\n",
    "import tensorflow as tf\n",
    "from tensorflow.keras import backend as keras_backend\n",
    "from tensorflow.keras.layers import GaussianNoise\n",
    "from tensorflow.keras.layers import Input, Concatenate\n",
    "from tensorflow.keras.layers import Conv2D\n",
    "from tensorflow.keras.models import Sequential, Model\n",
    "from tensorflow.keras.optimizers import Nadam\n",
    "from tensorflow.keras.initializers import RandomNormal\n",
    "from tensorflow.keras import losses\n",
    "\n",
    "# keras segmentaion third-party Moudle\n",
    "import segmentation_models as sm\n",
    "import tensorflow_addons as tfa\n",
    "\n",
    "# custom Module\n",
    "from gan_module.data_loader.medical_segmentation_data_loader import DataLoader\n",
    "from gan_module.data_loader.manage_batch import BatchQueueManager\n",
    "\n",
    "from gan_module.model.build_model import build_generator as build_generator\n",
    "from gan_module.model.build_model import build_discriminator as build_discriminator\n",
    "from gan_module.util.custom_loss import weighted_region_loss, dice_score, combined_loss, f1_loss\n",
    "# from gan_module.util.custom_gradient import SGD_AGC\n",
    "from gan_module.util.manage_learning_rate import learning_rate_scheduler\n",
    "from gan_module.util.draw_images import ImageDrawer\n",
    "from gan_module.util.logger import TrainLogger\n",
    "from gan_module.config import CONFIG\n",
    "\n",
    "USE_GPU = True\n",
    "\n",
    "if USE_GPU:\n",
    "    os.environ['CUDA_VISIBLE_DEVICES'] = '0'\n",
    "    gpu_devices = tf.config.experimental.list_physical_devices(\"GPU\")\n",
    "    for device in gpu_devices:\n",
    "        tf.config.experimental.set_memory_growth(device, True)\n",
    "else:\n",
    "    os.environ['CUDA_VISIBLE_DEVICES'] = '-1'\n",
    "\n",
    "\n",
    "class Pix2PixSegmentation:\n",
    "    def __init__(\n",
    "        self,\n",
    "        generator_power=32,\n",
    "        discriminator_power=32,\n",
    "        generator_depth = None,\n",
    "        discriminator_depth = None,\n",
    "        generator_learning_rate=1e-4,\n",
    "        discriminator_learning_rate=1e-4,\n",
    "        temp_weights_path=\".\",\n",
    "        on_memory=True,\n",
    "        code_test=False\n",
    "    ):\n",
    "        # Input shape\n",
    "        img_shape = CONFIG[\"img_shape\"]\n",
    "        input_channels = CONFIG[\"input_channels\"]\n",
    "        output_channels = CONFIG[\"output_channels\"]\n",
    "\n",
    "        self.input_img_shape = (*img_shape, input_channels)\n",
    "        self.output_img_shape = (*img_shape, output_channels)\n",
    "        # set parameter\n",
    "        self.start_epoch = None\n",
    "        self.on_memory = on_memory\n",
    "        self.history = {\"generator_loss\": [],\n",
    "                        \"f1_loss_train\": [], \"f1_score_train\": [],\n",
    "                        \"f1_loss_valid\": [], \"f1_score_valid\": []}\n",
    "        self.temp_weights_path = temp_weights_path\n",
    "\n",
    "        # Configure data loader\n",
    "        self.dataset_name = \"glomerulus_0.65_512_remove_peel_split_man\"\n",
    "        self.data_loader = DataLoader(\n",
    "            dataset_name=self.dataset_name,\n",
    "            config_dict=CONFIG,\n",
    "            on_memory=self.on_memory, \n",
    "            code_test=code_test\n",
    "        )\n",
    "        \n",
    "        self.train_logger = TrainLogger()\n",
    "        \n",
    "        self.loaded_data_index = {\n",
    "            \"train\": np.arange(self.data_loader.data_length[\"train\"]),\n",
    "            \"valid\": np.arange(self.data_loader.data_length[\"valid\"])\n",
    "        }\n",
    "        \n",
    "        # Configure Image Drawer\n",
    "        self.image_drawer = ImageDrawer(\n",
    "            dataset_name=self.dataset_name, data_loader=self.data_loader\n",
    "        )\n",
    "        self.discriminator_loss_ratio = keras_backend.variable(0.1)\n",
    "        self.f1_loss_ratio = keras_backend.variable(100)\n",
    "        self.discriminator_losses = np.array(\n",
    "            [1 for _ in range(self.data_loader.data_length[\"train\"])], dtype=np.float32)\n",
    "        self.discriminator_acc_previous = 0.5\n",
    "        self.discriminator_acces = np.array(\n",
    "            [0.5 for _ in range(self.data_loader.data_length[\"train\"])])\n",
    "        self.discriminator_acces_previous = self.discriminator_acces.copy()\n",
    "        self.generator_losses = np.array(\n",
    "            [1 for _ in range(self.data_loader.data_length[\"train\"])], dtype=np.float32)\n",
    "        self.generator_losses_previous = self.generator_losses.copy()\n",
    "        self.generator_f1_losses = np.array(\n",
    "            [1 for _ in range(self.data_loader.data_length[\"train\"])], dtype=np.float32)\n",
    "        self.generator_loss_min = 10000\n",
    "        self.generator_loss_previous = 10000\n",
    "        self.generator_loss_max_previous = 10000\n",
    "        self.generator_valid_loss_min = 10000\n",
    "        self.total_f1_loss_min = 10000\n",
    "        self.weight_save_stack = False\n",
    "        self.training_end_stack = 0\n",
    "        # Calculate output shape of D (PatchGAN)\n",
    "        self.disc_patch = (img_shape[0] // (2 ** discriminator_depth), img_shape[1] // (2 ** discriminator_depth), 1)\n",
    "        # Number of filters in the first layer of G and D\n",
    "        self.generator_learning_rate = generator_learning_rate\n",
    "        self.discriminator_learning_rate = discriminator_learning_rate\n",
    "        self.patience_count = 0\n",
    "        \n",
    "        generator_optimizer = Nadam(self.generator_learning_rate)\n",
    "        discriminator_optimizer = Nadam(self.discriminator_learning_rate)\n",
    "#         generator_optimizer = SGD_AGC(lr=self.generator_learning_rate, momentum=0.9)\n",
    "#         discriminator_optimizer = SGD_AGC(lr=self.discriminator_learning_rate, momentum=0.9)        \n",
    "        # Build the generator\n",
    "        self.generator = build_generator(\n",
    "            input_img_shape=self.input_img_shape,\n",
    "            output_channels=output_channels,\n",
    "            generator_power=generator_power,\n",
    "            depth=generator_depth,\n",
    "        )\n",
    "        self.generator.compile(\n",
    "            loss=weighted_region_loss,\n",
    "            optimizer=generator_optimizer,\n",
    "            metrics=[dice_score],\n",
    "        )\n",
    "        # Build and compile the discriminator\n",
    "        self.discriminator = build_discriminator(\n",
    "            input_img_shape=self.input_img_shape,\n",
    "            output_img_shape=self.output_img_shape,\n",
    "            discriminator_power=discriminator_power,\n",
    "            depth=discriminator_depth,\n",
    "        )\n",
    "        # 'mse' or tf.keras.losses.Huber() tf.keras.losses.LogCosh()\n",
    "        self.discriminator.compile(\n",
    "            loss=sm.losses.BinaryFocalLoss(alpha=0.25, gamma=4),\n",
    "            optimizer=discriminator_optimizer,\n",
    "            metrics=[\"accuracy\"],\n",
    "        )\n",
    "        # For the combined model we will only train the generator\n",
    "        self.discriminator.trainable = False\n",
    "\n",
    "        # -------------------------\n",
    "        # Construct Computational\n",
    "        #   Graph of Generator\n",
    "        # -------------------------\n",
    "\n",
    "        # Input images and their conditioning images\n",
    "        original_img = Input(shape=self.input_img_shape)\n",
    "        # generate image from original_img for target masked_img\n",
    "        model_masked_img = self.generator(original_img)\n",
    "        \n",
    "    \n",
    "        # Discriminators determines validity of translated images / condition pairs\n",
    "        model_validity = self.discriminator([original_img, model_masked_img])\n",
    "        # give score by\n",
    "        # 1. how generator trick discriminator\n",
    "        # 2. how generator's image same as real photo in pixel\n",
    "        # 3. if you want change loss, see doc https://keras.io/api/losses/\n",
    "        # 4. 'mse', 'mae', tf.keras.losses.LogCosh(),  tf.keras.losses.Huber()\n",
    "        self.combined = Model(\n",
    "            inputs=original_img,\n",
    "            outputs=[model_validity, model_masked_img],\n",
    "        )\n",
    "        \n",
    "        self.combined.compile(\n",
    "            loss=[\n",
    "#                 tf.keras.losses.BinaryCrossentropy(label_smoothing=0.05),\n",
    "                sm.losses.BinaryFocalLoss(alpha=0.25, gamma=4),\n",
    "                weighted_region_loss\n",
    "            ],\n",
    "            loss_weights=[0.1, 100],\n",
    "            optimizer=generator_optimizer,\n",
    "        )\n",
    "\n",
    "    def train(self, epochs, batch_size=1, epoch_shuffle_term=10):\n",
    "\n",
    "        start_time = datetime.now()\n",
    "\n",
    "        # Adversarial loss ground truths\n",
    "        self.training_end_stack = 0\n",
    "        self.batch_size = batch_size\n",
    "        valid_patch = np.ones(\n",
    "            (self.batch_size, *self.disc_patch), dtype=np.float32)\n",
    "        fake_patch = np.zeros(\n",
    "            (self.batch_size, *self.disc_patch), dtype=np.float32)\n",
    "        # TBD : move batch_queue_manager to __init__\n",
    "        self.batch_queue_manager = BatchQueueManager(self, batch_size, self.on_memory)\n",
    "        \n",
    "        if self.start_epoch is None:\n",
    "            self.start_epoch = 0\n",
    "        for epoch in range(self.start_epoch, epochs):\n",
    "            batch_i = 0\n",
    "\n",
    "            generator_loss_max_in_epoch = 0\n",
    "            generator_loss_min_in_epoch = 1000\n",
    "            generator_discriminator_losses = np.array(\n",
    "            [1 for _ in range(self.data_loader.data_length[\"train\"])], dtype=np.float32)\n",
    "            # shffle data maybe\n",
    "            if epoch % epoch_shuffle_term == 0:\n",
    "                self.data_loader.shuffle_train_imgs()\n",
    "            \n",
    "            if self.discriminator_acc_previous < 0.95:\n",
    "                discriminator_learning = True\n",
    "            else:\n",
    "                discriminator_learning = False\n",
    "            generator_1_10_quantile = np.quantile(self.generator_losses, 0.1)\n",
    "            \n",
    "            \n",
    "            generator_current_learning_rate = learning_rate_scheduler(\n",
    "                self.generator_learning_rate,\n",
    "                epoch+self.patience_count,\n",
    "                warm_up=True\n",
    "            )\n",
    "            discriminator_current_learning_rate = learning_rate_scheduler(\n",
    "                self.discriminator_learning_rate,\n",
    "                epoch+self.patience_count,\n",
    "                warm_up=True\n",
    "            ) * (1 - self.discriminator_acc_previous)\n",
    "            keras_backend.set_value(\n",
    "                self.discriminator.optimizer.learning_rate,\n",
    "                discriminator_current_learning_rate,\n",
    "            )\n",
    "            keras_backend.set_value(\n",
    "                self.discriminator.optimizer.learning_rate,\n",
    "                discriminator_current_learning_rate,\n",
    "            )\n",
    "            keras_backend.set_value(\n",
    "                self.discriminator_loss_ratio,\n",
    "                keras_backend.variable(0.01) + 0.375 * self.discriminator_acc_previous,\n",
    "            )\n",
    "            keras_backend.set_value(\n",
    "                self.f1_loss_ratio,\n",
    "                keras_backend.variable(100) - 0.375  * self.discriminator_acc_previous,\n",
    "            )\n",
    "            \n",
    "            bar = progressbar.ProgressBar(\n",
    "                maxval=self.data_loader.data_length[\"train\"]).start()\n",
    "            \n",
    "            while batch_i + self.batch_size < self.data_loader.data_length[\"train\"] + self.batch_size:\n",
    "\n",
    "                batch_index = self.loaded_data_index[\"train\"][batch_i: batch_i +\n",
    "                                                              self.batch_size]\n",
    "\n",
    "                original_img, masked_img = self.batch_queue_manager.get_batch(\n",
    "                    data_mode=\"train\")\n",
    "                model_masked_img = self.generator.predict_on_batch(\n",
    "                    original_img)\n",
    "                \n",
    "                valid_patch = np.ones(\n",
    "                    (len(model_masked_img), *self.disc_patch), dtype=np.float32)\n",
    "                fake_patch = np.zeros(\n",
    "                    (len(model_masked_img), *self.disc_patch), dtype=np.float32)\n",
    "                \n",
    "                self.original_img = original_img\n",
    "                self.masked_img = masked_img\n",
    "                # ---------------------\n",
    "                #  Train Discriminator\n",
    "                # ---------------------\n",
    "                # Train Discriminator for valid image if it failed to detect fake image\n",
    "                if discriminator_learning and self.discriminator_acc_previous < np.random.rand():\n",
    "                    discriminator_loss = self.discriminator.train_on_batch([original_img, masked_img], valid_patch)\n",
    "                else:\n",
    "                    discriminator_loss = self.discriminator.test_on_batch([original_img, masked_img], valid_patch)\n",
    "                    \n",
    "                batch_discriminator_acc_previous = np.mean(\n",
    "                    self.discriminator_acces_previous[batch_index])\n",
    "                self.discriminator.trainable = False\n",
    "                # -----------------\n",
    "                #  Train Generator\n",
    "                # -----------------\n",
    "                \n",
    "#                 if np.mean(self.generator_losses[batch_index]) >= generator_1_10_quantile:\n",
    "#                     generator_loss = self.combined.train_on_batch(\n",
    "#                         original_img,\n",
    "#                         [valid_patch, masked_img]\n",
    "#                     )\n",
    "#                 else:\n",
    "#                     generator_loss = self.combined.test_on_batch(\n",
    "#                         original_img,\n",
    "#                         [valid_patch, masked_img]\n",
    "#                     )\n",
    "                generator_loss = self.combined.train_on_batch(\n",
    "                    original_img,\n",
    "                    [valid_patch, masked_img]     \n",
    "                )\n",
    "                # train discriminator for fake image if it failed to detect fake image\n",
    "                self.discriminator.trainable = True\n",
    "                if (batch_discriminator_acc_previous <= 0.5 or epoch == 0) and discriminator_learning:\n",
    "                    discriminator_loss += self.discriminator.train_on_batch(\n",
    "                        [original_img,model_masked_img], fake_patch)\n",
    "                else:\n",
    "                    discriminator_loss += self.discriminator.test_on_batch(\n",
    "                        [original_img,model_masked_img], fake_patch)\n",
    "\n",
    "                self.discriminator_losses[batch_index] = discriminator_loss[0]\n",
    "                self.discriminator_acces[batch_index] = discriminator_loss[1]\n",
    "                self.generator_losses[batch_index] = generator_loss[0]\n",
    "                self.generator_f1_losses[batch_index] = generator_loss[2]\n",
    "                generator_discriminator_losses = generator_loss[1]\n",
    "                # plot progress\n",
    "                bar.update(batch_i)\n",
    "                \n",
    "                # 한 배치 끝\n",
    "                batch_i += self.batch_size\n",
    "            \n",
    "            # training batch 사이클 끝\n",
    "            \n",
    "            #######################################\n",
    "            # valid_loss, valid score 계산\n",
    "            #######################################\n",
    "            \n",
    "            #if self.generator_loss_min > np.mean(self.generator_losses):\n",
    "            valid_f1_loss_list = []\n",
    "            valid_f1_score_list = []\n",
    "            for index in range(0, self.data_loader.data_length[\"valid\"], self.batch_size):\n",
    "\n",
    "                valid_source_img, valid_masked_img = self.batch_queue_manager.get_batch(\n",
    "                    data_mode=\"valid\")\n",
    "\n",
    "                valid_model_masked_img = self.generator.predict_on_batch(\n",
    "                    valid_source_img)\n",
    "                valid_f1_loss =  weighted_region_loss(valid_masked_img, valid_model_masked_img)\n",
    "                valid_f1_score = dice_score(valid_masked_img, valid_model_masked_img)\n",
    "                \n",
    "                valid_f1_loss_list.append(valid_f1_loss)\n",
    "                valid_f1_score_list.append(valid_f1_score)\n",
    "            \n",
    "            current_valid_f1_loss = np.mean(valid_f1_loss_list)\n",
    "            \n",
    "            # compute valid_f1_loss end    \n",
    "            total_f1_loss = np.mean(self.generator_f1_losses) * 0.75 + current_valid_f1_loss * 0.25\n",
    "                \n",
    "            self.discriminator_acc_previous = np.mean(self.discriminator_acces)\n",
    "            self.discriminator_acces_previous = self.discriminator_acces.copy()\n",
    "            self.generator_losses_previous = self.generator_losses.copy()\n",
    "            # TBD: add epoch bigger than history length\n",
    "            self.history[\"generator_loss\"].append(\n",
    "                np.mean(self.generator_losses))\n",
    "            self.history[\"f1_loss_train\"].append(\n",
    "                np.mean(self.generator_f1_losses))\n",
    "            self.history[\"f1_loss_valid\"].append(\n",
    "                np.mean(valid_f1_loss_list))\n",
    "            \n",
    "\n",
    "            self.image_drawer.sample_images(\n",
    "                self.generator, epoch)\n",
    "\n",
    "            # previous generator_loss 갱신\n",
    "            self.generator_loss_previous = np.mean(self.generator_losses)\n",
    "            self.generator_loss_max_previous = np.max(self.generator_losses)\n",
    "            generator_loss_decrease_ratio = np.mean(self.generator_losses) / self.generator_loss_min\n",
    "            \n",
    "            #######################################\n",
    "            # 학습 상태 및 로그 출력\n",
    "            #######################################\n",
    "            self.train_logger.write_log(\n",
    "                f\"{epoch}/{epochs} ({epoch+self.patience_count})\",\n",
    "                np.mean(self.discriminator_acces),\n",
    "                np.mean(self.generator_losses),\n",
    "                np.max(self.generator_losses),\n",
    "                np.min(self.generator_losses),\n",
    "                f\"{self.generator_loss_min - np.mean(self.generator_losses)}({generator_loss_decrease_ratio})\",\n",
    "                self.generator_loss_min,\n",
    "                generator_current_learning_rate,\n",
    "                datetime.now() - start_time\n",
    "            )\n",
    "            print(f\"valid_loss : {self.generator_valid_loss_min} / {current_valid_f1_loss}\")\n",
    "            print(f\"discriminator_loss : {np.mean(self.discriminator_losses)}\")\n",
    "            print(f\"generator_discriminator_loss : {np.mean(generator_discriminator_losses)}\")\n",
    "            print(f\"train_f1_loss : {np.mean(self.generator_f1_losses)}\")\n",
    "            print(f\"valid_f1_score : {np.mean(valid_f1_score_list)}\")\n",
    "            print(f\"current/min total_f1_loss = {self.total_f1_loss_min} / {total_f1_loss}\")\n",
    "            #######################################\n",
    "            # 학습 상태 관찰 후 저장 여부 선택\n",
    "            #######################################\n",
    "            \n",
    "            if total_f1_loss / self.total_f1_loss_min < 1.1:\n",
    "                \n",
    "                if self.total_f1_loss_min > total_f1_loss:\n",
    "        \n",
    "                    self.generator_valid_loss_min = current_valid_f1_loss\n",
    "                    self.total_f1_loss_min = total_f1_loss\n",
    "                    if self.generator_loss_min > np.mean(self.generator_losses):\n",
    "                        self.generator_loss_min = np.mean(self.generator_losses)\n",
    "                        self.generator_loss_max_min = generator_loss_max_in_epoch\n",
    "                        self.generator_loss_min_min = generator_loss_min_in_epoch\n",
    "                    \n",
    "                    self.save_study_info()\n",
    "                    self.weight_save_stack = True\n",
    "                    print(\"save weights\")    \n",
    "                    if epoch < 20:\n",
    "                        if generator_loss_decrease_ratio < 0.8 and epoch > 0:\n",
    "                            self.patience_count += 0.25\n",
    "                    else:\n",
    "                        self.generator_learning_rate *= generator_loss_decrease_ratio\n",
    "                        self.discriminator_learning_rate  *= generator_loss_decrease_ratio\n",
    "                        \n",
    "                if self.generator_valid_loss_min > current_valid_f1_loss: \n",
    "                    self.generator_valid_loss_min = current_valid_f1_loss\n",
    "                    \n",
    "            else:\n",
    "                print(\"loss decrease.\")\n",
    "                if epoch+self.patience_count < 20:\n",
    "                    self.patience_count -= 1.5\n",
    "                else:\n",
    "                    self.patience_count += 1\n",
    "                self.load_best_weights()\n",
    "            \n",
    "            if epoch >= 10 and self.weight_save_stack:\n",
    "                copy(\n",
    "                    \"generator.h5\",\n",
    "                    \"./generator_weights/generator_\"\n",
    "                    + str(round(self.generator_loss_min, 5))\n",
    "                    + \"_\"\n",
    "                    + str(round(self.generator_loss_max_min, 5))\n",
    "                    + \".h5\",\n",
    "                )\n",
    "                self.weight_save_stack = False\n",
    "            \n",
    "            # 한 epoch의 끝\n",
    "        \n",
    "            \n",
    "    def get_info_folderPath(self):\n",
    "        return (\n",
    "            str(round(self.generator_loss_min, 5))\n",
    "            + \"_\"\n",
    "            + str(round(self.generator_loss_max_min, 5))\n",
    "        )\n",
    "\n",
    "    def save_study_info(self, path=None):\n",
    "\n",
    "        if path is None:\n",
    "            path = self.temp_weights_path\n",
    "\n",
    "        generator_weigth_path = os.path.join(path, \"generator.h5\")\n",
    "        discriminator_weigth_path = os.path.join(path, \"discriminator.h5\")\n",
    "        combined_weigth_path = os.path.join(path, \"combined.h5\")\n",
    "\n",
    "        self.generator.save_weights(generator_weigth_path)\n",
    "        self.discriminator.save_weights(discriminator_weigth_path)\n",
    "        self.combined.save_weights(combined_weigth_path)\n",
    "\n",
    "        study_info = {}\n",
    "        study_info[\"start_epoch\"] = self.start_epoch\n",
    "        study_info[\"train_loaded_data_index\"] = self.loaded_data_index[\"train\"]\n",
    "        study_info[\"generator_loss_min\"] = self.generator_loss_min\n",
    "        study_info[\"generator_loss_max_min\"] = self.generator_loss_max_min\n",
    "        study_info[\"generator_loss_min_min\"] = self.generator_loss_min_min\n",
    "        study_info[\"generator_losses_previous\"] = self.generator_losses_previous\n",
    "        study_info[\"discriminator_acces\"] = self.discriminator_acces\n",
    "        study_info[\"history\"] = self.history\n",
    "        file = open(path + \"/study_info.pkl\", \"wb\")\n",
    "        dump(study_info, file)\n",
    "        file.close()\n",
    "\n",
    "    def load_study_info(self):\n",
    "\n",
    "        self.generator.load_weights(\"generator.h5\")\n",
    "        self.discriminator.load_weights(\"discriminator.h5\")\n",
    "#         self.combined.load_weights(\"combined.h5\")\n",
    "\n",
    "        if os.path.isfile(\"study_info.pkl\"):\n",
    "            file = open(\"study_info.pkl\", \"rb\")\n",
    "            study_info = load(file)\n",
    "            file.close()\n",
    "            self.start_epoch = study_info[\"start_epoch\"]\n",
    "            self.loaded_data_index[\"train\"] = study_info[\"train_loaded_data_index\"]\n",
    "            self.generator_loss_min = study_info[\"generator_loss_min\"]\n",
    "            self.generator_loss_max_min = study_info[\"generator_loss_max_min\"]\n",
    "            self.generator_loss_min_min = study_info[\"generator_loss_min_min\"]\n",
    "            self.generator_losses_previous = study_info[\"generator_losses_previous\"]\n",
    "            self.discriminator_acces = study_info[\"discriminator_acces\"]\n",
    "            self.history = study_info[\"history\"]\n",
    "        else:\n",
    "            print(\"No info pkl file!\")\n",
    "\n",
    "    def load_best_weights(self):\n",
    "        self.generator.load_weights(self.temp_weights_path + \"/generator.h5\")\n",
    "        self.discriminator.load_weights(\n",
    "            self.temp_weights_path + \"/discriminator.h5\")\n",
    "        self.combined.load_weights(self.temp_weights_path + \"/combined.h5\")\n",
    "\n",
    "    def run_pretraining(self, epochs):\n",
    "        if self.on_memory:\n",
    "            self.generator.fit(\n",
    "                x=self.data_loader.loaded_data_object[\"train\"][\"input\"],\n",
    "                y=self.data_loader.loaded_data_object[\"train\"][\"output\"],\n",
    "                validation_data=list(self.data_loader.loaded_data_object[\"valid\"].values()),\n",
    "                batch_size=self.batch_size, epochs=epochs\n",
    "            )\n",
    "        else:\n",
    "            self.generator.fit_generator(\n",
    "                x=self.data_loader.loaded_data_object[\"train\"][\"input\"],\n",
    "                y=self.data_loader.loaded_data_object[\"train\"][\"output\"],\n",
    "                validation_data=list(self.data_loader.loaded_data_object[\"valid\"].values()),\n",
    "                batch_size=self.batch_size, epochs=epochs\n",
    "            )\n",
    "        self.generator.save_weights(\"pretrained.h5\")"
   ]
  },
  {
   "cell_type": "code",
   "execution_count": 2,
   "metadata": {},
   "outputs": [],
   "source": [
    "generator_lr = 1e-5\n",
    "discriminator_lr = 1e-5\n",
    "batch_size = 4\n",
    "\n",
    "g_lr = generator_lr * batch_size\n",
    "d_lr = discriminator_lr * batch_size\n",
    "gan = Pix2PixSegmentation(generator_power=8, discriminator_power=8, \n",
    "                          generator_depth = 4, discriminator_depth = 4,\n",
    "                          generator_learning_rate=g_lr, discriminator_learning_rate=d_lr,\n",
    "                          on_memory=False, code_test=False)"
   ]
  },
  {
   "cell_type": "code",
   "execution_count": null,
   "metadata": {},
   "outputs": [
    {
     "name": "stderr",
     "output_type": "stream",
     "text": [
      " 99% (4496 of 4500) |################### | Elapsed Time: 0:14:11 ETA:   0:00:00{\n",
      "2021-06-02 06:42:55,149 - train - INFO - \n",
      "Epoch : 0/100 (0)\n",
      "Discriminator_acces : 0.5293157552083333\n",
      "Mean generator loss : 276.2706604003906\n",
      "Max generator loss : 323.77618408203125\n",
      "Min generator loss : 206.41571044921875\n",
      "Generator loss decrease : 9723.72933959961(0.02762706604003906)\n",
      "Current lowest generator loss : 10000\n",
      "Current Learning_rate : 2.0000000000000003e-06\n",
      "Elapsed_time : 0:15:47.693082\n",
      "}\n"
     ]
    },
    {
     "name": "stdout",
     "output_type": "stream",
     "text": [
      "valid_loss : 10000 / 2.468461513519287\n",
      "discriminator_loss : 5.583191871643066\n",
      "generator_discriminator_loss : 0.01914921961724758\n",
      "train_f1_loss : 2.4725801944732666\n",
      "valid_f1_score : 0.18706108629703522\n",
      "current/min total_f1_loss = 10000 / 2.4715505242347717\n"
     ]
    },
    {
     "name": "stderr",
     "output_type": "stream",
     "text": [
      "\r",
      "N/A% (0 of 4500) |                       | Elapsed Time: 0:00:00 ETA:  --:--:--"
     ]
    },
    {
     "name": "stdout",
     "output_type": "stream",
     "text": [
      "save weights\n"
     ]
    },
    {
     "name": "stderr",
     "output_type": "stream",
     "text": [
      " 99% (4496 of 4500) |################### | Elapsed Time: 0:12:21 ETA:   0:00:00{\n",
      "2021-06-02 06:56:51,881 - train - INFO - \n",
      "Epoch : 1/100 (1)\n",
      "Discriminator_acces : 0.56564453125\n",
      "Mean generator loss : 265.6551208496094\n",
      "Max generator loss : 302.1759033203125\n",
      "Min generator loss : 200.34075927734375\n",
      "Generator loss decrease : 10.61553955078125(0.9615755677223206)\n",
      "Current lowest generator loss : 276.2706604003906\n",
      "Current Learning_rate : 4.000000000000001e-06\n",
      "Elapsed_time : 0:29:44.424872\n",
      "}\n"
     ]
    },
    {
     "name": "stdout",
     "output_type": "stream",
     "text": [
      "valid_loss : 2.468461513519287 / 2.4249823093414307\n",
      "discriminator_loss : 5.404667377471924\n",
      "generator_discriminator_loss : 0.02128439024090767\n",
      "train_f1_loss : 2.389314651489258\n",
      "valid_f1_score : 0.14376045763492584\n",
      "current/min total_f1_loss = 2.4715505242347717 / 2.398231565952301\n"
     ]
    },
    {
     "name": "stderr",
     "output_type": "stream",
     "text": [
      "\r",
      "N/A% (0 of 4500) |                       | Elapsed Time: 0:00:00 ETA:  --:--:--"
     ]
    },
    {
     "name": "stdout",
     "output_type": "stream",
     "text": [
      "save weights\n"
     ]
    },
    {
     "name": "stderr",
     "output_type": "stream",
     "text": [
      " 99% (4496 of 4500) |################### | Elapsed Time: 0:11:58 ETA:   0:00:00{\n",
      "2021-06-02 07:10:25,517 - train - INFO - \n",
      "Epoch : 2/100 (2)\n",
      "Discriminator_acces : 0.6105088975694445\n",
      "Mean generator loss : 261.95989990234375\n",
      "Max generator loss : 298.119140625\n",
      "Min generator loss : 196.1549072265625\n",
      "Generator loss decrease : 3.695220947265625(0.9860901832580566)\n",
      "Current lowest generator loss : 265.6551208496094\n",
      "Current Learning_rate : 6e-06\n",
      "Elapsed_time : 0:43:18.060582\n",
      "}\n"
     ]
    },
    {
     "name": "stdout",
     "output_type": "stream",
     "text": [
      "valid_loss : 2.4249823093414307 / 2.4167356491088867\n",
      "discriminator_loss : 5.21197509765625\n",
      "generator_discriminator_loss : 0.021239474415779114\n",
      "train_f1_loss : 2.3666515350341797\n",
      "valid_f1_score : 0.19286130368709564\n",
      "current/min total_f1_loss = 2.398231565952301 / 2.3791725635528564\n"
     ]
    },
    {
     "name": "stderr",
     "output_type": "stream",
     "text": [
      "\r",
      "N/A% (0 of 4500) |                       | Elapsed Time: 0:00:00 ETA:  --:--:--"
     ]
    },
    {
     "name": "stdout",
     "output_type": "stream",
     "text": [
      "save weights\n"
     ]
    },
    {
     "name": "stderr",
     "output_type": "stream",
     "text": [
      " 78% (3544 of 4500) |###############     | Elapsed Time: 0:09:09 ETA:   0:02:28"
     ]
    }
   ],
   "source": [
    "# gan.load_study_info()\n",
    "# gan.start_epoch = 0\n",
    "gan.train(epochs=100, batch_size=batch_size, epoch_shuffle_term=10)"
   ]
  },
  {
   "cell_type": "code",
   "execution_count": null,
   "metadata": {
    "scrolled": true
   },
   "outputs": [],
   "source": [
    "# gan.load_study_info()\n",
    "# gan.start_epoch = 0\n",
    "gan.train(epochs=100, batch_size=batch_size, epoch_shuffle_term=10)"
   ]
  },
  {
   "cell_type": "code",
   "execution_count": 4,
   "metadata": {
    "collapsed": true
   },
   "outputs": [
    {
     "name": "stderr",
     "output_type": "stream",
     "text": [
      " 99% (6196 of 6200) |################### | Elapsed Time: 0:18:20 ETA:   0:00:00{\n",
      "2021-05-30 08:26:31,268 - train - INFO - \n",
      "Epoch : 0/100 (0)\n",
      "Discriminator_acces : 0.46689488564768145\n",
      "Mean generator loss : 77.13441467285156\n",
      "Max generator loss : 159.24464416503906\n",
      "Min generator loss : 61.41813278198242\n",
      "Generator loss decrease : 9922.865585327148(0.0077134414672851564)\n",
      "Current lowest generator loss : 10000\n",
      "Current Learning_rate : 2e-05\n",
      "Elapsed_time : 0:18:35.350937\n",
      "}\n"
     ]
    },
    {
     "name": "stdout",
     "output_type": "stream",
     "text": [
      "valid_loss : 10000 / 0.5948840975761414\n",
      "discriminator_loss : 1.515385389328003\n",
      "generator_discriminator_loss : 0.008397523313760757\n",
      "train_f1_loss : 0.7139192223548889\n",
      "valid_f1_score : 0.17828789353370667\n",
      "current/min total_f1_loss = 2 / 0.684160441160202\n"
     ]
    },
    {
     "name": "stderr",
     "output_type": "stream",
     "text": [
      "\r",
      "N/A% (0 of 6200) |                       | Elapsed Time: 0:00:00 ETA:  --:--:--"
     ]
    },
    {
     "name": "stdout",
     "output_type": "stream",
     "text": [
      "save weights\n"
     ]
    },
    {
     "name": "stderr",
     "output_type": "stream",
     "text": [
      " 99% (6196 of 6200) |################### | Elapsed Time: 0:17:14 ETA:   0:00:00{\n",
      "2021-05-30 08:43:58,193 - train - INFO - \n",
      "Epoch : 1/100 (0.5)\n",
      "Discriminator_acces : 0.4225358729208669\n",
      "Mean generator loss : 60.59644317626953\n",
      "Max generator loss : 152.40994262695312\n",
      "Min generator loss : 45.45588302612305\n",
      "Generator loss decrease : 16.53797149658203(0.7855954170227051)\n",
      "Current lowest generator loss : 77.13441467285156\n",
      "Current Learning_rate : 3e-05\n",
      "Elapsed_time : 0:36:02.275368\n",
      "}\n"
     ]
    },
    {
     "name": "stdout",
     "output_type": "stream",
     "text": [
      "valid_loss : 0.5948840975761414 / 0.46923354268074036\n",
      "discriminator_loss : 1.1600700616836548\n",
      "generator_discriminator_loss : 0.009639578871428967\n",
      "train_f1_loss : 0.5641579627990723\n",
      "valid_f1_score : 0.41541144251823425\n",
      "current/min total_f1_loss = 0.684160441160202 / 0.5404268577694893\n"
     ]
    },
    {
     "name": "stderr",
     "output_type": "stream",
     "text": [
      "\r",
      "N/A% (0 of 6200) |                       | Elapsed Time: 0:00:00 ETA:  --:--:--"
     ]
    },
    {
     "name": "stdout",
     "output_type": "stream",
     "text": [
      "save weights\n"
     ]
    },
    {
     "name": "stderr",
     "output_type": "stream",
     "text": [
      " 99% (6196 of 6200) |################### | Elapsed Time: 0:13:09 ETA:   0:00:00{\n",
      "2021-05-30 08:57:19,766 - train - INFO - \n",
      "Epoch : 2/100 (1.0)\n",
      "Discriminator_acces : 0.32162459834929435\n",
      "Mean generator loss : 47.968265533447266\n",
      "Max generator loss : 141.37600708007812\n",
      "Min generator loss : 35.05010986328125\n",
      "Generator loss decrease : 12.628177642822266(0.7916020154953003)\n",
      "Current lowest generator loss : 60.59644317626953\n",
      "Current Learning_rate : 4e-05\n",
      "Elapsed_time : 0:49:23.848391\n",
      "}\n"
     ]
    },
    {
     "name": "stdout",
     "output_type": "stream",
     "text": [
      "valid_loss : 0.46923354268074036 / 0.39408934116363525\n",
      "discriminator_loss : 0.7285551428794861\n",
      "generator_discriminator_loss : 0.010847466066479683\n",
      "train_f1_loss : 0.44772791862487793\n",
      "valid_f1_score : 0.5012080669403076\n",
      "current/min total_f1_loss = 0.5404268577694893 / 0.43431827425956726\n"
     ]
    },
    {
     "name": "stderr",
     "output_type": "stream",
     "text": [
      "\r",
      "N/A% (0 of 6200) |                       | Elapsed Time: 0:00:00 ETA:  --:--:--"
     ]
    },
    {
     "name": "stdout",
     "output_type": "stream",
     "text": [
      "save weights\n"
     ]
    },
    {
     "name": "stderr",
     "output_type": "stream",
     "text": [
      " 99% (6196 of 6200) |################### | Elapsed Time: 0:13:26 ETA:   0:00:00{\n",
      "2021-05-30 09:10:57,154 - train - INFO - \n",
      "Epoch : 3/100 (1.5)\n",
      "Discriminator_acces : 0.13551679057459678\n",
      "Mean generator loss : 39.808956146240234\n",
      "Max generator loss : 109.97586059570312\n",
      "Min generator loss : 28.56394386291504\n",
      "Generator loss decrease : 8.159309387207031(0.829901933670044)\n",
      "Current lowest generator loss : 47.968265533447266\n",
      "Current Learning_rate : 5e-05\n",
      "Elapsed_time : 1:03:01.236173\n",
      "}\n"
     ]
    },
    {
     "name": "stdout",
     "output_type": "stream",
     "text": [
      "valid_loss : 0.39408934116363525 / 0.3138797879219055\n",
      "discriminator_loss : 0.3301554322242737\n",
      "generator_discriminator_loss : 0.011524954810738564\n",
      "train_f1_loss : 0.3729223310947418\n",
      "valid_f1_score : 0.5850623846054077\n",
      "current/min total_f1_loss = 0.43431827425956726 / 0.35816169530153275\n"
     ]
    },
    {
     "name": "stderr",
     "output_type": "stream",
     "text": [
      "\r",
      "N/A% (0 of 6200) |                       | Elapsed Time: 0:00:00 ETA:  --:--:--"
     ]
    },
    {
     "name": "stdout",
     "output_type": "stream",
     "text": [
      "save weights\n"
     ]
    },
    {
     "name": "stderr",
     "output_type": "stream",
     "text": [
      " 99% (6196 of 6200) |################### | Elapsed Time: 0:13:52 ETA:   0:00:00{\n",
      "2021-05-30 09:25:00,930 - train - INFO - \n",
      "Epoch : 4/100 (2.0)\n",
      "Discriminator_acces : 0.017992730909778227\n",
      "Mean generator loss : 34.70597457885742\n",
      "Max generator loss : 102.82121276855469\n",
      "Min generator loss : 23.666717529296875\n",
      "Generator loss decrease : 5.1029815673828125(0.8718132376670837)\n",
      "Current lowest generator loss : 39.808956146240234\n",
      "Current Learning_rate : 6e-05\n",
      "Elapsed_time : 1:17:05.012646\n",
      "}\n"
     ]
    },
    {
     "name": "stdout",
     "output_type": "stream",
     "text": [
      "valid_loss : 0.3138797879219055 / 0.28499194979667664\n",
      "discriminator_loss : 0.10873615741729736\n",
      "generator_discriminator_loss : 0.011977557092905045\n",
      "train_f1_loss : 0.32573792338371277\n",
      "valid_f1_score : 0.5947131514549255\n",
      "current/min total_f1_loss = 0.35816169530153275 / 0.31555142998695374\n"
     ]
    },
    {
     "name": "stderr",
     "output_type": "stream",
     "text": [
      "\r",
      "N/A% (0 of 6200) |                       | Elapsed Time: 0:00:00 ETA:  --:--:--"
     ]
    },
    {
     "name": "stdout",
     "output_type": "stream",
     "text": [
      "save weights\n"
     ]
    },
    {
     "name": "stderr",
     "output_type": "stream",
     "text": [
      " 99% (6196 of 6200) |################### | Elapsed Time: 0:14:06 ETA:   0:00:00{\n",
      "2021-05-30 09:39:20,334 - train - INFO - \n",
      "Epoch : 5/100 (2.5)\n",
      "Discriminator_acces : 0.0018727554813508065\n",
      "Mean generator loss : 31.116506576538086\n",
      "Max generator loss : 99.25949096679688\n",
      "Min generator loss : 19.739757537841797\n",
      "Generator loss decrease : 3.589468002319336(0.8965749144554138)\n",
      "Current lowest generator loss : 34.70597457885742\n",
      "Current Learning_rate : 7e-05\n",
      "Elapsed_time : 1:31:24.415662\n",
      "}\n"
     ]
    },
    {
     "name": "stdout",
     "output_type": "stream",
     "text": [
      "valid_loss : 0.28499194979667664 / 0.257698655128479\n",
      "discriminator_loss : 0.03475257754325867\n",
      "generator_discriminator_loss : 0.01264470349997282\n",
      "train_f1_loss : 0.29177701473236084\n",
      "valid_f1_score : 0.5635125637054443\n",
      "current/min total_f1_loss = 0.31555142998695374 / 0.2832574248313904\n"
     ]
    },
    {
     "name": "stderr",
     "output_type": "stream",
     "text": [
      "\r",
      "N/A% (0 of 6200) |                       | Elapsed Time: 0:00:00 ETA:  --:--:--"
     ]
    },
    {
     "name": "stdout",
     "output_type": "stream",
     "text": [
      "save weights\n"
     ]
    },
    {
     "name": "stderr",
     "output_type": "stream",
     "text": [
      " 99% (6196 of 6200) |################### | Elapsed Time: 0:14:07 ETA:   0:00:00{\n",
      "2021-05-30 09:53:38,788 - train - INFO - \n",
      "Epoch : 6/100 (3.0)\n",
      "Discriminator_acces : 0.0\n",
      "Mean generator loss : 28.352235794067383\n",
      "Max generator loss : 97.78426361083984\n",
      "Min generator loss : 16.508296966552734\n",
      "Generator loss decrease : 2.764270782470703(0.911163866519928)\n",
      "Current lowest generator loss : 31.116506576538086\n",
      "Current Learning_rate : 8e-05\n",
      "Elapsed_time : 1:45:42.871157\n",
      "}\n"
     ]
    },
    {
     "name": "stdout",
     "output_type": "stream",
     "text": [
      "valid_loss : 0.257698655128479 / 0.23660573363304138\n",
      "discriminator_loss : 0.015704333782196045\n",
      "generator_discriminator_loss : 0.01337563619017601\n",
      "train_f1_loss : 0.26524853706359863\n",
      "valid_f1_score : 0.5816358327865601\n",
      "current/min total_f1_loss = 0.2832574248313904 / 0.2580878362059593\n"
     ]
    },
    {
     "name": "stderr",
     "output_type": "stream",
     "text": [
      "\r",
      "N/A% (0 of 6200) |                       | Elapsed Time: 0:00:00 ETA:  --:--:--"
     ]
    },
    {
     "name": "stdout",
     "output_type": "stream",
     "text": [
      "save weights\n"
     ]
    },
    {
     "name": "stderr",
     "output_type": "stream",
     "text": [
      " 99% (6196 of 6200) |################### | Elapsed Time: 0:14:05 ETA:   0:00:00{\n",
      "2021-05-30 10:07:54,882 - train - INFO - \n",
      "Epoch : 7/100 (3.5)\n",
      "Discriminator_acces : 0.0\n",
      "Mean generator loss : 26.195377349853516\n",
      "Max generator loss : 92.69194030761719\n",
      "Min generator loss : 14.35645866394043\n",
      "Generator loss decrease : 2.156858444213867(0.9239263534545898)\n",
      "Current lowest generator loss : 28.352235794067383\n",
      "Current Learning_rate : 9e-05\n",
      "Elapsed_time : 1:59:58.964541\n",
      "}\n"
     ]
    },
    {
     "name": "stdout",
     "output_type": "stream",
     "text": [
      "valid_loss : 0.23660573363304138 / 0.22087492048740387\n",
      "discriminator_loss : 0.013877090066671371\n",
      "generator_discriminator_loss : 0.01415559183806181\n",
      "train_f1_loss : 0.2444266974925995\n",
      "valid_f1_score : 0.6010352373123169\n",
      "current/min total_f1_loss = 0.2580878362059593 / 0.23853875324130058\n"
     ]
    },
    {
     "name": "stderr",
     "output_type": "stream",
     "text": [
      "\r",
      "N/A% (0 of 6200) |                       | Elapsed Time: 0:00:00 ETA:  --:--:--"
     ]
    },
    {
     "name": "stdout",
     "output_type": "stream",
     "text": [
      "save weights\n"
     ]
    },
    {
     "name": "stderr",
     "output_type": "stream",
     "text": [
      " 99% (6196 of 6200) |################### | Elapsed Time: 0:14:03 ETA:   0:00:00{\n",
      "2021-05-30 10:22:08,467 - train - INFO - \n",
      "Epoch : 8/100 (4.0)\n",
      "Discriminator_acces : 0.0\n",
      "Mean generator loss : 24.410743713378906\n",
      "Max generator loss : 87.53148651123047\n",
      "Min generator loss : 12.015981674194336\n",
      "Generator loss decrease : 1.7846336364746094(0.9318721890449524)\n",
      "Current lowest generator loss : 26.195377349853516\n",
      "Current Learning_rate : 0.0001\n",
      "Elapsed_time : 2:14:12.549735\n",
      "}\n"
     ]
    },
    {
     "name": "stdout",
     "output_type": "stream",
     "text": [
      "valid_loss : 0.22087492048740387 / 0.21127495169639587\n",
      "discriminator_loss : 0.014560461044311523\n",
      "generator_discriminator_loss : 0.014951547607779503\n",
      "train_f1_loss : 0.227142333984375\n",
      "valid_f1_score : 0.5680762529373169\n",
      "current/min total_f1_loss = 0.23853875324130058 / 0.22317548841238022\n"
     ]
    },
    {
     "name": "stderr",
     "output_type": "stream",
     "text": [
      "\r",
      "N/A% (0 of 6200) |                       | Elapsed Time: 0:00:00 ETA:  --:--:--"
     ]
    },
    {
     "name": "stdout",
     "output_type": "stream",
     "text": [
      "save weights\n"
     ]
    },
    {
     "name": "stderr",
     "output_type": "stream",
     "text": [
      " 99% (6196 of 6200) |################### | Elapsed Time: 0:13:59 ETA:   0:00:00{\n",
      "2021-05-30 10:36:18,793 - train - INFO - \n",
      "Epoch : 9/100 (4.5)\n",
      "Discriminator_acces : 0.0\n",
      "Mean generator loss : 23.016803741455078\n",
      "Max generator loss : 91.95127868652344\n",
      "Min generator loss : 10.758255958557129\n",
      "Generator loss decrease : 1.3939399719238281(0.9428964853286743)\n",
      "Current lowest generator loss : 24.410743713378906\n",
      "Current Learning_rate : 0.00011000000000000002\n",
      "Elapsed_time : 2:28:22.875832\n",
      "}\n"
     ]
    },
    {
     "name": "stdout",
     "output_type": "stream",
     "text": [
      "valid_loss : 0.21127495169639587 / 0.19924797117710114\n",
      "discriminator_loss : 0.01535166334360838\n",
      "generator_discriminator_loss : 0.015735335648059845\n",
      "train_f1_loss : 0.21366629004478455\n",
      "valid_f1_score : 0.6026009917259216\n",
      "current/min total_f1_loss = 0.22317548841238022 / 0.2100617103278637\n"
     ]
    },
    {
     "name": "stderr",
     "output_type": "stream",
     "text": [
      "\r",
      "N/A% (0 of 6200) |                       | Elapsed Time: 0:00:00 ETA:  --:--:--"
     ]
    },
    {
     "name": "stdout",
     "output_type": "stream",
     "text": [
      "save weights\n"
     ]
    },
    {
     "name": "stderr",
     "output_type": "stream",
     "text": [
      " 99% (6196 of 6200) |################### | Elapsed Time: 0:13:57 ETA:   0:00:00{\n",
      "2021-05-30 10:50:26,902 - train - INFO - \n",
      "Epoch : 10/100 (5.0)\n",
      "Discriminator_acces : 0.0\n",
      "Mean generator loss : 21.875398635864258\n",
      "Max generator loss : 85.88981628417969\n",
      "Min generator loss : 9.492318153381348\n",
      "Generator loss decrease : 1.1414051055908203(0.9504099488258362)\n",
      "Current lowest generator loss : 23.016803741455078\n",
      "Current Learning_rate : 0.00012\n",
      "Elapsed_time : 2:42:30.984481\n",
      "}\n"
     ]
    },
    {
     "name": "stdout",
     "output_type": "stream",
     "text": [
      "valid_loss : 0.19924797117710114 / 0.19353562593460083\n",
      "discriminator_loss : 0.016117386519908905\n",
      "generator_discriminator_loss : 0.016480527818202972\n",
      "train_f1_loss : 0.20262019336223602\n",
      "valid_f1_score : 0.6131160259246826\n",
      "current/min total_f1_loss = 0.2100617103278637 / 0.20034905150532722\n"
     ]
    },
    {
     "name": "stderr",
     "output_type": "stream",
     "text": [
      "\r",
      "N/A% (0 of 6200) |                       | Elapsed Time: 0:00:00 ETA:  --:--:--"
     ]
    },
    {
     "name": "stdout",
     "output_type": "stream",
     "text": [
      "save weights\n"
     ]
    },
    {
     "name": "stderr",
     "output_type": "stream",
     "text": [
      " 99% (6196 of 6200) |################### | Elapsed Time: 0:13:55 ETA:   0:00:00{\n",
      "2021-05-30 11:04:32,843 - train - INFO - \n",
      "Epoch : 11/100 (5.5)\n",
      "Discriminator_acces : 0.0\n",
      "Mean generator loss : 20.883638381958008\n",
      "Max generator loss : 85.02652740478516\n",
      "Min generator loss : 8.21013069152832\n",
      "Generator loss decrease : 0.99176025390625(0.9546632170677185)\n",
      "Current lowest generator loss : 21.875398635864258\n",
      "Current Learning_rate : 0.00013000000000000002\n",
      "Elapsed_time : 2:56:36.925937\n",
      "}\n"
     ]
    },
    {
     "name": "stdout",
     "output_type": "stream",
     "text": [
      "valid_loss : 0.19353562593460083 / 0.18593528866767883\n",
      "discriminator_loss : 0.016832228749990463\n",
      "generator_discriminator_loss : 0.017163308337330818\n",
      "train_f1_loss : 0.19300702214241028\n",
      "valid_f1_score : 0.6040233373641968\n",
      "current/min total_f1_loss = 0.20034905150532722 / 0.19123908877372742\n"
     ]
    },
    {
     "name": "stderr",
     "output_type": "stream",
     "text": [
      "\r",
      "N/A% (0 of 6200) |                       | Elapsed Time: 0:00:00 ETA:  --:--:--"
     ]
    },
    {
     "name": "stdout",
     "output_type": "stream",
     "text": [
      "save weights\n"
     ]
    },
    {
     "name": "stderr",
     "output_type": "stream",
     "text": [
      " 99% (6196 of 6200) |################### | Elapsed Time: 0:13:50 ETA:   0:00:00{\n",
      "2021-05-30 11:18:33,330 - train - INFO - \n",
      "Epoch : 12/100 (6.0)\n",
      "Discriminator_acces : 0.0\n",
      "Mean generator loss : 20.113855361938477\n",
      "Max generator loss : 81.95421600341797\n",
      "Min generator loss : 7.425106048583984\n",
      "Generator loss decrease : 0.7697830200195312(0.9631394147872925)\n",
      "Current lowest generator loss : 20.883638381958008\n",
      "Current Learning_rate : 0.00014\n",
      "Elapsed_time : 3:10:37.412600\n",
      "}\n"
     ]
    },
    {
     "name": "stdout",
     "output_type": "stream",
     "text": [
      "valid_loss : 0.18593528866767883 / 0.18568114936351776\n",
      "discriminator_loss : 0.017476815730333328\n",
      "generator_discriminator_loss : 0.017769373953342438\n",
      "train_f1_loss : 0.1855684369802475\n",
      "valid_f1_score : 0.5913805365562439\n",
      "current/min total_f1_loss = 0.19123908877372742 / 0.18559661507606506\n"
     ]
    },
    {
     "name": "stderr",
     "output_type": "stream",
     "text": [
      "\r",
      "N/A% (0 of 6200) |                       | Elapsed Time: 0:00:00 ETA:  --:--:--"
     ]
    },
    {
     "name": "stdout",
     "output_type": "stream",
     "text": [
      "save weights\n"
     ]
    },
    {
     "name": "stderr",
     "output_type": "stream",
     "text": [
      " 99% (6196 of 6200) |################### | Elapsed Time: 0:13:51 ETA:   0:00:00{\n",
      "2021-05-30 11:32:34,967 - train - INFO - \n",
      "Epoch : 13/100 (6.5)\n",
      "Discriminator_acces : 0.0\n",
      "Mean generator loss : 19.42964744567871\n",
      "Max generator loss : 79.57282257080078\n",
      "Min generator loss : 6.716840744018555\n",
      "Generator loss decrease : 0.6842079162597656(0.9659832715988159)\n",
      "Current lowest generator loss : 20.113855361938477\n",
      "Current Learning_rate : 0.00015000000000000001\n",
      "Elapsed_time : 3:24:39.049321\n",
      "}\n"
     ]
    },
    {
     "name": "stdout",
     "output_type": "stream",
     "text": [
      "valid_loss : 0.18568114936351776 / 0.1817380040884018\n",
      "discriminator_loss : 0.018039092421531677\n",
      "generator_discriminator_loss : 0.01829684153199196\n",
      "train_f1_loss : 0.1789468228816986\n",
      "valid_f1_score : 0.6149953007698059\n",
      "current/min total_f1_loss = 0.18559661507606506 / 0.1796446181833744\n"
     ]
    },
    {
     "name": "stderr",
     "output_type": "stream",
     "text": [
      "\r",
      "N/A% (0 of 6200) |                       | Elapsed Time: 0:00:00 ETA:  --:--:--"
     ]
    },
    {
     "name": "stdout",
     "output_type": "stream",
     "text": [
      "save weights\n"
     ]
    },
    {
     "name": "stderr",
     "output_type": "stream",
     "text": [
      " 99% (6196 of 6200) |################### | Elapsed Time: 0:13:49 ETA:   0:00:00{\n",
      "2021-05-30 11:46:34,746 - train - INFO - \n",
      "Epoch : 14/100 (7.0)\n",
      "Discriminator_acces : 0.0\n",
      "Mean generator loss : 18.921056747436523\n",
      "Max generator loss : 77.09356689453125\n",
      "Min generator loss : 5.9283246994018555\n",
      "Generator loss decrease : 0.5085906982421875(0.9738239645957947)\n",
      "Current lowest generator loss : 19.42964744567871\n",
      "Current Learning_rate : 0.00016\n",
      "Elapsed_time : 3:38:38.828829\n",
      "}\n"
     ]
    },
    {
     "name": "stdout",
     "output_type": "stream",
     "text": [
      "valid_loss : 0.1817380040884018 / 0.17675065994262695\n",
      "discriminator_loss : 0.018514471128582954\n",
      "generator_discriminator_loss : 0.01872268319129944\n",
      "train_f1_loss : 0.17403052747249603\n",
      "valid_f1_score : 0.6025642156600952\n",
      "current/min total_f1_loss = 0.1796446181833744 / 0.17471056059002876\n"
     ]
    },
    {
     "name": "stderr",
     "output_type": "stream",
     "text": [
      "\r",
      "N/A% (0 of 6200) |                       | Elapsed Time: 0:00:00 ETA:  --:--:--"
     ]
    },
    {
     "name": "stdout",
     "output_type": "stream",
     "text": [
      "save weights\n"
     ]
    },
    {
     "name": "stderr",
     "output_type": "stream",
     "text": [
      " 99% (6196 of 6200) |################### | Elapsed Time: 0:13:51 ETA:   0:00:00{\n",
      "2021-05-30 12:00:37,424 - train - INFO - \n",
      "Epoch : 15/100 (7.5)\n",
      "Discriminator_acces : 0.0\n",
      "Mean generator loss : 18.500988006591797\n",
      "Max generator loss : 76.7313003540039\n",
      "Min generator loss : 5.266839981079102\n",
      "Generator loss decrease : 0.42006874084472656(0.9777988791465759)\n",
      "Current lowest generator loss : 18.921056747436523\n",
      "Current Learning_rate : 0.00017\n",
      "Elapsed_time : 3:52:41.506538\n",
      "}\n"
     ]
    },
    {
     "name": "stdout",
     "output_type": "stream",
     "text": [
      "valid_loss : 0.17675065994262695 / 0.18699263036251068\n",
      "discriminator_loss : 0.01890477165579796\n",
      "generator_discriminator_loss : 0.01906691864132881\n",
      "train_f1_loss : 0.16994018852710724\n",
      "valid_f1_score : 0.527762234210968\n",
      "current/min total_f1_loss = 0.17471056059002876 / 0.1742032989859581\n"
     ]
    },
    {
     "name": "stderr",
     "output_type": "stream",
     "text": [
      "\r",
      "N/A% (0 of 6200) |                       | Elapsed Time: 0:00:00 ETA:  --:--:--"
     ]
    },
    {
     "name": "stdout",
     "output_type": "stream",
     "text": [
      "save weights\n"
     ]
    },
    {
     "name": "stderr",
     "output_type": "stream",
     "text": [
      " 99% (6196 of 6200) |################### | Elapsed Time: 0:13:52 ETA:   0:00:00{\n",
      "2021-05-30 12:14:40,407 - train - INFO - \n",
      "Epoch : 16/100 (8.0)\n",
      "Discriminator_acces : 0.0\n",
      "Mean generator loss : 18.070886611938477\n",
      "Max generator loss : 75.6792221069336\n",
      "Min generator loss : 4.822878837585449\n",
      "Generator loss decrease : 0.4301013946533203(0.976752519607544)\n",
      "Current lowest generator loss : 18.500988006591797\n",
      "Current Learning_rate : 0.00018\n",
      "Elapsed_time : 4:06:44.489725\n",
      "}\n"
     ]
    },
    {
     "name": "stdout",
     "output_type": "stream",
     "text": [
      "valid_loss : 0.18699263036251068 / 0.185007706284523\n",
      "discriminator_loss : 0.019216546788811684\n",
      "generator_discriminator_loss : 0.019352249801158905\n",
      "train_f1_loss : 0.16577282547950745\n",
      "valid_f1_score : 0.5617718696594238\n",
      "current/min total_f1_loss = 0.1742032989859581 / 0.17058154568076134\n"
     ]
    },
    {
     "name": "stderr",
     "output_type": "stream",
     "text": [
      "\r",
      "N/A% (0 of 6200) |                       | Elapsed Time: 0:00:00 ETA:  --:--:--"
     ]
    },
    {
     "name": "stdout",
     "output_type": "stream",
     "text": [
      "save weights\n"
     ]
    },
    {
     "name": "stderr",
     "output_type": "stream",
     "text": [
      " 99% (6196 of 6200) |################### | Elapsed Time: 0:13:54 ETA:   0:00:00{\n",
      "2021-05-30 12:28:44,817 - train - INFO - \n",
      "Epoch : 17/100 (8.5)\n",
      "Discriminator_acces : 0.0\n",
      "Mean generator loss : 17.80924415588379\n",
      "Max generator loss : 78.46946716308594\n",
      "Min generator loss : 4.367382049560547\n",
      "Generator loss decrease : 0.2616424560546875(0.9855213165283203)\n",
      "Current lowest generator loss : 18.070886611938477\n",
      "Current Learning_rate : 0.00019\n",
      "Elapsed_time : 4:20:48.899921\n",
      "}\n"
     ]
    },
    {
     "name": "stdout",
     "output_type": "stream",
     "text": [
      "valid_loss : 0.185007706284523 / 0.17964687943458557\n",
      "discriminator_loss : 0.019459258764982224\n",
      "generator_discriminator_loss : 0.019569654017686844\n",
      "train_f1_loss : 0.16326914727687836\n",
      "valid_f1_score : 0.5665555596351624\n",
      "current/min total_f1_loss = 0.17058154568076134 / 0.16736358031630516\n"
     ]
    },
    {
     "name": "stderr",
     "output_type": "stream",
     "text": [
      "\r",
      "N/A% (0 of 6200) |                       | Elapsed Time: 0:00:00 ETA:  --:--:--"
     ]
    },
    {
     "name": "stdout",
     "output_type": "stream",
     "text": [
      "save weights\n"
     ]
    },
    {
     "name": "stderr",
     "output_type": "stream",
     "text": [
      " 99% (6196 of 6200) |################### | Elapsed Time: 0:13:54 ETA:   0:00:00{\n",
      "2021-05-30 12:42:49,272 - train - INFO - \n",
      "Epoch : 18/100 (9.0)\n",
      "Discriminator_acces : 0.0\n",
      "Mean generator loss : 17.428316116333008\n",
      "Max generator loss : 78.42620849609375\n",
      "Min generator loss : 4.296079158782959\n",
      "Generator loss decrease : 0.38092803955078125(0.978610634803772)\n",
      "Current lowest generator loss : 17.80924415588379\n",
      "Current Learning_rate : 0.0002\n",
      "Elapsed_time : 4:34:53.355052\n",
      "}\n"
     ]
    },
    {
     "name": "stdout",
     "output_type": "stream",
     "text": [
      "valid_loss : 0.17964687943458557 / 0.18344420194625854\n",
      "discriminator_loss : 0.01964365504682064\n",
      "generator_discriminator_loss : 0.019718509167432785\n",
      "train_f1_loss : 0.1595543622970581\n",
      "valid_f1_score : 0.5927264094352722\n",
      "current/min total_f1_loss = 0.16736358031630516 / 0.16552682220935822\n"
     ]
    },
    {
     "name": "stderr",
     "output_type": "stream",
     "text": [
      "\r",
      "N/A% (0 of 6200) |                       | Elapsed Time: 0:00:00 ETA:  --:--:--"
     ]
    },
    {
     "name": "stdout",
     "output_type": "stream",
     "text": [
      "save weights\n"
     ]
    },
    {
     "name": "stderr",
     "output_type": "stream",
     "text": [
      " 99% (6196 of 6200) |################### | Elapsed Time: 0:13:53 ETA:   0:00:00{\n",
      "2021-05-30 12:56:52,963 - train - INFO - \n",
      "Epoch : 19/100 (9.5)\n",
      "Discriminator_acces : 0.0\n",
      "Mean generator loss : 17.277780532836914\n",
      "Max generator loss : 72.39031219482422\n",
      "Min generator loss : 4.040302753448486\n",
      "Generator loss decrease : 0.15053558349609375(0.9913625717163086)\n",
      "Current lowest generator loss : 17.428316116333008\n",
      "Current Learning_rate : 0.00021\n",
      "Elapsed_time : 4:48:57.046039\n",
      "}\n",
      "N/A% (0 of 6200) |                       | Elapsed Time: 0:00:00 ETA:  --:--:--"
     ]
    },
    {
     "name": "stdout",
     "output_type": "stream",
     "text": [
      "valid_loss : 0.18344420194625854 / 0.19070129096508026\n",
      "discriminator_loss : 0.019780529662966728\n",
      "generator_discriminator_loss : 0.01983688399195671\n",
      "train_f1_loss : 0.15812799334526062\n",
      "valid_f1_score : 0.5431802272796631\n",
      "current/min total_f1_loss = 0.16552682220935822 / 0.16627131775021553\n"
     ]
    },
    {
     "name": "stderr",
     "output_type": "stream",
     "text": [
      " 99% (6196 of 6200) |################### | Elapsed Time: 0:14:20 ETA:   0:00:00{\n",
      "2021-05-30 13:11:26,472 - train - INFO - \n",
      "Epoch : 20/100 (9.5)\n",
      "Discriminator_acces : 0.0\n",
      "Mean generator loss : 17.07428741455078\n",
      "Max generator loss : 71.17262268066406\n",
      "Min generator loss : 3.551217794418335\n",
      "Generator loss decrease : 0.35402870178222656(0.9796865582466125)\n",
      "Current lowest generator loss : 17.428316116333008\n",
      "Current Learning_rate : 0.00021\n",
      "Elapsed_time : 5:03:30.554530\n",
      "}\n"
     ]
    },
    {
     "name": "stdout",
     "output_type": "stream",
     "text": [
      "valid_loss : 0.18344420194625854 / 0.18820500373840332\n",
      "discriminator_loss : 0.01987810619175434\n",
      "generator_discriminator_loss : 0.0199299156665802\n",
      "train_f1_loss : 0.15612812340259552\n",
      "valid_f1_score : 0.5958280563354492\n",
      "current/min total_f1_loss = 0.16552682220935822 / 0.16414734348654747\n"
     ]
    },
    {
     "name": "stderr",
     "output_type": "stream",
     "text": [
      "\r",
      "N/A% (0 of 6200) |                       | Elapsed Time: 0:00:00 ETA:  --:--:--"
     ]
    },
    {
     "name": "stdout",
     "output_type": "stream",
     "text": [
      "save weights\n"
     ]
    },
    {
     "name": "stderr",
     "output_type": "stream",
     "text": [
      " 99% (6196 of 6200) |################### | Elapsed Time: 0:20:00 ETA:   0:00:00{\n",
      "2021-05-30 13:31:40,901 - train - INFO - \n",
      "Epoch : 21/100 (10.0)\n",
      "Discriminator_acces : 0.0\n",
      "Mean generator loss : 16.829526901245117\n",
      "Max generator loss : 71.89297485351562\n",
      "Min generator loss : 3.6759376525878906\n",
      "Generator loss decrease : 0.24476051330566406(0.985664963722229)\n",
      "Current lowest generator loss : 17.07428741455078\n",
      "Current Learning_rate : 0.00022000000000000003\n",
      "Elapsed_time : 5:23:44.983181\n",
      "}\n"
     ]
    },
    {
     "name": "stdout",
     "output_type": "stream",
     "text": [
      "valid_loss : 0.18820500373840332 / 0.18333272635936737\n",
      "discriminator_loss : 0.01994670182466507\n",
      "generator_discriminator_loss : 0.01995384693145752\n",
      "train_f1_loss : 0.1537042111158371\n",
      "valid_f1_score : 0.5221420526504517\n",
      "current/min total_f1_loss = 0.16414734348654747 / 0.16111133992671967\n"
     ]
    },
    {
     "name": "stderr",
     "output_type": "stream",
     "text": [
      "\r",
      "N/A% (0 of 6200) |                       | Elapsed Time: 0:00:00 ETA:  --:--:--"
     ]
    },
    {
     "name": "stdout",
     "output_type": "stream",
     "text": [
      "save weights\n"
     ]
    },
    {
     "name": "stderr",
     "output_type": "stream",
     "text": [
      " 99% (6196 of 6200) |################### | Elapsed Time: 0:18:41 ETA:   0:00:00{\n",
      "2021-05-30 13:50:36,751 - train - INFO - \n",
      "Epoch : 22/100 (10.5)\n",
      "Discriminator_acces : 0.0\n",
      "Mean generator loss : 16.68122673034668\n",
      "Max generator loss : 73.11136627197266\n",
      "Min generator loss : 3.3617897033691406\n",
      "Generator loss decrease : 0.1483001708984375(0.991188108921051)\n",
      "Current lowest generator loss : 16.829526901245117\n",
      "Current Learning_rate : 0.00022999999999999998\n",
      "Elapsed_time : 5:42:40.833352\n",
      "}\n",
      "N/A% (0 of 6200) |                       | Elapsed Time: 0:00:00 ETA:  --:--:--"
     ]
    },
    {
     "name": "stdout",
     "output_type": "stream",
     "text": [
      "valid_loss : 0.18333272635936737 / 0.19257581233978271\n",
      "discriminator_loss : 0.01999535784125328\n",
      "generator_discriminator_loss : 0.020003018900752068\n",
      "train_f1_loss : 0.15228082239627838\n",
      "valid_f1_score : 0.5703383088111877\n",
      "current/min total_f1_loss = 0.16111133992671967 / 0.16235456988215446\n"
     ]
    },
    {
     "name": "stderr",
     "output_type": "stream",
     "text": [
      " 99% (6196 of 6200) |################### | Elapsed Time: 0:15:38 ETA:   0:00:00{\n",
      "2021-05-30 14:06:25,170 - train - INFO - \n",
      "Epoch : 23/100 (10.5)\n",
      "Discriminator_acces : 0.0\n",
      "Mean generator loss : 16.4963436126709\n",
      "Max generator loss : 68.48438262939453\n",
      "Min generator loss : 3.1855297088623047\n",
      "Generator loss decrease : 0.33318328857421875(0.9802024364471436)\n",
      "Current lowest generator loss : 16.829526901245117\n",
      "Current Learning_rate : 0.00022999999999999998\n",
      "Elapsed_time : 5:58:29.252555\n",
      "}\n",
      "N/A% (0 of 6200) |                       | Elapsed Time: 0:00:00 ETA:  --:--:--"
     ]
    },
    {
     "name": "stdout",
     "output_type": "stream",
     "text": [
      "valid_loss : 0.18333272635936737 / 0.19571486115455627\n",
      "discriminator_loss : 0.020028654485940933\n",
      "generator_discriminator_loss : 0.020022422075271606\n",
      "train_f1_loss : 0.15047264099121094\n",
      "valid_f1_score : 0.5532864332199097\n",
      "current/min total_f1_loss = 0.16111133992671967 / 0.16178319603204727\n"
     ]
    },
    {
     "name": "stderr",
     "output_type": "stream",
     "text": [
      " 99% (6196 of 6200) |################### | Elapsed Time: 0:13:56 ETA:   0:00:00{\n",
      "2021-05-30 14:20:31,958 - train - INFO - \n",
      "Epoch : 24/100 (10.5)\n",
      "Discriminator_acces : 0.0\n",
      "Mean generator loss : 16.424957275390625\n",
      "Max generator loss : 69.380859375\n",
      "Min generator loss : 3.0514745712280273\n",
      "Generator loss decrease : 0.4045696258544922(0.9759607315063477)\n",
      "Current lowest generator loss : 16.829526901245117\n",
      "Current Learning_rate : 0.00022999999999999998\n",
      "Elapsed_time : 6:12:36.040504\n",
      "}\n"
     ]
    },
    {
     "name": "stdout",
     "output_type": "stream",
     "text": [
      "valid_loss : 0.18333272635936737 / 0.1850264072418213\n",
      "discriminator_loss : 0.0200507715344429\n",
      "generator_discriminator_loss : 0.020054887980222702\n",
      "train_f1_loss : 0.14980103075504303\n",
      "valid_f1_score : 0.5240164399147034\n",
      "current/min total_f1_loss = 0.16111133992671967 / 0.1586073748767376\n"
     ]
    },
    {
     "name": "stderr",
     "output_type": "stream",
     "text": [
      "\r",
      "N/A% (0 of 6200) |                       | Elapsed Time: 0:00:00 ETA:  --:--:--"
     ]
    },
    {
     "name": "stdout",
     "output_type": "stream",
     "text": [
      "save weights\n"
     ]
    },
    {
     "name": "stderr",
     "output_type": "stream",
     "text": [
      " 11% (720 of 6200) |##                   | Elapsed Time: 0:01:38 ETA:   0:12:38"
     ]
    },
    {
     "ename": "KeyboardInterrupt",
     "evalue": "",
     "output_type": "error",
     "traceback": [
      "\u001b[1;31m---------------------------------------------------------------------------\u001b[0m",
      "\u001b[1;31mKeyboardInterrupt\u001b[0m                         Traceback (most recent call last)",
      "\u001b[1;32m<ipython-input-4-96be58a6b72f>\u001b[0m in \u001b[0;36m<module>\u001b[1;34m\u001b[0m\n\u001b[0;32m      1\u001b[0m \u001b[1;31m# gan.load_study_info()\u001b[0m\u001b[1;33m\u001b[0m\u001b[1;33m\u001b[0m\u001b[1;33m\u001b[0m\u001b[0m\n\u001b[0;32m      2\u001b[0m \u001b[1;31m# gan.start_epoch = 0\u001b[0m\u001b[1;33m\u001b[0m\u001b[1;33m\u001b[0m\u001b[1;33m\u001b[0m\u001b[0m\n\u001b[1;32m----> 3\u001b[1;33m \u001b[0mgan\u001b[0m\u001b[1;33m.\u001b[0m\u001b[0mtrain\u001b[0m\u001b[1;33m(\u001b[0m\u001b[0mepochs\u001b[0m\u001b[1;33m=\u001b[0m\u001b[1;36m100\u001b[0m\u001b[1;33m,\u001b[0m \u001b[0mbatch_size\u001b[0m\u001b[1;33m=\u001b[0m\u001b[0mbatch_size\u001b[0m\u001b[1;33m,\u001b[0m \u001b[0mepoch_shuffle_term\u001b[0m\u001b[1;33m=\u001b[0m\u001b[1;36m10\u001b[0m\u001b[1;33m)\u001b[0m\u001b[1;33m\u001b[0m\u001b[1;33m\u001b[0m\u001b[0m\n\u001b[0m",
      "\u001b[1;32m<ipython-input-1-4a868c55b07d>\u001b[0m in \u001b[0;36mtrain\u001b[1;34m(self, epochs, batch_size, epoch_shuffle_term)\u001b[0m\n\u001b[0;32m    332\u001b[0m                 \u001b[0mself\u001b[0m\u001b[1;33m.\u001b[0m\u001b[0mdiscriminator\u001b[0m\u001b[1;33m.\u001b[0m\u001b[0mtrainable\u001b[0m \u001b[1;33m=\u001b[0m \u001b[1;32mTrue\u001b[0m\u001b[1;33m\u001b[0m\u001b[1;33m\u001b[0m\u001b[0m\n\u001b[0;32m    333\u001b[0m                 \u001b[1;32mif\u001b[0m \u001b[1;33m(\u001b[0m\u001b[0mbatch_discriminator_acc_previous\u001b[0m \u001b[1;33m<=\u001b[0m \u001b[1;36m0.5\u001b[0m \u001b[1;32mor\u001b[0m \u001b[0mepoch\u001b[0m \u001b[1;33m==\u001b[0m \u001b[1;36m0\u001b[0m\u001b[1;33m)\u001b[0m \u001b[1;32mand\u001b[0m \u001b[0mdiscriminator_learning\u001b[0m\u001b[1;33m:\u001b[0m\u001b[1;33m\u001b[0m\u001b[1;33m\u001b[0m\u001b[0m\n\u001b[1;32m--> 334\u001b[1;33m                     discriminator_loss += self.discriminator.train_on_batch(\n\u001b[0m\u001b[0;32m    335\u001b[0m                         [original_img,model_masked_img], fake_patch)\n\u001b[0;32m    336\u001b[0m                 \u001b[1;32melse\u001b[0m\u001b[1;33m:\u001b[0m\u001b[1;33m\u001b[0m\u001b[1;33m\u001b[0m\u001b[0m\n",
      "\u001b[1;32m~\\anaconda3\\lib\\site-packages\\tensorflow\\python\\keras\\engine\\training.py\u001b[0m in \u001b[0;36mtrain_on_batch\u001b[1;34m(self, x, y, sample_weight, class_weight, reset_metrics, return_dict)\u001b[0m\n\u001b[0;32m   1696\u001b[0m \u001b[1;33m\u001b[0m\u001b[0m\n\u001b[0;32m   1697\u001b[0m     \u001b[1;32mif\u001b[0m \u001b[0mreset_metrics\u001b[0m\u001b[1;33m:\u001b[0m\u001b[1;33m\u001b[0m\u001b[1;33m\u001b[0m\u001b[0m\n\u001b[1;32m-> 1698\u001b[1;33m       \u001b[0mself\u001b[0m\u001b[1;33m.\u001b[0m\u001b[0mreset_metrics\u001b[0m\u001b[1;33m(\u001b[0m\u001b[1;33m)\u001b[0m\u001b[1;33m\u001b[0m\u001b[1;33m\u001b[0m\u001b[0m\n\u001b[0m\u001b[0;32m   1699\u001b[0m     \u001b[0mlogs\u001b[0m \u001b[1;33m=\u001b[0m \u001b[0mtf_utils\u001b[0m\u001b[1;33m.\u001b[0m\u001b[0mto_numpy_or_python_type\u001b[0m\u001b[1;33m(\u001b[0m\u001b[0mlogs\u001b[0m\u001b[1;33m)\u001b[0m\u001b[1;33m\u001b[0m\u001b[1;33m\u001b[0m\u001b[0m\n\u001b[0;32m   1700\u001b[0m     \u001b[1;32mif\u001b[0m \u001b[0mreturn_dict\u001b[0m\u001b[1;33m:\u001b[0m\u001b[1;33m\u001b[0m\u001b[1;33m\u001b[0m\u001b[0m\n",
      "\u001b[1;32m~\\anaconda3\\lib\\site-packages\\tensorflow\\python\\keras\\engine\\training.py\u001b[0m in \u001b[0;36mreset_metrics\u001b[1;34m(self)\u001b[0m\n\u001b[0;32m   1635\u001b[0m     \"\"\"\n\u001b[0;32m   1636\u001b[0m     \u001b[1;32mfor\u001b[0m \u001b[0mm\u001b[0m \u001b[1;32min\u001b[0m \u001b[0mself\u001b[0m\u001b[1;33m.\u001b[0m\u001b[0mmetrics\u001b[0m\u001b[1;33m:\u001b[0m\u001b[1;33m\u001b[0m\u001b[1;33m\u001b[0m\u001b[0m\n\u001b[1;32m-> 1637\u001b[1;33m       \u001b[0mm\u001b[0m\u001b[1;33m.\u001b[0m\u001b[0mreset_states\u001b[0m\u001b[1;33m(\u001b[0m\u001b[1;33m)\u001b[0m\u001b[1;33m\u001b[0m\u001b[1;33m\u001b[0m\u001b[0m\n\u001b[0m\u001b[0;32m   1638\u001b[0m \u001b[1;33m\u001b[0m\u001b[0m\n\u001b[0;32m   1639\u001b[0m   def train_on_batch(self,\n",
      "\u001b[1;32m~\\anaconda3\\lib\\site-packages\\tensorflow\\python\\keras\\metrics.py\u001b[0m in \u001b[0;36mreset_states\u001b[1;34m(self)\u001b[0m\n\u001b[0;32m    245\u001b[0m     \u001b[0mwhen\u001b[0m \u001b[0ma\u001b[0m \u001b[0mmetric\u001b[0m \u001b[1;32mis\u001b[0m \u001b[0mevaluated\u001b[0m \u001b[0mduring\u001b[0m \u001b[0mtraining\u001b[0m\u001b[1;33m.\u001b[0m\u001b[1;33m\u001b[0m\u001b[1;33m\u001b[0m\u001b[0m\n\u001b[0;32m    246\u001b[0m     \"\"\"\n\u001b[1;32m--> 247\u001b[1;33m     \u001b[0mK\u001b[0m\u001b[1;33m.\u001b[0m\u001b[0mbatch_set_value\u001b[0m\u001b[1;33m(\u001b[0m\u001b[1;33m[\u001b[0m\u001b[1;33m(\u001b[0m\u001b[0mv\u001b[0m\u001b[1;33m,\u001b[0m \u001b[1;36m0\u001b[0m\u001b[1;33m)\u001b[0m \u001b[1;32mfor\u001b[0m \u001b[0mv\u001b[0m \u001b[1;32min\u001b[0m \u001b[0mself\u001b[0m\u001b[1;33m.\u001b[0m\u001b[0mvariables\u001b[0m\u001b[1;33m]\u001b[0m\u001b[1;33m)\u001b[0m\u001b[1;33m\u001b[0m\u001b[1;33m\u001b[0m\u001b[0m\n\u001b[0m\u001b[0;32m    248\u001b[0m \u001b[1;33m\u001b[0m\u001b[0m\n\u001b[0;32m    249\u001b[0m   \u001b[1;33m@\u001b[0m\u001b[0mabc\u001b[0m\u001b[1;33m.\u001b[0m\u001b[0mabstractmethod\u001b[0m\u001b[1;33m\u001b[0m\u001b[1;33m\u001b[0m\u001b[0m\n",
      "\u001b[1;32m~\\anaconda3\\lib\\site-packages\\tensorflow\\python\\util\\dispatch.py\u001b[0m in \u001b[0;36mwrapper\u001b[1;34m(*args, **kwargs)\u001b[0m\n\u001b[0;32m    199\u001b[0m     \u001b[1;34m\"\"\"Call target, and fall back on dispatchers if there is a TypeError.\"\"\"\u001b[0m\u001b[1;33m\u001b[0m\u001b[1;33m\u001b[0m\u001b[0m\n\u001b[0;32m    200\u001b[0m     \u001b[1;32mtry\u001b[0m\u001b[1;33m:\u001b[0m\u001b[1;33m\u001b[0m\u001b[1;33m\u001b[0m\u001b[0m\n\u001b[1;32m--> 201\u001b[1;33m       \u001b[1;32mreturn\u001b[0m \u001b[0mtarget\u001b[0m\u001b[1;33m(\u001b[0m\u001b[1;33m*\u001b[0m\u001b[0margs\u001b[0m\u001b[1;33m,\u001b[0m \u001b[1;33m**\u001b[0m\u001b[0mkwargs\u001b[0m\u001b[1;33m)\u001b[0m\u001b[1;33m\u001b[0m\u001b[1;33m\u001b[0m\u001b[0m\n\u001b[0m\u001b[0;32m    202\u001b[0m     \u001b[1;32mexcept\u001b[0m \u001b[1;33m(\u001b[0m\u001b[0mTypeError\u001b[0m\u001b[1;33m,\u001b[0m \u001b[0mValueError\u001b[0m\u001b[1;33m)\u001b[0m\u001b[1;33m:\u001b[0m\u001b[1;33m\u001b[0m\u001b[1;33m\u001b[0m\u001b[0m\n\u001b[0;32m    203\u001b[0m       \u001b[1;31m# Note: convert_to_eager_tensor currently raises a ValueError, not a\u001b[0m\u001b[1;33m\u001b[0m\u001b[1;33m\u001b[0m\u001b[1;33m\u001b[0m\u001b[0m\n",
      "\u001b[1;32m~\\anaconda3\\lib\\site-packages\\tensorflow\\python\\keras\\backend.py\u001b[0m in \u001b[0;36mbatch_set_value\u001b[1;34m(tuples)\u001b[0m\n\u001b[0;32m   3574\u001b[0m   \u001b[1;32mif\u001b[0m \u001b[0mops\u001b[0m\u001b[1;33m.\u001b[0m\u001b[0mexecuting_eagerly_outside_functions\u001b[0m\u001b[1;33m(\u001b[0m\u001b[1;33m)\u001b[0m\u001b[1;33m:\u001b[0m\u001b[1;33m\u001b[0m\u001b[1;33m\u001b[0m\u001b[0m\n\u001b[0;32m   3575\u001b[0m     \u001b[1;32mfor\u001b[0m \u001b[0mx\u001b[0m\u001b[1;33m,\u001b[0m \u001b[0mvalue\u001b[0m \u001b[1;32min\u001b[0m \u001b[0mtuples\u001b[0m\u001b[1;33m:\u001b[0m\u001b[1;33m\u001b[0m\u001b[1;33m\u001b[0m\u001b[0m\n\u001b[1;32m-> 3576\u001b[1;33m       \u001b[0mx\u001b[0m\u001b[1;33m.\u001b[0m\u001b[0massign\u001b[0m\u001b[1;33m(\u001b[0m\u001b[0mnp\u001b[0m\u001b[1;33m.\u001b[0m\u001b[0masarray\u001b[0m\u001b[1;33m(\u001b[0m\u001b[0mvalue\u001b[0m\u001b[1;33m,\u001b[0m \u001b[0mdtype\u001b[0m\u001b[1;33m=\u001b[0m\u001b[0mdtype\u001b[0m\u001b[1;33m(\u001b[0m\u001b[0mx\u001b[0m\u001b[1;33m)\u001b[0m\u001b[1;33m)\u001b[0m\u001b[1;33m)\u001b[0m\u001b[1;33m\u001b[0m\u001b[1;33m\u001b[0m\u001b[0m\n\u001b[0m\u001b[0;32m   3577\u001b[0m   \u001b[1;32melse\u001b[0m\u001b[1;33m:\u001b[0m\u001b[1;33m\u001b[0m\u001b[1;33m\u001b[0m\u001b[0m\n\u001b[0;32m   3578\u001b[0m     \u001b[1;32mwith\u001b[0m \u001b[0mget_graph\u001b[0m\u001b[1;33m(\u001b[0m\u001b[1;33m)\u001b[0m\u001b[1;33m.\u001b[0m\u001b[0mas_default\u001b[0m\u001b[1;33m(\u001b[0m\u001b[1;33m)\u001b[0m\u001b[1;33m:\u001b[0m\u001b[1;33m\u001b[0m\u001b[1;33m\u001b[0m\u001b[0m\n",
      "\u001b[1;32m~\\anaconda3\\lib\\site-packages\\tensorflow\\python\\ops\\resource_variable_ops.py\u001b[0m in \u001b[0;36massign\u001b[1;34m(self, value, use_locking, name, read_value)\u001b[0m\n\u001b[0;32m    857\u001b[0m       \u001b[0mvalue_tensor\u001b[0m \u001b[1;33m=\u001b[0m \u001b[0mops\u001b[0m\u001b[1;33m.\u001b[0m\u001b[0mconvert_to_tensor\u001b[0m\u001b[1;33m(\u001b[0m\u001b[0mvalue\u001b[0m\u001b[1;33m,\u001b[0m \u001b[0mdtype\u001b[0m\u001b[1;33m=\u001b[0m\u001b[0mself\u001b[0m\u001b[1;33m.\u001b[0m\u001b[0mdtype\u001b[0m\u001b[1;33m)\u001b[0m\u001b[1;33m\u001b[0m\u001b[1;33m\u001b[0m\u001b[0m\n\u001b[0;32m    858\u001b[0m       \u001b[0mself\u001b[0m\u001b[1;33m.\u001b[0m\u001b[0m_shape\u001b[0m\u001b[1;33m.\u001b[0m\u001b[0massert_is_compatible_with\u001b[0m\u001b[1;33m(\u001b[0m\u001b[0mvalue_tensor\u001b[0m\u001b[1;33m.\u001b[0m\u001b[0mshape\u001b[0m\u001b[1;33m)\u001b[0m\u001b[1;33m\u001b[0m\u001b[1;33m\u001b[0m\u001b[0m\n\u001b[1;32m--> 859\u001b[1;33m       assign_op = gen_resource_variable_ops.assign_variable_op(\n\u001b[0m\u001b[0;32m    860\u001b[0m           self.handle, value_tensor, name=name)\n\u001b[0;32m    861\u001b[0m       \u001b[1;32mif\u001b[0m \u001b[0mread_value\u001b[0m\u001b[1;33m:\u001b[0m\u001b[1;33m\u001b[0m\u001b[1;33m\u001b[0m\u001b[0m\n",
      "\u001b[1;32m~\\anaconda3\\lib\\site-packages\\tensorflow\\python\\ops\\gen_resource_variable_ops.py\u001b[0m in \u001b[0;36massign_variable_op\u001b[1;34m(resource, value, name)\u001b[0m\n\u001b[0;32m    140\u001b[0m   \u001b[1;32mif\u001b[0m \u001b[0mtld\u001b[0m\u001b[1;33m.\u001b[0m\u001b[0mis_eager\u001b[0m\u001b[1;33m:\u001b[0m\u001b[1;33m\u001b[0m\u001b[1;33m\u001b[0m\u001b[0m\n\u001b[0;32m    141\u001b[0m     \u001b[1;32mtry\u001b[0m\u001b[1;33m:\u001b[0m\u001b[1;33m\u001b[0m\u001b[1;33m\u001b[0m\u001b[0m\n\u001b[1;32m--> 142\u001b[1;33m       _result = pywrap_tfe.TFE_Py_FastPathExecute(\n\u001b[0m\u001b[0;32m    143\u001b[0m         \u001b[0m_ctx\u001b[0m\u001b[1;33m.\u001b[0m\u001b[0m_context_handle\u001b[0m\u001b[1;33m,\u001b[0m \u001b[0mtld\u001b[0m\u001b[1;33m.\u001b[0m\u001b[0mdevice_name\u001b[0m\u001b[1;33m,\u001b[0m \u001b[1;34m\"AssignVariableOp\"\u001b[0m\u001b[1;33m,\u001b[0m \u001b[0mname\u001b[0m\u001b[1;33m,\u001b[0m\u001b[1;33m\u001b[0m\u001b[1;33m\u001b[0m\u001b[0m\n\u001b[0;32m    144\u001b[0m         tld.op_callbacks, resource, value)\n",
      "\u001b[1;31mKeyboardInterrupt\u001b[0m: "
     ]
    }
   ],
   "source": [
    "# gan.load_study_info()\n",
    "# gan.start_epoch = 0\n",
    "gan.train(epochs=100, batch_size=batch_size, epoch_shuffle_term=10)"
   ]
  },
  {
   "cell_type": "code",
   "execution_count": 3,
   "metadata": {
    "scrolled": true
   },
   "outputs": [
    {
     "name": "stderr",
     "output_type": "stream",
     "text": [
      " 99% (6196 of 6200) |################### | Elapsed Time: 0:19:24 ETA:   0:00:00{\n",
      "2021-05-29 13:01:32,972 - train - INFO - \n",
      "Epoch : 0/40 (0)\n",
      "Discriminator_acces : 0.6410353137600806\n",
      "Mean generator loss : 75.12113952636719\n",
      "Max generator loss : 161.28274536132812\n",
      "Min generator loss : 53.76152420043945\n",
      "Generator loss decrease : 9924.878860473633(0.007512113952636719)\n",
      "Current lowest generator loss : 10000\n",
      "Current Learning_rate : 2e-05\n",
      "Elapsed_time : 0:19:39.518632\n",
      "}\n"
     ]
    },
    {
     "name": "stdout",
     "output_type": "stream",
     "text": [
      "valid_loss : 10000 / 0.582449197769165\n",
      "discriminator_loss : 4.612209320068359\n",
      "generator_discriminator_loss : 0.008341144770383835\n",
      "train_f1_loss : 0.615655779838562\n",
      "valid_f1_score : 0.3262079954147339\n",
      "current/min total_f1_loss = 2 / 0.6073541343212128\n"
     ]
    },
    {
     "name": "stderr",
     "output_type": "stream",
     "text": [
      "\r",
      "N/A% (0 of 6200) |                       | Elapsed Time: 0:00:00 ETA:  --:--:--"
     ]
    },
    {
     "name": "stdout",
     "output_type": "stream",
     "text": [
      "save weights\n"
     ]
    },
    {
     "name": "stderr",
     "output_type": "stream",
     "text": [
      " 99% (6196 of 6200) |################### | Elapsed Time: 0:15:52 ETA:   0:00:00{\n",
      "2021-05-29 13:17:38,892 - train - INFO - \n",
      "Epoch : 1/40 (0.5)\n",
      "Discriminator_acces : 0.7510049143145161\n",
      "Mean generator loss : 56.85160446166992\n",
      "Max generator loss : 141.6635284423828\n",
      "Min generator loss : 40.799049377441406\n",
      "Generator loss decrease : 18.269535064697266(0.756799042224884)\n",
      "Current lowest generator loss : 75.12113952636719\n",
      "Current Learning_rate : 3e-05\n",
      "Elapsed_time : 0:35:45.437878\n",
      "}\n"
     ]
    },
    {
     "name": "stdout",
     "output_type": "stream",
     "text": [
      "valid_loss : 0.582449197769165 / 0.46098795533180237\n",
      "discriminator_loss : 3.3703434467315674\n",
      "generator_discriminator_loss : 0.008167721331119537\n",
      "train_f1_loss : 0.4998791515827179\n",
      "valid_f1_score : 0.45751678943634033\n",
      "current/min total_f1_loss = 0.6073541343212128 / 0.490156352519989\n"
     ]
    },
    {
     "name": "stderr",
     "output_type": "stream",
     "text": [
      "\r",
      "N/A% (0 of 6200) |                       | Elapsed Time: 0:00:00 ETA:  --:--:--"
     ]
    },
    {
     "name": "stdout",
     "output_type": "stream",
     "text": [
      "save weights\n"
     ]
    },
    {
     "name": "stderr",
     "output_type": "stream",
     "text": [
      " 99% (6196 of 6200) |################### | Elapsed Time: 0:15:17 ETA:   0:00:00{\n",
      "2021-05-29 13:33:10,065 - train - INFO - \n",
      "Epoch : 2/40 (1.0)\n",
      "Discriminator_acces : 0.7772514490927419\n",
      "Mean generator loss : 44.918739318847656\n",
      "Max generator loss : 124.28195190429688\n",
      "Min generator loss : 30.98733139038086\n",
      "Generator loss decrease : 11.932865142822266(0.7901050448417664)\n",
      "Current lowest generator loss : 56.85160446166992\n",
      "Current Learning_rate : 4e-05\n",
      "Elapsed_time : 0:51:16.611214\n",
      "}\n"
     ]
    },
    {
     "name": "stdout",
     "output_type": "stream",
     "text": [
      "valid_loss : 0.46098795533180237 / 0.36955881118774414\n",
      "discriminator_loss : 3.000308036804199\n",
      "generator_discriminator_loss : 0.007805215194821358\n",
      "train_f1_loss : 0.39380866289138794\n",
      "valid_f1_score : 0.5725600123405457\n",
      "current/min total_f1_loss = 0.490156352519989 / 0.387746199965477\n"
     ]
    },
    {
     "name": "stderr",
     "output_type": "stream",
     "text": [
      "\r",
      "N/A% (0 of 6200) |                       | Elapsed Time: 0:00:00 ETA:  --:--:--"
     ]
    },
    {
     "name": "stdout",
     "output_type": "stream",
     "text": [
      "save weights\n"
     ]
    },
    {
     "name": "stderr",
     "output_type": "stream",
     "text": [
      " 99% (6196 of 6200) |################### | Elapsed Time: 0:15:11 ETA:   0:00:00{\n",
      "2021-05-29 13:48:35,513 - train - INFO - \n",
      "Epoch : 3/40 (1.5)\n",
      "Discriminator_acces : 0.7668912235383064\n",
      "Mean generator loss : 37.9045295715332\n",
      "Max generator loss : 107.89012908935547\n",
      "Min generator loss : 25.324905395507812\n",
      "Generator loss decrease : 7.014209747314453(0.8438466787338257)\n",
      "Current lowest generator loss : 44.918739318847656\n",
      "Current Learning_rate : 5e-05\n",
      "Elapsed_time : 1:06:42.059658\n",
      "}\n"
     ]
    },
    {
     "name": "stdout",
     "output_type": "stream",
     "text": [
      "valid_loss : 0.36955881118774414 / 0.3685039281845093\n",
      "discriminator_loss : 2.7567553520202637\n",
      "generator_discriminator_loss : 0.007553943432867527\n",
      "train_f1_loss : 0.3293472230434418\n",
      "valid_f1_score : 0.5472548007965088\n",
      "current/min total_f1_loss = 0.387746199965477 / 0.33913639932870865\n"
     ]
    },
    {
     "name": "stderr",
     "output_type": "stream",
     "text": [
      "\r",
      "N/A% (0 of 6200) |                       | Elapsed Time: 0:00:00 ETA:  --:--:--"
     ]
    },
    {
     "name": "stdout",
     "output_type": "stream",
     "text": [
      "save weights\n"
     ]
    },
    {
     "name": "stderr",
     "output_type": "stream",
     "text": [
      " 99% (6196 of 6200) |################### | Elapsed Time: 0:15:15 ETA:   0:00:00{\n",
      "2021-05-29 14:04:04,376 - train - INFO - \n",
      "Epoch : 4/40 (2.0)\n",
      "Discriminator_acces : 0.7780413621471775\n",
      "Mean generator loss : 33.58489227294922\n",
      "Max generator loss : 104.65751647949219\n",
      "Min generator loss : 21.10161590576172\n",
      "Generator loss decrease : 4.319637298583984(0.8860390186309814)\n",
      "Current lowest generator loss : 37.9045295715332\n",
      "Current Learning_rate : 6e-05\n",
      "Elapsed_time : 1:22:10.921914\n",
      "}\n"
     ]
    },
    {
     "name": "stdout",
     "output_type": "stream",
     "text": [
      "valid_loss : 0.3685039281845093 / 0.29644379019737244\n",
      "discriminator_loss : 2.4958295822143555\n",
      "generator_discriminator_loss : 0.006927706301212311\n",
      "train_f1_loss : 0.2904905676841736\n",
      "valid_f1_score : 0.5845970511436462\n",
      "current/min total_f1_loss = 0.33913639932870865 / 0.2919788733124733\n"
     ]
    },
    {
     "name": "stderr",
     "output_type": "stream",
     "text": [
      "\r",
      "N/A% (0 of 6200) |                       | Elapsed Time: 0:00:00 ETA:  --:--:--"
     ]
    },
    {
     "name": "stdout",
     "output_type": "stream",
     "text": [
      "save weights\n"
     ]
    },
    {
     "name": "stderr",
     "output_type": "stream",
     "text": [
      " 99% (6196 of 6200) |################### | Elapsed Time: 0:15:10 ETA:   0:00:00{\n",
      "2021-05-29 14:19:29,134 - train - INFO - \n",
      "Epoch : 5/40 (2.5)\n",
      "Discriminator_acces : 0.7917009513608871\n",
      "Mean generator loss : 30.299055099487305\n",
      "Max generator loss : 97.58750915527344\n",
      "Min generator loss : 18.029762268066406\n",
      "Generator loss decrease : 3.285837173461914(0.9021632075309753)\n",
      "Current lowest generator loss : 33.58489227294922\n",
      "Current Learning_rate : 7e-05\n",
      "Elapsed_time : 1:37:35.679836\n",
      "}\n"
     ]
    },
    {
     "name": "stdout",
     "output_type": "stream",
     "text": [
      "valid_loss : 0.29644379019737244 / 0.32607829570770264\n",
      "discriminator_loss : 2.214848041534424\n",
      "generator_discriminator_loss : 0.0066779726184904575\n",
      "train_f1_loss : 0.2617022395133972\n",
      "valid_f1_score : 0.5608726739883423\n",
      "current/min total_f1_loss = 0.2919788733124733 / 0.27779625356197357\n"
     ]
    },
    {
     "name": "stderr",
     "output_type": "stream",
     "text": [
      "\r",
      "N/A% (0 of 6200) |                       | Elapsed Time: 0:00:00 ETA:  --:--:--"
     ]
    },
    {
     "name": "stdout",
     "output_type": "stream",
     "text": [
      "save weights\n"
     ]
    },
    {
     "name": "stderr",
     "output_type": "stream",
     "text": [
      " 99% (6196 of 6200) |################### | Elapsed Time: 0:15:13 ETA:   0:00:00{\n",
      "2021-05-29 14:34:56,323 - train - INFO - \n",
      "Epoch : 6/40 (3.0)\n",
      "Discriminator_acces : 0.8097128591229839\n",
      "Mean generator loss : 27.769969940185547\n",
      "Max generator loss : 98.14531707763672\n",
      "Min generator loss : 15.568636894226074\n",
      "Generator loss decrease : 2.529085159301758(0.9165292382240295)\n",
      "Current lowest generator loss : 30.299055099487305\n",
      "Current Learning_rate : 8e-05\n",
      "Elapsed_time : 1:53:02.869562\n",
      "}\n"
     ]
    },
    {
     "name": "stdout",
     "output_type": "stream",
     "text": [
      "valid_loss : 0.32607829570770264 / 0.3206576406955719\n",
      "discriminator_loss : 1.9651408195495605\n",
      "generator_discriminator_loss : 0.006559890694916248\n",
      "train_f1_loss : 0.23982316255569458\n",
      "valid_f1_score : 0.5621572732925415\n",
      "current/min total_f1_loss = 0.27779625356197357 / 0.2600317820906639\n"
     ]
    },
    {
     "name": "stderr",
     "output_type": "stream",
     "text": [
      "\r",
      "N/A% (0 of 6200) |                       | Elapsed Time: 0:00:00 ETA:  --:--:--"
     ]
    },
    {
     "name": "stdout",
     "output_type": "stream",
     "text": [
      "save weights\n"
     ]
    },
    {
     "name": "stderr",
     "output_type": "stream",
     "text": [
      " 99% (6196 of 6200) |################### | Elapsed Time: 0:15:06 ETA:   0:00:00{\n",
      "2021-05-29 14:50:16,736 - train - INFO - \n",
      "Epoch : 7/40 (3.5)\n",
      "Discriminator_acces : 0.8192989226310484\n",
      "Mean generator loss : 25.55323600769043\n",
      "Max generator loss : 88.95722198486328\n",
      "Min generator loss : 13.271829605102539\n",
      "Generator loss decrease : 2.216733932495117(0.9201751351356506)\n",
      "Current lowest generator loss : 27.769969940185547\n",
      "Current Learning_rate : 9e-05\n",
      "Elapsed_time : 2:08:23.282057\n",
      "}\n"
     ]
    },
    {
     "name": "stdout",
     "output_type": "stream",
     "text": [
      "valid_loss : 0.3206576406955719 / 0.2709375023841858\n",
      "discriminator_loss : 1.7282140254974365\n",
      "generator_discriminator_loss : 0.006630659103393555\n",
      "train_f1_loss : 0.22088311612606049\n",
      "valid_f1_score : 0.5827680230140686\n",
      "current/min total_f1_loss = 0.2600317820906639 / 0.2333967126905918\n"
     ]
    },
    {
     "name": "stderr",
     "output_type": "stream",
     "text": [
      "\r",
      "N/A% (0 of 6200) |                       | Elapsed Time: 0:00:00 ETA:  --:--:--"
     ]
    },
    {
     "name": "stdout",
     "output_type": "stream",
     "text": [
      "save weights\n"
     ]
    },
    {
     "name": "stderr",
     "output_type": "stream",
     "text": [
      " 99% (6196 of 6200) |################### | Elapsed Time: 0:15:08 ETA:   0:00:00{\n",
      "2021-05-29 15:05:39,053 - train - INFO - \n",
      "Epoch : 8/40 (4.0)\n",
      "Discriminator_acces : 0.8217874243951613\n",
      "Mean generator loss : 23.7509822845459\n",
      "Max generator loss : 91.24980926513672\n",
      "Min generator loss : 11.785401344299316\n",
      "Generator loss decrease : 1.8022537231445312(0.9294705986976624)\n",
      "Current lowest generator loss : 25.55323600769043\n",
      "Current Learning_rate : 0.0001\n",
      "Elapsed_time : 2:23:45.599577\n",
      "}\n"
     ]
    },
    {
     "name": "stdout",
     "output_type": "stream",
     "text": [
      "valid_loss : 0.2709375023841858 / 0.26861345767974854\n",
      "discriminator_loss : 1.5369092226028442\n",
      "generator_discriminator_loss : 0.00685496162623167\n",
      "train_f1_loss : 0.20533880591392517\n",
      "valid_f1_score : 0.5905235409736633\n",
      "current/min total_f1_loss = 0.2333967126905918 / 0.221157468855381\n"
     ]
    },
    {
     "name": "stderr",
     "output_type": "stream",
     "text": [
      "\r",
      "N/A% (0 of 6200) |                       | Elapsed Time: 0:00:00 ETA:  --:--:--"
     ]
    },
    {
     "name": "stdout",
     "output_type": "stream",
     "text": [
      "save weights\n"
     ]
    },
    {
     "name": "stderr",
     "output_type": "stream",
     "text": [
      " 99% (6196 of 6200) |################### | Elapsed Time: 0:15:05 ETA:   0:00:00{\n",
      "2021-05-29 15:20:58,398 - train - INFO - \n",
      "Epoch : 9/40 (4.5)\n",
      "Discriminator_acces : 0.8312512600806452\n",
      "Mean generator loss : 22.37647247314453\n",
      "Max generator loss : 82.75993347167969\n",
      "Min generator loss : 10.269937515258789\n",
      "Generator loss decrease : 1.3745098114013672(0.9421283006668091)\n",
      "Current lowest generator loss : 23.7509822845459\n",
      "Current Learning_rate : 0.00011000000000000002\n",
      "Elapsed_time : 2:39:04.944202\n",
      "}\n"
     ]
    },
    {
     "name": "stdout",
     "output_type": "stream",
     "text": [
      "valid_loss : 0.26861345767974854 / 0.2296391874551773\n",
      "discriminator_loss : 1.3804746866226196\n",
      "generator_discriminator_loss : 0.006705695763230324\n",
      "train_f1_loss : 0.19349290430545807\n",
      "valid_f1_score : 0.5886890888214111\n",
      "current/min total_f1_loss = 0.221157468855381 / 0.20252947509288788\n"
     ]
    },
    {
     "name": "stderr",
     "output_type": "stream",
     "text": [
      "\r",
      "N/A% (0 of 6200) |                       | Elapsed Time: 0:00:00 ETA:  --:--:--"
     ]
    },
    {
     "name": "stdout",
     "output_type": "stream",
     "text": [
      "save weights\n"
     ]
    },
    {
     "name": "stderr",
     "output_type": "stream",
     "text": [
      " 99% (6196 of 6200) |################### | Elapsed Time: 0:15:06 ETA:   0:00:00{\n",
      "2021-05-29 15:36:18,943 - train - INFO - \n",
      "Epoch : 10/40 (5.0)\n",
      "Discriminator_acces : 0.8535159400201613\n",
      "Mean generator loss : 21.17363739013672\n",
      "Max generator loss : 80.9613265991211\n",
      "Min generator loss : 9.07572078704834\n",
      "Generator loss decrease : 1.2028350830078125(0.946245551109314)\n",
      "Current lowest generator loss : 22.37647247314453\n",
      "Current Learning_rate : 0.00012\n",
      "Elapsed_time : 2:54:25.489014\n",
      "}\n"
     ]
    },
    {
     "name": "stdout",
     "output_type": "stream",
     "text": [
      "valid_loss : 0.2296391874551773 / 0.2390739470720291\n",
      "discriminator_loss : 1.2382581233978271\n",
      "generator_discriminator_loss : 0.007017459254711866\n",
      "train_f1_loss : 0.18323858082294464\n",
      "valid_f1_score : 0.5811522603034973\n",
      "current/min total_f1_loss = 0.20252947509288788 / 0.19719742238521576\n"
     ]
    },
    {
     "name": "stderr",
     "output_type": "stream",
     "text": [
      "\r",
      "N/A% (0 of 6200) |                       | Elapsed Time: 0:00:00 ETA:  --:--:--"
     ]
    },
    {
     "name": "stdout",
     "output_type": "stream",
     "text": [
      "save weights\n"
     ]
    },
    {
     "name": "stderr",
     "output_type": "stream",
     "text": [
      " 99% (6196 of 6200) |################### | Elapsed Time: 0:15:06 ETA:   0:00:00{\n",
      "2021-05-29 15:51:39,319 - train - INFO - \n",
      "Epoch : 11/40 (5.5)\n",
      "Discriminator_acces : 0.8668266444052419\n",
      "Mean generator loss : 20.24139404296875\n",
      "Max generator loss : 79.49844360351562\n",
      "Min generator loss : 8.055622100830078\n",
      "Generator loss decrease : 0.9322433471679688(0.9559714794158936)\n",
      "Current lowest generator loss : 21.17363739013672\n",
      "Current Learning_rate : 0.00013000000000000002\n",
      "Elapsed_time : 3:09:45.864800\n",
      "}\n"
     ]
    },
    {
     "name": "stdout",
     "output_type": "stream",
     "text": [
      "valid_loss : 0.2390739470720291 / 0.23727869987487793\n",
      "discriminator_loss : 1.1187458038330078\n",
      "generator_discriminator_loss : 0.00722165871411562\n",
      "train_f1_loss : 0.17538641393184662\n",
      "valid_f1_score : 0.5834386348724365\n",
      "current/min total_f1_loss = 0.19719742238521576 / 0.19085948541760445\n"
     ]
    },
    {
     "name": "stderr",
     "output_type": "stream",
     "text": [
      "\r",
      "N/A% (0 of 6200) |                       | Elapsed Time: 0:00:00 ETA:  --:--:--"
     ]
    },
    {
     "name": "stdout",
     "output_type": "stream",
     "text": [
      "save weights\n"
     ]
    },
    {
     "name": "stderr",
     "output_type": "stream",
     "text": [
      " 99% (6196 of 6200) |################### | Elapsed Time: 0:14:58 ETA:   0:00:00{\n",
      "2021-05-29 16:06:51,591 - train - INFO - \n",
      "Epoch : 12/40 (6.0)\n",
      "Discriminator_acces : 0.8697465662802419\n",
      "Mean generator loss : 19.24858283996582\n",
      "Max generator loss : 74.90547943115234\n",
      "Min generator loss : 7.157212257385254\n",
      "Generator loss decrease : 0.9928112030029297(0.9509514570236206)\n",
      "Current lowest generator loss : 20.24139404296875\n",
      "Current Learning_rate : 0.00014\n",
      "Elapsed_time : 3:24:58.137602\n",
      "}\n"
     ]
    },
    {
     "name": "stdout",
     "output_type": "stream",
     "text": [
      "valid_loss : 0.23727869987487793 / 0.21855854988098145\n",
      "discriminator_loss : 1.0324976444244385\n",
      "generator_discriminator_loss : 0.007625752594321966\n",
      "train_f1_loss : 0.16681250929832458\n",
      "valid_f1_score : 0.5978104472160339\n",
      "current/min total_f1_loss = 0.19085948541760445 / 0.1797490194439888\n"
     ]
    },
    {
     "name": "stderr",
     "output_type": "stream",
     "text": [
      "\r",
      "N/A% (0 of 6200) |                       | Elapsed Time: 0:00:00 ETA:  --:--:--"
     ]
    },
    {
     "name": "stdout",
     "output_type": "stream",
     "text": [
      "save weights\n"
     ]
    },
    {
     "name": "stderr",
     "output_type": "stream",
     "text": [
      " 99% (6196 of 6200) |################### | Elapsed Time: 0:15:01 ETA:   0:00:00{\n",
      "2021-05-29 16:22:07,229 - train - INFO - \n",
      "Epoch : 13/40 (6.5)\n",
      "Discriminator_acces : 0.8708767011088709\n",
      "Mean generator loss : 18.56026268005371\n",
      "Max generator loss : 75.20610046386719\n",
      "Min generator loss : 6.489262580871582\n",
      "Generator loss decrease : 0.6883201599121094(0.9642404913902283)\n",
      "Current lowest generator loss : 19.24858283996582\n",
      "Current Learning_rate : 0.00015000000000000001\n",
      "Elapsed_time : 3:40:13.775008\n",
      "}\n",
      "N/A% (0 of 6200) |                       | Elapsed Time: 0:00:00 ETA:  --:--:--"
     ]
    },
    {
     "name": "stdout",
     "output_type": "stream",
     "text": [
      "valid_loss : 0.21855854988098145 / 0.3021574020385742\n",
      "discriminator_loss : 0.9555366635322571\n",
      "generator_discriminator_loss : 0.007561085745692253\n",
      "train_f1_loss : 0.16075098514556885\n",
      "valid_f1_score : 0.553722083568573\n",
      "current/min total_f1_loss = 0.1797490194439888 / 0.1961025893688202\n"
     ]
    },
    {
     "name": "stderr",
     "output_type": "stream",
     "text": [
      " 99% (6196 of 6200) |################### | Elapsed Time: 0:15:05 ETA:   0:00:00{\n",
      "2021-05-29 16:37:26,036 - train - INFO - \n",
      "Epoch : 14/40 (6.5)\n",
      "Discriminator_acces : 0.8584376575100806\n",
      "Mean generator loss : 18.02458381652832\n",
      "Max generator loss : 71.35796356201172\n",
      "Min generator loss : 5.871260166168213\n",
      "Generator loss decrease : 1.2239990234375(0.9364109635353088)\n",
      "Current lowest generator loss : 19.24858283996582\n",
      "Current Learning_rate : 0.00015000000000000001\n",
      "Elapsed_time : 3:55:32.582669\n",
      "}\n",
      "N/A% (0 of 6200) |                       | Elapsed Time: 0:00:00 ETA:  --:--:--"
     ]
    },
    {
     "name": "stdout",
     "output_type": "stream",
     "text": [
      "valid_loss : 0.21855854988098145 / 0.27469679713249207\n",
      "discriminator_loss : 0.8824940919876099\n",
      "generator_discriminator_loss : 0.0071218376979231834\n",
      "train_f1_loss : 0.1565292626619339\n",
      "valid_f1_score : 0.5755788087844849\n",
      "current/min total_f1_loss = 0.1797490194439888 / 0.18607114627957344\n"
     ]
    },
    {
     "name": "stderr",
     "output_type": "stream",
     "text": [
      " 99% (6196 of 6200) |################### | Elapsed Time: 0:15:05 ETA:   0:00:00{\n",
      "2021-05-29 16:52:44,948 - train - INFO - \n",
      "Epoch : 15/40 (6.5)\n",
      "Discriminator_acces : 0.8823053175403226\n",
      "Mean generator loss : 17.4330997467041\n",
      "Max generator loss : 66.84339141845703\n",
      "Min generator loss : 5.264072418212891\n",
      "Generator loss decrease : 1.8154830932617188(0.9056822657585144)\n",
      "Current lowest generator loss : 19.24858283996582\n",
      "Current Learning_rate : 0.00015000000000000001\n",
      "Elapsed_time : 4:10:51.494326\n",
      "}\n"
     ]
    },
    {
     "name": "stdout",
     "output_type": "stream",
     "text": [
      "valid_loss : 0.21855854988098145 / 0.23669110238552094\n",
      "discriminator_loss : 0.8050466179847717\n",
      "generator_discriminator_loss : 0.0073075504042208195\n",
      "train_f1_loss : 0.15148790180683136\n",
      "valid_f1_score : 0.5670004487037659\n",
      "current/min total_f1_loss = 0.1797490194439888 / 0.17278870195150375\n"
     ]
    },
    {
     "name": "stderr",
     "output_type": "stream",
     "text": [
      "\r",
      "N/A% (0 of 6200) |                       | Elapsed Time: 0:00:00 ETA:  --:--:--"
     ]
    },
    {
     "name": "stdout",
     "output_type": "stream",
     "text": [
      "save weights\n"
     ]
    },
    {
     "name": "stderr",
     "output_type": "stream",
     "text": [
      " 99% (6196 of 6200) |################### | Elapsed Time: 0:14:56 ETA:   0:00:00{\n",
      "2021-05-29 17:07:55,367 - train - INFO - \n",
      "Epoch : 16/40 (7.0)\n",
      "Discriminator_acces : 0.8919594254032258\n",
      "Mean generator loss : 16.966026306152344\n",
      "Max generator loss : 71.14407348632812\n",
      "Min generator loss : 4.951034069061279\n",
      "Generator loss decrease : 0.4670734405517578(0.9732076525688171)\n",
      "Current lowest generator loss : 17.4330997467041\n",
      "Current Learning_rate : 0.00016\n",
      "Elapsed_time : 4:26:01.913230\n",
      "}\n"
     ]
    },
    {
     "name": "stdout",
     "output_type": "stream",
     "text": [
      "valid_loss : 0.23669110238552094 / 0.32873421907424927\n",
      "discriminator_loss : 0.7327459454536438\n",
      "generator_discriminator_loss : 0.007722851354628801\n",
      "train_f1_loss : 0.14783993363380432\n",
      "valid_f1_score : 0.5307908058166504\n",
      "current/min total_f1_loss = 0.17278870195150375 / 0.19306350499391556\n",
      "loss decrease.\n"
     ]
    },
    {
     "name": "stderr",
     "output_type": "stream",
     "text": [
      " 99% (6196 of 6200) |################### | Elapsed Time: 0:14:50 ETA:   0:00:00{\n",
      "2021-05-29 17:22:59,675 - train - INFO - \n",
      "Epoch : 17/40 (6.5)\n",
      "Discriminator_acces : 0.8828523500504032\n",
      "Mean generator loss : 17.122764587402344\n",
      "Max generator loss : 72.27651977539062\n",
      "Min generator loss : 4.859529972076416\n",
      "Generator loss decrease : 0.3103351593017578(0.9821985363960266)\n",
      "Current lowest generator loss : 17.4330997467041\n",
      "Current Learning_rate : 0.00015000000000000001\n",
      "Elapsed_time : 4:41:06.221679\n",
      "}\n",
      "N/A% (0 of 6200) |                       | Elapsed Time: 0:00:00 ETA:  --:--:--"
     ]
    },
    {
     "name": "stdout",
     "output_type": "stream",
     "text": [
      "valid_loss : 0.23669110238552094 / 0.2995609939098358\n",
      "discriminator_loss : 0.7378089427947998\n",
      "generator_discriminator_loss : 0.007363563869148493\n",
      "train_f1_loss : 0.14904209971427917\n",
      "valid_f1_score : 0.5617421269416809\n",
      "current/min total_f1_loss = 0.17278870195150375 / 0.18667182326316833\n"
     ]
    },
    {
     "name": "stderr",
     "output_type": "stream",
     "text": [
      " 99% (6196 of 6200) |################### | Elapsed Time: 0:14:57 ETA:   0:00:00{\n",
      "2021-05-29 17:38:10,465 - train - INFO - \n",
      "Epoch : 18/40 (6.5)\n",
      "Discriminator_acces : 0.8886347026209678\n",
      "Mean generator loss : 16.5178165435791\n",
      "Max generator loss : 72.75030517578125\n",
      "Min generator loss : 4.395505428314209\n",
      "Generator loss decrease : 0.915283203125(0.9474973678588867)\n",
      "Current lowest generator loss : 17.4330997467041\n",
      "Current Learning_rate : 0.00015000000000000001\n",
      "Elapsed_time : 4:56:17.011321\n",
      "}\n"
     ]
    },
    {
     "name": "stdout",
     "output_type": "stream",
     "text": [
      "valid_loss : 0.23669110238552094 / 0.4171048700809479\n",
      "discriminator_loss : 0.6946817636489868\n",
      "generator_discriminator_loss : 0.007403858937323093\n",
      "train_f1_loss : 0.14380155503749847\n",
      "valid_f1_score : 0.5178048610687256\n",
      "current/min total_f1_loss = 0.17278870195150375 / 0.21212738379836082\n",
      "loss decrease.\n"
     ]
    },
    {
     "name": "stderr",
     "output_type": "stream",
     "text": [
      " 99% (6196 of 6200) |################### | Elapsed Time: 0:14:52 ETA:   0:00:00{\n",
      "2021-05-29 17:53:17,118 - train - INFO - \n",
      "Epoch : 19/40 (6.0)\n",
      "Discriminator_acces : 0.8888065461189516\n",
      "Mean generator loss : 17.081787109375\n",
      "Max generator loss : 67.5780258178711\n",
      "Min generator loss : 4.724137783050537\n",
      "Generator loss decrease : 0.35131263732910156(0.9798479676246643)\n",
      "Current lowest generator loss : 17.4330997467041\n",
      "Current Learning_rate : 0.00014\n",
      "Elapsed_time : 5:11:23.664008\n",
      "}\n",
      "N/A% (0 of 6200) |                       | Elapsed Time: 0:00:00 ETA:  --:--:--"
     ]
    },
    {
     "name": "stdout",
     "output_type": "stream",
     "text": [
      "valid_loss : 0.23669110238552094 / 0.2925313413143158\n",
      "discriminator_loss : 0.7396259903907776\n",
      "generator_discriminator_loss : 0.007470372132956982\n",
      "train_f1_loss : 0.1487436145544052\n",
      "valid_f1_score : 0.5504929423332214\n",
      "current/min total_f1_loss = 0.17278870195150375 / 0.18469054624438286\n"
     ]
    },
    {
     "name": "stderr",
     "output_type": "stream",
     "text": [
      " 99% (6196 of 6200) |################### | Elapsed Time: 0:15:01 ETA:   0:00:00{\n",
      "2021-05-29 18:08:32,754 - train - INFO - \n",
      "Epoch : 20/40 (6.0)\n",
      "Discriminator_acces : 0.8731579196068548\n",
      "Mean generator loss : 16.48693084716797\n",
      "Max generator loss : 71.81937408447266\n",
      "Min generator loss : 4.360263824462891\n",
      "Generator loss decrease : 0.9461688995361328(0.9457257390022278)\n",
      "Current lowest generator loss : 17.4330997467041\n",
      "Current Learning_rate : 0.00014\n",
      "Elapsed_time : 5:26:39.300305\n",
      "}\n"
     ]
    },
    {
     "name": "stdout",
     "output_type": "stream",
     "text": [
      "valid_loss : 0.23669110238552094 / 0.2349698394536972\n",
      "discriminator_loss : 0.6992378234863281\n",
      "generator_discriminator_loss : 0.00722068827599287\n",
      "train_f1_loss : 0.14350101351737976\n",
      "valid_f1_score : 0.5851870775222778\n",
      "current/min total_f1_loss = 0.17278870195150375 / 0.16636822000145912\n"
     ]
    },
    {
     "name": "stderr",
     "output_type": "stream",
     "text": [
      "\r",
      "N/A% (0 of 6200) |                       | Elapsed Time: 0:00:00 ETA:  --:--:--"
     ]
    },
    {
     "name": "stdout",
     "output_type": "stream",
     "text": [
      "save weights\n"
     ]
    },
    {
     "name": "stderr",
     "output_type": "stream",
     "text": [
      " 99% (6196 of 6200) |################### | Elapsed Time: 0:14:59 ETA:   0:00:00{\n",
      "2021-05-29 18:23:46,778 - train - INFO - \n",
      "Epoch : 21/40 (6.5)\n",
      "Discriminator_acces : 0.884560546875\n",
      "Mean generator loss : 16.21015167236328\n",
      "Max generator loss : 69.88763427734375\n",
      "Min generator loss : 4.277617454528809\n",
      "Generator loss decrease : 0.2767791748046875(0.9832122325897217)\n",
      "Current lowest generator loss : 16.48693084716797\n",
      "Current Learning_rate : 0.00015000000000000001\n",
      "Elapsed_time : 5:41:53.324145\n",
      "}\n",
      "N/A% (0 of 6200) |                       | Elapsed Time: 0:00:00 ETA:  --:--:--"
     ]
    },
    {
     "name": "stdout",
     "output_type": "stream",
     "text": [
      "valid_loss : 0.2349698394536972 / 0.28210699558258057\n",
      "discriminator_loss : 0.6540576219558716\n",
      "generator_discriminator_loss : 0.007160056848078966\n",
      "train_f1_loss : 0.14133799076080322\n",
      "valid_f1_score : 0.5520400404930115\n",
      "current/min total_f1_loss = 0.16636822000145912 / 0.17653024196624756\n"
     ]
    },
    {
     "name": "stderr",
     "output_type": "stream",
     "text": [
      " 99% (6196 of 6200) |################### | Elapsed Time: 0:14:58 ETA:   0:00:00{\n",
      "2021-05-29 18:38:59,650 - train - INFO - \n",
      "Epoch : 22/40 (6.5)\n",
      "Discriminator_acces : 0.8620062058971775\n",
      "Mean generator loss : 16.104633331298828\n",
      "Max generator loss : 62.12968444824219\n",
      "Min generator loss : 3.9070041179656982\n",
      "Generator loss decrease : 0.3822975158691406(0.9768120646476746)\n",
      "Current lowest generator loss : 16.48693084716797\n",
      "Current Learning_rate : 0.00015000000000000001\n",
      "Elapsed_time : 5:57:06.196050\n",
      "}\n",
      "N/A% (0 of 6200) |                       | Elapsed Time: 0:00:00 ETA:  --:--:--"
     ]
    },
    {
     "name": "stdout",
     "output_type": "stream",
     "text": [
      "valid_loss : 0.2349698394536972 / 0.3099737763404846\n",
      "discriminator_loss : 0.6151727437973022\n",
      "generator_discriminator_loss : 0.0067274970933794975\n",
      "train_f1_loss : 0.14043684303760529\n",
      "valid_f1_score : 0.5443410277366638\n",
      "current/min total_f1_loss = 0.16636822000145912 / 0.18282107636332512\n"
     ]
    },
    {
     "name": "stderr",
     "output_type": "stream",
     "text": [
      " 99% (6196 of 6200) |################### | Elapsed Time: 0:15:02 ETA:   0:00:00{\n",
      "2021-05-29 18:54:15,628 - train - INFO - \n",
      "Epoch : 23/40 (6.5)\n",
      "Discriminator_acces : 0.8914385395665323\n",
      "Mean generator loss : 15.703939437866211\n",
      "Max generator loss : 72.11041259765625\n",
      "Min generator loss : 3.805856227874756\n",
      "Generator loss decrease : 0.7829914093017578(0.9525083303451538)\n",
      "Current lowest generator loss : 16.48693084716797\n",
      "Current Learning_rate : 0.00015000000000000001\n",
      "Elapsed_time : 6:12:22.174375\n",
      "}\n",
      "N/A% (0 of 6200) |                       | Elapsed Time: 0:00:00 ETA:  --:--:--"
     ]
    },
    {
     "name": "stdout",
     "output_type": "stream",
     "text": [
      "valid_loss : 0.2349698394536972 / 0.3042350113391876\n",
      "discriminator_loss : 0.5726659893989563\n",
      "generator_discriminator_loss : 0.007010261528193951\n",
      "train_f1_loss : 0.13715997338294983\n",
      "valid_f1_score : 0.5601610541343689\n",
      "current/min total_f1_loss = 0.16636822000145912 / 0.17892873287200928\n"
     ]
    },
    {
     "name": "stderr",
     "output_type": "stream",
     "text": [
      " 99% (6196 of 6200) |################### | Elapsed Time: 0:14:55 ETA:   0:00:00{\n",
      "2021-05-29 19:09:24,138 - train - INFO - \n",
      "Epoch : 24/40 (6.5)\n",
      "Discriminator_acces : 0.8984677419354838\n",
      "Mean generator loss : 15.538069725036621\n",
      "Max generator loss : 70.524658203125\n",
      "Min generator loss : 3.75862455368042\n",
      "Generator loss decrease : 0.9488611221313477(0.9424476623535156)\n",
      "Current lowest generator loss : 16.48693084716797\n",
      "Current Learning_rate : 0.00015000000000000001\n",
      "Elapsed_time : 6:27:30.684204\n",
      "}\n",
      "N/A% (0 of 6200) |                       | Elapsed Time: 0:00:00 ETA:  --:--:--"
     ]
    },
    {
     "name": "stdout",
     "output_type": "stream",
     "text": [
      "valid_loss : 0.2349698394536972 / 0.2986697554588318\n",
      "discriminator_loss : 0.5375213027000427\n",
      "generator_discriminator_loss : 0.007243413478136063\n",
      "train_f1_loss : 0.1361895352602005\n",
      "valid_f1_score : 0.5718519687652588\n",
      "current/min total_f1_loss = 0.16636822000145912 / 0.17680959030985832\n"
     ]
    },
    {
     "name": "stderr",
     "output_type": "stream",
     "text": [
      " 99% (6196 of 6200) |################### | Elapsed Time: 0:14:44 ETA:   0:00:00{\n",
      "2021-05-29 19:24:22,135 - train - INFO - \n",
      "Epoch : 25/40 (6.5)\n",
      "Discriminator_acces : 0.8957516381048387\n",
      "Mean generator loss : 15.260506629943848\n",
      "Max generator loss : 68.26526641845703\n",
      "Min generator loss : 3.3666625022888184\n",
      "Generator loss decrease : 1.226424217224121(0.9256123304367065)\n",
      "Current lowest generator loss : 16.48693084716797\n",
      "Current Learning_rate : 0.00015000000000000001\n",
      "Elapsed_time : 6:42:28.681410\n",
      "}\n",
      "N/A% (0 of 6200) |                       | Elapsed Time: 0:00:00 ETA:  --:--:--"
     ]
    },
    {
     "name": "stdout",
     "output_type": "stream",
     "text": [
      "valid_loss : 0.2349698394536972 / 0.3253363072872162\n",
      "discriminator_loss : 0.5160664319992065\n",
      "generator_discriminator_loss : 0.007042080629616976\n",
      "train_f1_loss : 0.13361409306526184\n",
      "valid_f1_score : 0.5375092029571533\n",
      "current/min total_f1_loss = 0.16636822000145912 / 0.18154464662075043\n"
     ]
    },
    {
     "name": "stderr",
     "output_type": "stream",
     "text": [
      " 99% (6196 of 6200) |################### | Elapsed Time: 0:14:47 ETA:   0:00:00{\n",
      "2021-05-29 19:39:22,272 - train - INFO - \n",
      "Epoch : 26/40 (6.5)\n",
      "Discriminator_acces : 0.8399573147681452\n",
      "Mean generator loss : 14.884180068969727\n",
      "Max generator loss : 69.09153747558594\n",
      "Min generator loss : 3.173842430114746\n",
      "Generator loss decrease : 1.6027507781982422(0.9027866125106812)\n",
      "Current lowest generator loss : 16.48693084716797\n",
      "Current Learning_rate : 0.00015000000000000001\n",
      "Elapsed_time : 6:57:28.818549\n",
      "}\n",
      "N/A% (0 of 6200) |                       | Elapsed Time: 0:00:00 ETA:  --:--:--"
     ]
    },
    {
     "name": "stdout",
     "output_type": "stream",
     "text": [
      "valid_loss : 0.2349698394536972 / 0.3139626681804657\n",
      "discriminator_loss : 0.49441662430763245\n",
      "generator_discriminator_loss : 0.006572091020643711\n",
      "train_f1_loss : 0.13032978773117065\n",
      "valid_f1_score : 0.5520753860473633\n",
      "current/min total_f1_loss = 0.16636822000145912 / 0.17623800784349442\n"
     ]
    },
    {
     "name": "stderr",
     "output_type": "stream",
     "text": [
      " 99% (6196 of 6200) |################### | Elapsed Time: 0:15:05 ETA:   0:00:00{\n",
      "2021-05-29 19:54:40,948 - train - INFO - \n",
      "Epoch : 27/40 (6.5)\n",
      "Discriminator_acces : 0.8901307333669355\n",
      "Mean generator loss : 14.623568534851074\n",
      "Max generator loss : 67.41596221923828\n",
      "Min generator loss : 3.0476527214050293\n",
      "Generator loss decrease : 1.8633623123168945(0.8869794011116028)\n",
      "Current lowest generator loss : 16.48693084716797\n",
      "Current Learning_rate : 0.00015000000000000001\n",
      "Elapsed_time : 7:12:47.493921\n",
      "}\n",
      "N/A% (0 of 6200) |                       | Elapsed Time: 0:00:00 ETA:  --:--:--"
     ]
    },
    {
     "name": "stdout",
     "output_type": "stream",
     "text": [
      "valid_loss : 0.2349698394536972 / 0.31904757022857666\n",
      "discriminator_loss : 0.4582171142101288\n",
      "generator_discriminator_loss : 0.007327642757445574\n",
      "train_f1_loss : 0.12826527655124664\n",
      "valid_f1_score : 0.5363337397575378\n",
      "current/min total_f1_loss = 0.16636822000145912 / 0.17596084997057915\n"
     ]
    },
    {
     "name": "stderr",
     "output_type": "stream",
     "text": [
      " 99% (6196 of 6200) |################### | Elapsed Time: 0:14:46 ETA:   0:00:00{\n",
      "2021-05-29 20:09:40,554 - train - INFO - \n",
      "Epoch : 28/40 (6.5)\n",
      "Discriminator_acces : 0.8693085307459677\n",
      "Mean generator loss : 14.44230842590332\n",
      "Max generator loss : 65.45317840576172\n",
      "Min generator loss : 3.2025327682495117\n",
      "Generator loss decrease : 2.0446224212646484(0.8759852647781372)\n",
      "Current lowest generator loss : 16.48693084716797\n",
      "Current Learning_rate : 0.00015000000000000001\n",
      "Elapsed_time : 7:27:47.100363\n",
      "}\n",
      "N/A% (0 of 6200) |                       | Elapsed Time: 0:00:00 ETA:  --:--:--"
     ]
    },
    {
     "name": "stdout",
     "output_type": "stream",
     "text": [
      "valid_loss : 0.2349698394536972 / 0.29484501481056213\n",
      "discriminator_loss : 0.424648642539978\n",
      "generator_discriminator_loss : 0.0063193305395543575\n",
      "train_f1_loss : 0.1270432323217392\n",
      "valid_f1_score : 0.5172603726387024\n",
      "current/min total_f1_loss = 0.16636822000145912 / 0.16899367794394493\n"
     ]
    },
    {
     "name": "stderr",
     "output_type": "stream",
     "text": [
      " 99% (6196 of 6200) |################### | Elapsed Time: 0:14:59 ETA:   0:00:00{\n",
      "2021-05-29 20:24:52,953 - train - INFO - \n",
      "Epoch : 29/40 (6.5)\n",
      "Discriminator_acces : 0.8885293283770161\n",
      "Mean generator loss : 14.445164680480957\n",
      "Max generator loss : 67.30007934570312\n",
      "Min generator loss : 2.594398021697998\n",
      "Generator loss decrease : 2.0417661666870117(0.8761584758758545)\n",
      "Current lowest generator loss : 16.48693084716797\n",
      "Current Learning_rate : 0.00015000000000000001\n",
      "Elapsed_time : 7:42:59.499342\n",
      "}\n",
      "N/A% (0 of 6200) |                       | Elapsed Time: 0:00:00 ETA:  --:--:--"
     ]
    },
    {
     "name": "stdout",
     "output_type": "stream",
     "text": [
      "valid_loss : 0.2349698394536972 / 0.2890796959400177\n",
      "discriminator_loss : 0.40239354968070984\n",
      "generator_discriminator_loss : 0.006911164615303278\n",
      "train_f1_loss : 0.12747837603092194\n",
      "valid_f1_score : 0.5678297281265259\n",
      "current/min total_f1_loss = 0.16636822000145912 / 0.16787870600819588\n"
     ]
    },
    {
     "name": "stderr",
     "output_type": "stream",
     "text": [
      " 99% (6196 of 6200) |################### | Elapsed Time: 0:14:48 ETA:   0:00:00{\n",
      "2021-05-29 20:39:54,754 - train - INFO - \n",
      "Epoch : 30/40 (6.5)\n",
      "Discriminator_acces : 0.8673899004536291\n",
      "Mean generator loss : 14.283970832824707\n",
      "Max generator loss : 66.37179565429688\n",
      "Min generator loss : 2.7938790321350098\n",
      "Generator loss decrease : 2.2029600143432617(0.8663814663887024)\n",
      "Current lowest generator loss : 16.48693084716797\n",
      "Current Learning_rate : 0.00015000000000000001\n",
      "Elapsed_time : 7:58:01.300087\n",
      "}\n",
      "N/A% (0 of 6200) |                       | Elapsed Time: 0:00:00 ETA:  --:--:--"
     ]
    },
    {
     "name": "stdout",
     "output_type": "stream",
     "text": [
      "valid_loss : 0.2349698394536972 / 0.3295799195766449\n",
      "discriminator_loss : 0.3787187337875366\n",
      "generator_discriminator_loss : 0.006411726586520672\n",
      "train_f1_loss : 0.1260102540254593\n",
      "valid_f1_score : 0.5509232878684998\n",
      "current/min total_f1_loss = 0.16636822000145912 / 0.1769026704132557\n"
     ]
    },
    {
     "name": "stderr",
     "output_type": "stream",
     "text": [
      " 99% (6196 of 6200) |################### | Elapsed Time: 0:14:57 ETA:   0:00:00{\n",
      "2021-05-29 20:55:05,413 - train - INFO - \n",
      "Epoch : 31/40 (6.5)\n",
      "Discriminator_acces : 0.8611925088205645\n",
      "Mean generator loss : 14.144805908203125\n",
      "Max generator loss : 64.3798828125\n",
      "Min generator loss : 2.7443690299987793\n",
      "Generator loss decrease : 2.3421249389648438(0.8579404950141907)\n",
      "Current lowest generator loss : 16.48693084716797\n",
      "Current Learning_rate : 0.00015000000000000001\n",
      "Elapsed_time : 8:13:11.959399\n",
      "}\n",
      "N/A% (0 of 6200) |                       | Elapsed Time: 0:00:00 ETA:  --:--:--"
     ]
    },
    {
     "name": "stdout",
     "output_type": "stream",
     "text": [
      "valid_loss : 0.2349698394536972 / 0.31518036127090454\n",
      "discriminator_loss : 0.3644028902053833\n",
      "generator_discriminator_loss : 0.006860119290649891\n",
      "train_f1_loss : 0.12483546137809753\n",
      "valid_f1_score : 0.5472740530967712\n",
      "current/min total_f1_loss = 0.16636822000145912 / 0.17242168635129929\n"
     ]
    },
    {
     "name": "stderr",
     "output_type": "stream",
     "text": [
      " 99% (6196 of 6200) |################### | Elapsed Time: 0:14:52 ETA:   0:00:00{\n",
      "2021-05-29 21:10:11,420 - train - INFO - \n",
      "Epoch : 32/40 (6.5)\n",
      "Discriminator_acces : 0.8807335244455645\n",
      "Mean generator loss : 13.934802055358887\n",
      "Max generator loss : 62.558956146240234\n",
      "Min generator loss : 2.829251766204834\n",
      "Generator loss decrease : 2.552128791809082(0.8452029228210449)\n",
      "Current lowest generator loss : 16.48693084716797\n",
      "Current Learning_rate : 0.00015000000000000001\n",
      "Elapsed_time : 8:28:17.966002\n",
      "}\n"
     ]
    },
    {
     "name": "stdout",
     "output_type": "stream",
     "text": [
      "valid_loss : 0.2349698394536972 / 0.2775869369506836\n",
      "discriminator_loss : 0.33786436915397644\n",
      "generator_discriminator_loss : 0.005980025976896286\n",
      "train_f1_loss : 0.12318410724401474\n",
      "valid_f1_score : 0.5688234567642212\n",
      "current/min total_f1_loss = 0.16636822000145912 / 0.16178481467068195\n"
     ]
    },
    {
     "name": "stderr",
     "output_type": "stream",
     "text": [
      "\r",
      "N/A% (0 of 6200) |                       | Elapsed Time: 0:00:00 ETA:  --:--:--"
     ]
    },
    {
     "name": "stdout",
     "output_type": "stream",
     "text": [
      "save weights\n"
     ]
    },
    {
     "name": "stderr",
     "output_type": "stream",
     "text": [
      " 99% (6196 of 6200) |################### | Elapsed Time: 0:14:45 ETA:   0:00:00{\n",
      "2021-05-29 21:25:10,391 - train - INFO - \n",
      "Epoch : 33/40 (7.0)\n",
      "Discriminator_acces : 0.8347849987399194\n",
      "Mean generator loss : 13.75440788269043\n",
      "Max generator loss : 58.77135467529297\n",
      "Min generator loss : 2.3614706993103027\n",
      "Generator loss decrease : 0.18039417266845703(0.9870544075965881)\n",
      "Current lowest generator loss : 13.934802055358887\n",
      "Current Learning_rate : 0.00016\n",
      "Elapsed_time : 8:43:16.937578\n",
      "}\n"
     ]
    },
    {
     "name": "stdout",
     "output_type": "stream",
     "text": [
      "valid_loss : 0.2775869369506836 / 0.2773141860961914\n",
      "discriminator_loss : 0.32254907488822937\n",
      "generator_discriminator_loss : 0.0052727325819432735\n",
      "train_f1_loss : 0.12157994508743286\n",
      "valid_f1_score : 0.5129518508911133\n",
      "current/min total_f1_loss = 0.16178481467068195 / 0.1605135053396225\n"
     ]
    },
    {
     "name": "stderr",
     "output_type": "stream",
     "text": [
      "\r",
      "N/A% (0 of 6200) |                       | Elapsed Time: 0:00:00 ETA:  --:--:--"
     ]
    },
    {
     "name": "stdout",
     "output_type": "stream",
     "text": [
      "save weights\n"
     ]
    },
    {
     "name": "stderr",
     "output_type": "stream",
     "text": [
      " 99% (6196 of 6200) |################### | Elapsed Time: 0:15:09 ETA:   0:00:00{\n",
      "2021-05-29 21:40:33,152 - train - INFO - \n",
      "Epoch : 34/40 (7.5)\n",
      "Discriminator_acces : 0.8426521547379032\n",
      "Mean generator loss : 13.719237327575684\n",
      "Max generator loss : 63.034637451171875\n",
      "Min generator loss : 2.6893248558044434\n",
      "Generator loss decrease : 0.035170555114746094(0.9974429607391357)\n",
      "Current lowest generator loss : 13.75440788269043\n",
      "Current Learning_rate : 0.00017\n",
      "Elapsed_time : 8:58:39.698501\n",
      "}\n",
      "N/A% (0 of 6200) |                       | Elapsed Time: 0:00:00 ETA:  --:--:--"
     ]
    },
    {
     "name": "stdout",
     "output_type": "stream",
     "text": [
      "valid_loss : 0.2773141860961914 / 0.2935654819011688\n",
      "discriminator_loss : 0.31486308574676514\n",
      "generator_discriminator_loss : 0.007774600759148598\n",
      "train_f1_loss : 0.12164139002561569\n",
      "valid_f1_score : 0.5091447234153748\n",
      "current/min total_f1_loss = 0.1605135053396225 / 0.16462241299450397\n"
     ]
    },
    {
     "name": "stderr",
     "output_type": "stream",
     "text": [
      " 99% (6196 of 6200) |################### | Elapsed Time: 0:14:53 ETA:   0:00:00{\n",
      "2021-05-29 21:55:39,530 - train - INFO - \n",
      "Epoch : 35/40 (7.5)\n",
      "Discriminator_acces : 0.8687466922883065\n",
      "Mean generator loss : 13.409438133239746\n",
      "Max generator loss : 59.080135345458984\n",
      "Min generator loss : 2.4552459716796875\n",
      "Generator loss decrease : 0.3449697494506836(0.974919319152832)\n",
      "Current lowest generator loss : 13.75440788269043\n",
      "Current Learning_rate : 0.00017\n",
      "Elapsed_time : 9:13:46.075492\n",
      "}\n",
      "N/A% (0 of 6200) |                       | Elapsed Time: 0:00:00 ETA:  --:--:--"
     ]
    },
    {
     "name": "stdout",
     "output_type": "stream",
     "text": [
      "valid_loss : 0.2773141860961914 / 0.335875928401947\n",
      "discriminator_loss : 0.2683829367160797\n",
      "generator_discriminator_loss : 0.007201764732599258\n",
      "train_f1_loss : 0.11895325779914856\n",
      "valid_f1_score : 0.5333371162414551\n",
      "current/min total_f1_loss = 0.1605135053396225 / 0.17318392544984818\n"
     ]
    },
    {
     "name": "stderr",
     "output_type": "stream",
     "text": [
      " 99% (6196 of 6200) |################### | Elapsed Time: 0:14:46 ETA:   0:00:00{\n",
      "2021-05-29 22:10:39,010 - train - INFO - \n",
      "Epoch : 36/40 (7.5)\n",
      "Discriminator_acces : 0.8461857358870968\n",
      "Mean generator loss : 13.472776412963867\n",
      "Max generator loss : 67.0655288696289\n",
      "Min generator loss : 2.3474574089050293\n",
      "Generator loss decrease : 0.2816314697265625(0.9795242547988892)\n",
      "Current lowest generator loss : 13.75440788269043\n",
      "Current Learning_rate : 0.00017\n",
      "Elapsed_time : 9:28:45.556063\n",
      "}\n"
     ]
    },
    {
     "name": "stdout",
     "output_type": "stream",
     "text": [
      "valid_loss : 0.2773141860961914 / 0.3559630215167999\n",
      "discriminator_loss : 0.2527335584163666\n",
      "generator_discriminator_loss : 0.005824401043355465\n",
      "train_f1_loss : 0.11989499628543854\n",
      "valid_f1_score : 0.44027945399284363\n",
      "current/min total_f1_loss = 0.1605135053396225 / 0.17891200259327888\n",
      "loss decrease.\n"
     ]
    },
    {
     "name": "stderr",
     "output_type": "stream",
     "text": [
      " 99% (6196 of 6200) |################### | Elapsed Time: 0:14:52 ETA:   0:00:00{\n",
      "2021-05-29 22:25:45,046 - train - INFO - \n",
      "Epoch : 37/40 (7.0)\n",
      "Discriminator_acces : 0.8451371912802419\n",
      "Mean generator loss : 13.684660911560059\n",
      "Max generator loss : 58.91211700439453\n",
      "Min generator loss : 2.6333606243133545\n",
      "Generator loss decrease : 0.0697469711303711(0.9949291348457336)\n",
      "Current lowest generator loss : 13.75440788269043\n",
      "Current Learning_rate : 0.00016\n",
      "Elapsed_time : 9:43:51.592161\n",
      "}\n"
     ]
    },
    {
     "name": "stdout",
     "output_type": "stream",
     "text": [
      "valid_loss : 0.2773141860961914 / 0.23739232122898102\n",
      "discriminator_loss : 0.33895185589790344\n",
      "generator_discriminator_loss : 0.005658207926899195\n",
      "train_f1_loss : 0.12113761901855469\n",
      "valid_f1_score : 0.559095025062561\n",
      "current/min total_f1_loss = 0.1605135053396225 / 0.15020129457116127\n"
     ]
    },
    {
     "name": "stderr",
     "output_type": "stream",
     "text": [
      "\r",
      "N/A% (0 of 6200) |                       | Elapsed Time: 0:00:00 ETA:  --:--:--"
     ]
    },
    {
     "name": "stdout",
     "output_type": "stream",
     "text": [
      "save weights\n"
     ]
    },
    {
     "name": "stderr",
     "output_type": "stream",
     "text": [
      " 99% (6196 of 6200) |################### | Elapsed Time: 0:15:00 ETA:   0:00:00{\n",
      "2021-05-29 22:40:59,321 - train - INFO - \n",
      "Epoch : 38/40 (7.5)\n",
      "Discriminator_acces : 0.8634447454637096\n",
      "Mean generator loss : 13.364004135131836\n",
      "Max generator loss : 68.0072021484375\n",
      "Min generator loss : 2.5207767486572266\n",
      "Generator loss decrease : 0.32065677642822266(0.9765681624412537)\n",
      "Current lowest generator loss : 13.684660911560059\n",
      "Current Learning_rate : 0.00017\n",
      "Elapsed_time : 9:59:05.867219\n",
      "}\n"
     ]
    },
    {
     "name": "stdout",
     "output_type": "stream",
     "text": [
      "valid_loss : 0.23739232122898102 / 0.30632483959198\n",
      "discriminator_loss : 0.28013521432876587\n",
      "generator_discriminator_loss : 0.006585691589862108\n",
      "train_f1_loss : 0.11857323348522186\n",
      "valid_f1_score : 0.4711536765098572\n",
      "current/min total_f1_loss = 0.15020129457116127 / 0.1655111350119114\n",
      "loss decrease.\n"
     ]
    },
    {
     "name": "stderr",
     "output_type": "stream",
     "text": [
      " 99% (6196 of 6200) |################### | Elapsed Time: 0:14:46 ETA:   0:00:00{\n",
      "2021-05-29 22:55:59,578 - train - INFO - \n",
      "Epoch : 39/40 (7.0)\n",
      "Discriminator_acces : 0.8661129662298387\n",
      "Mean generator loss : 13.58354377746582\n",
      "Max generator loss : 63.548919677734375\n",
      "Min generator loss : 2.3479647636413574\n",
      "Generator loss decrease : 0.10111713409423828(0.9926109313964844)\n",
      "Current lowest generator loss : 13.684660911560059\n",
      "Current Learning_rate : 0.00016\n",
      "Elapsed_time : 10:14:06.124040\n",
      "}\n"
     ]
    },
    {
     "name": "stdout",
     "output_type": "stream",
     "text": [
      "valid_loss : 0.23739232122898102 / 0.23762275278568268\n",
      "discriminator_loss : 0.281535804271698\n",
      "generator_discriminator_loss : 0.0055017611011862755\n",
      "train_f1_loss : 0.1204899325966835\n",
      "valid_f1_score : 0.5402778387069702\n",
      "current/min total_f1_loss = 0.15020129457116127 / 0.1497731376439333\n",
      "save weights\n"
     ]
    }
   ],
   "source": [
    "#gan.load_study_info()\n",
    "gan.start_epoch = 0\n",
    "gan.train(epochs=40, batch_size=batch_size, epoch_shuffle_term=10)"
   ]
  },
  {
   "cell_type": "code",
   "execution_count": null,
   "metadata": {
    "scrolled": true
   },
   "outputs": [],
   "source": [
    "# gan.load_study_info()\n",
    "# gan.start_epoch = 8\n",
    "gan.train(epochs=200, batch_size=batch_size, epoch_shuffle_term=50)\n",
    "# gan.train(epochs=20, batch_size=batch_size, epoch_shuffle_term=100)"
   ]
  },
  {
   "cell_type": "code",
   "execution_count": null,
   "metadata": {},
   "outputs": [],
   "source": [
    "gan.generator_losses[-4:]"
   ]
  },
  {
   "cell_type": "code",
   "execution_count": null,
   "metadata": {},
   "outputs": [],
   "source": [
    "gan.generator_losses"
   ]
  },
  {
   "cell_type": "code",
   "execution_count": null,
   "metadata": {},
   "outputs": [],
   "source": [
    "valid_patch = np.ones(\n",
    "    (gan.batch_size, *gan.disc_patch), dtype=np.float32)\n",
    "\n",
    "generator_loss = gan.combined.train_on_batch(\n",
    "    gan.original_img,\n",
    "    [valid_patch, gan.masked_img],\n",
    "    class_weight={0: 0.1, 1: 0.9}\n",
    ")"
   ]
  },
  {
   "cell_type": "code",
   "execution_count": null,
   "metadata": {},
   "outputs": [],
   "source": [
    "batch_i=0\n",
    "batch_index = gan.loaded_data_index[\"train\"][batch_i: batch_i +\n",
    "                                              gan.batch_size]"
   ]
  },
  {
   "cell_type": "code",
   "execution_count": null,
   "metadata": {
    "scrolled": true
   },
   "outputs": [],
   "source": [
    "np.mean(gan.generator_losses[batch_index]) > np.quantile(gan.generator_losses, 0.1)"
   ]
  },
  {
   "cell_type": "code",
   "execution_count": null,
   "metadata": {},
   "outputs": [],
   "source": [
    "# gan.load_study_info()\n",
    "#gan.start_epoch = 30\n",
    "# gan.start_epoch = 2 \n",
    "gan.train(epochs=325, batch_size=batch_size, epoch_shuffle_term=100)\n",
    "# gan.train(epochs=20, batch_size=batch_size, epoch_shuffle_term=100)"
   ]
  },
  {
   "cell_type": "code",
   "execution_count": null,
   "metadata": {},
   "outputs": [],
   "source": [
    "temp_weight = gan.generator.weights"
   ]
  },
  {
   "cell_type": "code",
   "execution_count": null,
   "metadata": {},
   "outputs": [],
   "source": [
    "for weight in temp_weight:\n",
    "    if \"dense\" in weight.name:\n",
    "        if \"bias\" in weight.name:\n",
    "            print(weight.name)\n",
    "            print(weight.numpy())\n"
   ]
  },
  {
   "cell_type": "code",
   "execution_count": null,
   "metadata": {},
   "outputs": [],
   "source": [
    "temp_weight = gan.discriminator.weights"
   ]
  },
  {
   "cell_type": "code",
   "execution_count": null,
   "metadata": {},
   "outputs": [],
   "source": [
    "for weight in temp_weight:\n",
    "    if \"dense\" in weight.name:\n",
    "        if \"bias\" in weight.name:\n",
    "            print(weight.name)\n",
    "            print(weight.numpy())\n"
   ]
  },
  {
   "cell_type": "code",
   "execution_count": null,
   "metadata": {},
   "outputs": [],
   "source": [
    "gan.original_img"
   ]
  },
  {
   "cell_type": "code",
   "execution_count": null,
   "metadata": {},
   "outputs": [],
   "source": [
    "np.max(gan.original_img.numpy())"
   ]
  },
  {
   "cell_type": "code",
   "execution_count": null,
   "metadata": {},
   "outputs": [],
   "source": [
    "np.min(gan.original_img.numpy())"
   ]
  },
  {
   "cell_type": "code",
   "execution_count": null,
   "metadata": {},
   "outputs": [],
   "source": [
    "(gan.original_img.numpy() + 1) * 127.5"
   ]
  },
  {
   "cell_type": "code",
   "execution_count": null,
   "metadata": {},
   "outputs": [],
   "source": [
    "image = gan.original_img.numpy()\n",
    "predicted = gan.generator.predict_on_batch(image)\n",
    "mask = gan.masked_img.numpy()\n",
    "\n",
    "image = ((image + 1) * 127.5).astype('uint8')\n",
    "predicted = ((predicted + 1) * 127.5).astype('uint8')\n",
    "mask = ((mask + 1) * 127.5).astype('uint8')"
   ]
  },
  {
   "cell_type": "code",
   "execution_count": null,
   "metadata": {},
   "outputs": [],
   "source": [
    "index = 0\n",
    "\n",
    "plt.figure(figsize=(15, 15))\n",
    "\n",
    "plt.subplot(131)\n",
    "plt.imshow(image[index])\n",
    "\n",
    "plt.subplot(132)\n",
    "plt.imshow(predicted[index])\n",
    "\n",
    "plt.subplot(133)\n",
    "plt.imshow(mask[index])\n"
   ]
  },
  {
   "cell_type": "code",
   "execution_count": null,
   "metadata": {},
   "outputs": [],
   "source": [
    "print(np.max(gan.original_img))\n",
    "print(np.min(gan.original_img))\n",
    "print(np.max(temp))\n",
    "print(np.min(temp))"
   ]
  },
  {
   "cell_type": "code",
   "execution_count": null,
   "metadata": {},
   "outputs": [],
   "source": [
    "temp = gan.data_loader.loaded_data_object[\"train\"].values()\n",
    "\n",
    "for index, (input_img, output_img) in enumerate(zip(*temp)):\n",
    "    print(index)\n",
    "    if index > 40:\n",
    "        break\n",
    "    print(index)\n",
    "    print(input_img.shape)\n",
    "    print(output_img.shape)\n",
    "    "
   ]
  },
  {
   "cell_type": "code",
   "execution_count": null,
   "metadata": {
    "scrolled": true
   },
   "outputs": [],
   "source": [
    "import time\n",
    "\n",
    "temp_source = gan.original_img\n",
    "temp_mask = gan.masked_img\n",
    "\n",
    "start_time = time.time()\n",
    "gan.generator.train_on_batch(temp_source, temp_mask)\n",
    "print(f\"elapsed time : {time.time() - start_time}\")\n",
    "\n",
    "temp_source = tf.convert_to_tensor(temp_source)\n",
    "temp_mask = tf.convert_to_tensor(temp_mask)\n",
    "\n",
    "start_time = time.time()\n",
    "gan.generator.train_on_batch(temp_source, temp_mask)\n",
    "print(f\"elapsed time : {time.time() - start_time}\")"
   ]
  },
  {
   "cell_type": "markdown",
   "metadata": {},
   "source": [
    "# Iterator : 260초\n",
    "# Queue Iterator : 200초"
   ]
  },
  {
   "cell_type": "code",
   "execution_count": null,
   "metadata": {},
   "outputs": [],
   "source": [
    "import time\n",
    "import threading\n",
    "from queue import Queue\n",
    "\n",
    "ITER_NUM = 620\n",
    "batch_size = 10\n",
    "\n",
    "gan.generator.compile(\n",
    "    loss=sm.losses.BinaryFocalLoss(),\n",
    "    optimizer=Nadam(gan.generator_learning_rate),\n",
    "    metrics=[\"accuracy\"],\n",
    ")\n",
    "\n",
    "def batch_setter(queue):\n",
    "    batch_i = 0\n",
    "    count = 0\n",
    "    while batch_i + gan.batch_size <= gan.data_loader.train_data_length and count < ITER_NUM:\n",
    "        \n",
    "        batch_index = gan.train_loaded_data_index[batch_i: batch_i +\n",
    "                                                   gan.batch_size]        \n",
    "        \n",
    "        batch_tuple = gan.data_loader.get_data(\n",
    "        data_mode=\"train\", index=batch_index)\n",
    "\n",
    "        queue.put(batch_tuple)\n",
    "        queue.join()\n",
    "        count += 1\n",
    "    \n",
    "def batch_getter(queue):\n",
    "    \n",
    "    original_img, masked_img = queue.get()\n",
    "    tensor_original_img = tf.convert_to_tensor(original_img)\n",
    "    tensor_masked_img = tf.convert_to_tensor(masked_img)\n",
    "    queue.task_done()\n",
    "    \n",
    "    return tensor_original_img, tensor_masked_img\n",
    "    \n",
    "def batch_trainer(original_img, masked_img):\n",
    "    \n",
    "    gan.generator.train_on_batch(temp_source, temp_mask)\n",
    "\n",
    "q = Queue()\n",
    "\n",
    "setter = threading.Thread(target=batch_setter, args=(q,),daemon=True)\n",
    "setter.start()\n",
    "start_time = time.time()\n",
    "for i in range(ITER_NUM):\n",
    "    tensor_original_img, tensor_masked_img = batch_getter(q)\n",
    "    \n",
    "    gan.generator.train_on_batch(tensor_original_img, tensor_masked_img)\n",
    "print(f\"elapsed time : {time.time() - start_time}\")"
   ]
  },
  {
   "cell_type": "code",
   "execution_count": null,
   "metadata": {},
   "outputs": [],
   "source": [
    "start_time = time.time()\n",
    "batch_i = 0\n",
    "count = 0\n",
    "while batch_i + gan.batch_size <= gan.data_loader.train_data_length and count < ITER_NUM:\n",
    "\n",
    "    batch_index = gan.train_loaded_data_index[batch_i: batch_i +\n",
    "                                               gan.batch_size]        \n",
    "    batch_tuple = gan.data_loader.get_data(\n",
    "    data_mode=\"train\", index=batch_index)\n",
    "    \n",
    "    gan.generator.train_on_batch(*batch_tuple)\n",
    "    \n",
    "    count += 1\n",
    "print(f\"elapsed time : {time.time() - start_time}\")"
   ]
  },
  {
   "cell_type": "code",
   "execution_count": null,
   "metadata": {},
   "outputs": [],
   "source": [
    "import cv2\n",
    "\n",
    "temp = tensor_masked_img\n",
    "print(type(temp))\n",
    "print(type(temp.numpy()))"
   ]
  },
  {
   "cell_type": "code",
   "execution_count": null,
   "metadata": {},
   "outputs": [],
   "source": [
    "isinstance(temp.numpy(), tf.Tensor)"
   ]
  },
  {
   "cell_type": "code",
   "execution_count": null,
   "metadata": {},
   "outputs": [],
   "source": [
    "from gan_module.model.build_model import build_dual_discriminator\n",
    "\n",
    "temp = build_dual_discriminator(\n",
    "            input_img_shape=(512,512,3),\n",
    "            output_img_shape=(512,512,1),\n",
    "            discriminator_power=1,\n",
    ")"
   ]
  },
  {
   "cell_type": "code",
   "execution_count": null,
   "metadata": {},
   "outputs": [],
   "source": [
    "import tensorflow as tf\n",
    "from tensorflow.keras.optimizers import Nadam\n",
    "\n",
    "temp.compile(\n",
    "    loss=[\n",
    "        tf.keras.losses.BinaryCrossentropy(label_smoothing=0.1),\n",
    "        tf.keras.losses.BinaryCrossentropy(label_smoothing=0.1)\n",
    "    ],\n",
    "    optimizer=Nadam(),\n",
    "    metrics=[\"accuracy\"],\n",
    ")"
   ]
  },
  {
   "cell_type": "code",
   "execution_count": null,
   "metadata": {
    "scrolled": true
   },
   "outputs": [],
   "source": [
    "import numpy as np\n",
    "\n",
    "image_mockup = np.ones((1,512,512,3))\n",
    "mask_mockup = np.ones((1,512,512,1))\n",
    "patch_mockup = np.ones((1,8,8,1))\n",
    "\n",
    "temp.test_on_batch([image_mockup, mask_mockup], [patch_mockup, patch_mockup])"
   ]
  },
  {
   "cell_type": "code",
   "execution_count": null,
   "metadata": {},
   "outputs": [],
   "source": []
  }
 ],
 "metadata": {
  "kernelspec": {
   "display_name": "Python 3",
   "language": "python",
   "name": "python3"
  },
  "language_info": {
   "codemirror_mode": {
    "name": "ipython",
    "version": 3
   },
   "file_extension": ".py",
   "mimetype": "text/x-python",
   "name": "python",
   "nbconvert_exporter": "python",
   "pygments_lexer": "ipython3",
   "version": "3.8.5"
  }
 },
 "nbformat": 4,
 "nbformat_minor": 4
}
